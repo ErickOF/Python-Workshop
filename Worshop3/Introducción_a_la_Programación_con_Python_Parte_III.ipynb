{
  "nbformat": 4,
  "nbformat_minor": 0,
  "metadata": {
    "colab": {
      "name": "Introducción a la Programación con Python - Parte III.ipynb",
      "provenance": [],
      "collapsed_sections": []
    },
    "kernelspec": {
      "name": "python3",
      "display_name": "Python 3"
    }
  },
  "cells": [
    {
      "cell_type": "markdown",
      "metadata": {
        "id": "gemaoyUX41dQ",
        "colab_type": "text"
      },
      "source": [
        "# Recursividad o Recursion"
      ]
    },
    {
      "cell_type": "markdown",
      "metadata": {
        "id": "LmzM101z5CYn",
        "colab_type": "text"
      },
      "source": [
        "## Pila"
      ]
    },
    {
      "cell_type": "markdown",
      "metadata": {
        "id": "IozikEjy43le",
        "colab_type": "text"
      },
      "source": [
        "$\\sum_{i=0}^{n}{i} = 0 + 1 + 2 + 3 + ... + n$"
      ]
    },
    {
      "cell_type": "code",
      "metadata": {
        "id": "gAjtCnXu4o1G",
        "colab_type": "code",
        "colab": {}
      },
      "source": [
        "\"\"\"\n",
        "sumatoria(5)\n",
        "5 + sumatoria(4)\n",
        "5 + 4 + sumatoria(3)\n",
        "5 + 4 + 3 + sumatoria(2)\n",
        "5 + 4 + 3 + 2 + sumatoria(1)\n",
        "5 + 4 + 3 + 2 + 1 + sumatoria(0)\n",
        "5 + 4 + 3 + 2 + 1 + 0\n",
        "5 + 4 + 3 + 2 + 1\n",
        "5 + 4 + 3 + 3\n",
        "5 + 4 + 6\n",
        "5 + 10\n",
        "15\n",
        "\n",
        ">>> 15\n",
        "\"\"\"\n",
        "def sumatoria(num):\n",
        "    print(num)\n",
        "    if num == 0:\n",
        "        return 0\n",
        "    return num + sumatoria(num - 1)"
      ],
      "execution_count": 0,
      "outputs": []
    },
    {
      "cell_type": "code",
      "metadata": {
        "id": "L1SgLLE44-T3",
        "colab_type": "code",
        "colab": {
          "base_uri": "https://localhost:8080/",
          "height": 136
        },
        "outputId": "d84715f9-2e58-461b-9b52-71adbddf5a89"
      },
      "source": [
        "sumatoria(5)"
      ],
      "execution_count": 2,
      "outputs": [
        {
          "output_type": "stream",
          "text": [
            "5\n",
            "4\n",
            "3\n",
            "2\n",
            "1\n",
            "0\n"
          ],
          "name": "stdout"
        },
        {
          "output_type": "execute_result",
          "data": {
            "text/plain": [
              "15"
            ]
          },
          "metadata": {
            "tags": []
          },
          "execution_count": 2
        }
      ]
    },
    {
      "cell_type": "code",
      "metadata": {
        "id": "LWaIsmS-5HbS",
        "colab_type": "code",
        "colab": {}
      },
      "source": [
        "\"\"\"\n",
        "crearSequencia(3)\n",
        "[3] + crearSequencia(2)\n",
        "[3] + [2] + crearSequencia(1)\n",
        "[3] + [2] + [1] + crearSequencia(0)\n",
        "[3] + [2] + [1] + [0]\n",
        "[3] + [2] + [1, 0]\n",
        "[3] + [2, 1, 0]\n",
        "[3, 2, 1, 0]\n",
        "\"\"\"\n",
        "def crearSequencia(num):\n",
        "    if (num == 0):\n",
        "        return [0]\n",
        "    return [num] + crearSequencia(num - 1)"
      ],
      "execution_count": 0,
      "outputs": []
    },
    {
      "cell_type": "code",
      "metadata": {
        "id": "YlNKrHgS5L19",
        "colab_type": "code",
        "colab": {
          "base_uri": "https://localhost:8080/",
          "height": 34
        },
        "outputId": "f94697e1-a7ed-447a-9b82-083f183ce7e2"
      },
      "source": [
        "crearSequencia(3)"
      ],
      "execution_count": 4,
      "outputs": [
        {
          "output_type": "execute_result",
          "data": {
            "text/plain": [
              "[3, 2, 1, 0]"
            ]
          },
          "metadata": {
            "tags": []
          },
          "execution_count": 4
        }
      ]
    },
    {
      "cell_type": "code",
      "metadata": {
        "id": "59CX811L5M-R",
        "colab_type": "code",
        "colab": {}
      },
      "source": [
        "import random\n",
        "\n",
        "def crearFila(cols):\n",
        "    if (cols == 0):\n",
        "        return []\n",
        "    return crearFila(cols - 1) + [random.randint(0, 9)]\n",
        "\n",
        "def crearMatriz(filas, cols):\n",
        "    if filas == 0:\n",
        "        return []\n",
        "    else:\n",
        "        return [crearFila(cols)] + crearMatriz(filas - 1, cols)"
      ],
      "execution_count": 0,
      "outputs": []
    },
    {
      "cell_type": "code",
      "metadata": {
        "id": "arA7ZE4U5QMl",
        "colab_type": "code",
        "colab": {
          "base_uri": "https://localhost:8080/",
          "height": 34
        },
        "outputId": "abdf12f8-b8cc-4bd3-9ecf-c122fb6a59ea"
      },
      "source": [
        "\"\"\"\n",
        "crearMatriz(2, 3)\n",
        "[crearFila(3)] + crearMatriz(1, 3)\n",
        "[crearFila(2) + [3]] + crearMatriz(1, 3)\n",
        "[crearFila(1) + [4] + [3]] + crearMatriz(1, 3)\n",
        "[crearFila(0) + [4] + [4] + [3]] + crearMatriz(1, 3)\n",
        "[[] + [4] + [4] + [3]] + crearMatriz(1, 3)\n",
        "[[4, 4, 3]] + crearMatriz(1, 3)\n",
        "[[4, 4, 3]] + [crearFila(3)] + crearMatriz(0, 3)\n",
        "[[4, 4, 3]] + [[5, 2, 1]] + crearMatriz(0, 3)\n",
        "[[4, 4, 3]] + [[5, 2, 1]] + []\n",
        "[[4, 4, 3]] + [[5, 2, 1]]\n",
        "[[4, 4, 3], [5, 2, 1]]\n",
        ">>> [[4, 4, 3], [5, 2, 1]]\n",
        "\"\"\"\n",
        "crearMatriz(2, 3)"
      ],
      "execution_count": 6,
      "outputs": [
        {
          "output_type": "execute_result",
          "data": {
            "text/plain": [
              "[[0, 8, 4], [9, 0, 3]]"
            ]
          },
          "metadata": {
            "tags": []
          },
          "execution_count": 6
        }
      ]
    },
    {
      "cell_type": "markdown",
      "metadata": {
        "id": "O44eW-OE5uUE",
        "colab_type": "text"
      },
      "source": [
        "## Cola"
      ]
    },
    {
      "cell_type": "markdown",
      "metadata": {
        "id": "dabB-_qJ-Lji",
        "colab_type": "text"
      },
      "source": [
        "$\\sum_{i=0}^{n}{i} = 0 + 1 + 2 + 3 + ... + n$"
      ]
    },
    {
      "cell_type": "code",
      "metadata": {
        "id": "l2H5Gv_L-HjP",
        "colab_type": "code",
        "colab": {}
      },
      "source": [
        "def sumatoria(num):\n",
        "    return sumatoria_aux(num, 0)\n",
        "\n",
        "def sumatoria_aux(num, resultado):\n",
        "    if num == 0:\n",
        "        return resultado\n",
        "    else:\n",
        "        return sumatoria_aux(num - 1, resultado + num)"
      ],
      "execution_count": 0,
      "outputs": []
    },
    {
      "cell_type": "code",
      "metadata": {
        "id": "U0GRMQzu_EoH",
        "colab_type": "code",
        "colab": {
          "base_uri": "https://localhost:8080/",
          "height": 34
        },
        "outputId": "556d12a1-f9ee-46e9-b963-4d23c48e0d09"
      },
      "source": [
        "\"\"\"\n",
        "sumatoria(5)\n",
        "sumatoria_aux(5, 0)\n",
        "sumatoria_aux(5 - 1, 0 + 5) -> sumatoria_aux(4, 5)\n",
        "sumatoria_aux(4 - 1, 5 + 4) -> sumatoria_aux(3, 9)\n",
        "sumatoria_aux(3 - 1, 9 + 3) -> sumatoria_aux(2, 12)\n",
        "sumatoria_aux(2 - 1, 12 + 2) -> sumatoria_aux(1, 14)\n",
        "sumatoria_aux(1 - 1, 14 + 1) -> sumatoria_aux(0, 15)\n",
        ">>> 15\n",
        "\"\"\"\n",
        "sumatoria(5)"
      ],
      "execution_count": 12,
      "outputs": [
        {
          "output_type": "execute_result",
          "data": {
            "text/plain": [
              "15"
            ]
          },
          "metadata": {
            "tags": []
          },
          "execution_count": 12
        }
      ]
    },
    {
      "cell_type": "code",
      "metadata": {
        "id": "H7uZTZx6AH8D",
        "colab_type": "code",
        "colab": {}
      },
      "source": [
        "def sumatoria(num, resultado=0):\n",
        "    if num == 0:\n",
        "        return resultado\n",
        "    else:\n",
        "        return sumatoria(num - 1, resultado + num)"
      ],
      "execution_count": 0,
      "outputs": []
    },
    {
      "cell_type": "code",
      "metadata": {
        "id": "pmf2sghfAYwa",
        "colab_type": "code",
        "colab": {
          "base_uri": "https://localhost:8080/",
          "height": 34
        },
        "outputId": "6f3ad6ce-92df-4e04-8501-210e1f1918aa"
      },
      "source": [
        "sumatoria(5)"
      ],
      "execution_count": 16,
      "outputs": [
        {
          "output_type": "execute_result",
          "data": {
            "text/plain": [
              "15"
            ]
          },
          "metadata": {
            "tags": []
          },
          "execution_count": 16
        }
      ]
    },
    {
      "cell_type": "code",
      "metadata": {
        "id": "qTy6810wAofk",
        "colab_type": "code",
        "colab": {}
      },
      "source": [
        "def crearSecuenciaNumerica(num, resultado=[]):\n",
        "    if num == 0:\n",
        "        return [0] + resultado\n",
        "    else:\n",
        "        # resultado.insert(0, num)\n",
        "        # return crearSecuenciaNumerica(num - 1, resultado)\n",
        "        return crearSecuenciaNumerica(num - 1, [num] + resultado)"
      ],
      "execution_count": 0,
      "outputs": []
    },
    {
      "cell_type": "code",
      "metadata": {
        "id": "dWTaV-FrBH2V",
        "colab_type": "code",
        "colab": {
          "base_uri": "https://localhost:8080/",
          "height": 34
        },
        "outputId": "15fc850e-abe3-4e29-8d1e-6b0f0f72e1bf"
      },
      "source": [
        "\"\"\"\n",
        "crearSecuenciaNumerica(3) -> crearSecuenciaNumerica(3, [])\n",
        "crearSecuenciaNumerica(3 - 1, [3] + []) -> crearSecuenciaNumerica(2, [3])\n",
        "crearSecuenciaNumerica(2 - 1, [2] + [3]) -> crearSecuenciaNumerica(1, [2, 3])\n",
        "crearSecuenciaNumerica(1 - 1, [1] + [2, 3]) -> crearSecuenciaNumerica(0, [1, 2, 3])\n",
        "[0] + [1, 2, 3]\n",
        ">>> [0, 1, 2, 3]\n",
        "\"\"\"\n",
        "crearSecuenciaNumerica(3)"
      ],
      "execution_count": 29,
      "outputs": [
        {
          "output_type": "execute_result",
          "data": {
            "text/plain": [
              "[0, 1, 2, 3]"
            ]
          },
          "metadata": {
            "tags": []
          },
          "execution_count": 29
        }
      ]
    },
    {
      "cell_type": "markdown",
      "metadata": {
        "id": "Ebm10vl0CgQN",
        "colab_type": "text"
      },
      "source": [
        "# **POO**\n",
        "## **Programación Orientada a Objetos**\n",
        "\n",
        "[Más información](https://docs.python.org/3/reference/datamodel.html)"
      ]
    },
    {
      "cell_type": "markdown",
      "metadata": {
        "id": "ZaXVXRtUC6r6",
        "colab_type": "text"
      },
      "source": [
        "```python\n",
        "class NombreClase:\n",
        "    def __init__(self, [,args...]) -> None:\n",
        "        # Atributos: Caracteristicas\n",
        "\n",
        "    # print(obj)\n",
        "    def __str__(self) -> str:\n",
        "        return 'Algo'\n",
        "```"
      ]
    },
    {
      "cell_type": "code",
      "metadata": {
        "id": "39V9V3E8CmHB",
        "colab_type": "code",
        "colab": {}
      },
      "source": [
        "import random\n",
        "\n",
        "ids = []\n",
        "\n",
        "class Persona:\n",
        "    # Constructor de la clase\n",
        "    def __init__(self, pnombre, papellido, pedad, pcedula, plugar):\n",
        "        # Atributos o Caracteristicas\n",
        "        correcto = False\n",
        "        while not correcto:\n",
        "            _id = random.randint(0, 1000000)\n",
        "            if _id not in ids:\n",
        "                self._id = _id\n",
        "                ids.append(_id)\n",
        "                correcto = True\n",
        "\n",
        "        self.nombre = pnombre\n",
        "        self.apellido = papellido\n",
        "        self.edad = pedad\n",
        "        self.cedula = pcedula\n",
        "        self.lugar = plugar\n",
        "    \n",
        "    # Metodos -> Las acciones que puede realizar el objeto\n",
        "    def presentarse(self):\n",
        "        print('Mi id es:', self._id)\n",
        "        print('Mi nombre es:', self.nombre)\n",
        "        print('Mi apellido es:', self.apellido)\n",
        "        print('Mi edad es:', self.edad)\n",
        "        print('Mi cedula es:', self.cedula)\n",
        "        print('Mi lugar de nacimiento es:', self.lugar)\n",
        "    \n",
        "    # Se llamada cuando se ejecuta un print\n",
        "    def __str__(self) -> str: # Devuelve un str 3.8 <= x\n",
        "        info = 'Mi nombre es: ' + self.nombre + '\\n'\n",
        "        info = info + 'Mi apellido es: ' + self.apellido + '\\n'\n",
        "        info = info + 'Mi edad es: ' + str(self.edad) + '\\n'\n",
        "        info = info + 'Mi cedula es: ' + str(self.cedula) + '\\n'\n",
        "        info = info + 'Mi lugar de nacimiento es: ' + self.lugar\n",
        "        return info"
      ],
      "execution_count": 0,
      "outputs": []
    },
    {
      "cell_type": "code",
      "metadata": {
        "id": "EvpgJFaRDU-Z",
        "colab_type": "code",
        "colab": {
          "base_uri": "https://localhost:8080/",
          "height": 119
        },
        "outputId": "462306f7-696a-46a6-ab37-6fd8fc1d40ea"
      },
      "source": [
        "personaErick = Persona('Erick', 'Obregon', 22, 309470457, 'Cartago')\n",
        "personaErick.presentarse()"
      ],
      "execution_count": 80,
      "outputs": [
        {
          "output_type": "stream",
          "text": [
            "Mi id es: 988018\n",
            "Mi nombre es: Erick\n",
            "Mi apellido es: Obregon\n",
            "Mi edad es: 22\n",
            "Mi cedula es: 309470457\n",
            "Mi lugar de nacimiento es: Cartago\n"
          ],
          "name": "stdout"
        }
      ]
    },
    {
      "cell_type": "code",
      "metadata": {
        "id": "mxCR319KDn9e",
        "colab_type": "code",
        "colab": {
          "base_uri": "https://localhost:8080/",
          "height": 119
        },
        "outputId": "fcf27c37-1b8a-4d87-9111-60c396149ba8"
      },
      "source": [
        "personaAndres = Persona('Andres', 'Fonseca', 30, 107460826, 'SJ')\n",
        "personaAndres.presentarse()"
      ],
      "execution_count": 81,
      "outputs": [
        {
          "output_type": "stream",
          "text": [
            "Mi id es: 590358\n",
            "Mi nombre es: Andres\n",
            "Mi apellido es: Fonseca\n",
            "Mi edad es: 30\n",
            "Mi cedula es: 107460826\n",
            "Mi lugar de nacimiento es: SJ\n"
          ],
          "name": "stdout"
        }
      ]
    },
    {
      "cell_type": "code",
      "metadata": {
        "id": "Sn6Ptm5BFShk",
        "colab_type": "code",
        "colab": {
          "base_uri": "https://localhost:8080/",
          "height": 34
        },
        "outputId": "d2189928-ad2f-49cb-c2b7-d81c8300aa6f"
      },
      "source": [
        "num = 2\n",
        "print(num)"
      ],
      "execution_count": 39,
      "outputs": [
        {
          "output_type": "stream",
          "text": [
            "2\n"
          ],
          "name": "stdout"
        }
      ]
    },
    {
      "cell_type": "code",
      "metadata": {
        "id": "di1kig6jFUr4",
        "colab_type": "code",
        "colab": {
          "base_uri": "https://localhost:8080/",
          "height": 102
        },
        "outputId": "24a7895f-6ad9-41e3-9047-b272c41c1f9f"
      },
      "source": [
        "print(personaErick)"
      ],
      "execution_count": 82,
      "outputs": [
        {
          "output_type": "stream",
          "text": [
            "Mi nombre es: Erick\n",
            "Mi apellido es: Obregon\n",
            "Mi edad es: 22\n",
            "Mi cedula es: 309470457\n",
            "Mi lugar de nacimiento es: Cartago\n"
          ],
          "name": "stdout"
        }
      ]
    },
    {
      "cell_type": "code",
      "metadata": {
        "id": "vIeDY4iNGWKp",
        "colab_type": "code",
        "colab": {}
      },
      "source": [
        "class Clase:\n",
        "    def __init__(self):\n",
        "        self.cadena = ''\n",
        "        self.lista = []\n",
        "        self.tupla = (,)\n",
        "        self.diccionario = {}\n",
        "        self.numero = 0"
      ],
      "execution_count": 0,
      "outputs": []
    },
    {
      "cell_type": "code",
      "metadata": {
        "id": "mRshGLwSJDnz",
        "colab_type": "code",
        "colab": {
          "base_uri": "https://localhost:8080/",
          "height": 136
        },
        "outputId": "19447a33-b226-481b-f1b0-3ba8818b5609"
      },
      "source": [
        "personaErick.edad += 1\n",
        "print(personaErick.edad)\n",
        "personaErick.presentarse()"
      ],
      "execution_count": 54,
      "outputs": [
        {
          "output_type": "stream",
          "text": [
            "24\n",
            "Mi id es: 55060\n",
            "Mi nombre es: Erick\n",
            "Mi apellido es: Obregon\n",
            "Mi edad es: 24\n",
            "Mi cedula es: 309470457\n",
            "Mi lugar de nacimiento es: Cartago\n"
          ],
          "name": "stdout"
        }
      ]
    },
    {
      "cell_type": "code",
      "metadata": {
        "id": "8ORFrBUwJPYz",
        "colab_type": "code",
        "colab": {}
      },
      "source": [
        "class Loro:\n",
        "    def __init__(self, nombre, especie):\n",
        "        # Privados __\n",
        "        self.__nombre = nombre\n",
        "        self.__especie = especie\n",
        "    \n",
        "    # Get y set\n",
        "    def getNombre(self):\n",
        "        return self.__nombre\n",
        "\n",
        "    def getEspecie(self):\n",
        "        return self.__especie\n",
        "    \n",
        "    def setNombre(self, nuevoNombre):\n",
        "        self.__nombre = nuevoNombre"
      ],
      "execution_count": 0,
      "outputs": []
    },
    {
      "cell_type": "code",
      "metadata": {
        "id": "YR4iFO5ZJpAx",
        "colab_type": "code",
        "colab": {}
      },
      "source": [
        "loro = Loro('Juanico', 'Pajaro azul')"
      ],
      "execution_count": 0,
      "outputs": []
    },
    {
      "cell_type": "code",
      "metadata": {
        "id": "HUPF71HnJtxl",
        "colab_type": "code",
        "colab": {
          "base_uri": "https://localhost:8080/",
          "height": 34
        },
        "outputId": "380d76b4-82b4-4d83-a67d-bb0907c90aef"
      },
      "source": [
        "loro.setNombre('Pancho')\n",
        "loro.getNombre()"
      ],
      "execution_count": 74,
      "outputs": [
        {
          "output_type": "execute_result",
          "data": {
            "text/plain": [
              "'Pancho'"
            ]
          },
          "metadata": {
            "tags": []
          },
          "execution_count": 74
        }
      ]
    },
    {
      "cell_type": "code",
      "metadata": {
        "id": "yKTuimc6KUO8",
        "colab_type": "code",
        "colab": {
          "base_uri": "https://localhost:8080/",
          "height": 34
        },
        "outputId": "4edd1282-e83c-4d70-c3d6-7b933ec0bc43"
      },
      "source": [
        "loro.getEspecie()"
      ],
      "execution_count": 75,
      "outputs": [
        {
          "output_type": "execute_result",
          "data": {
            "text/plain": [
              "'Pajaro azul'"
            ]
          },
          "metadata": {
            "tags": []
          },
          "execution_count": 75
        }
      ]
    },
    {
      "cell_type": "code",
      "metadata": {
        "id": "aLycLYcqKtOG",
        "colab_type": "code",
        "colab": {}
      },
      "source": [
        "class Clase1:\n",
        "    class Clase2:\n",
        "        def __init__(self):\n",
        "            pass\n",
        "    \n",
        "    def __init(self):\n",
        "        pass"
      ],
      "execution_count": 0,
      "outputs": []
    },
    {
      "cell_type": "code",
      "metadata": {
        "id": "SRBfmbtLLdLr",
        "colab_type": "code",
        "colab": {}
      },
      "source": [
        "# El nombre de las clase siempre inicia en mayuscula\n",
        "# Siempre son nombres de objectos tangibles\n",
        "# Siempre son en singular\n",
        "class Carro:\n",
        "    # Siempre lleva el self\n",
        "    def __init__(self, marca, modelo, year, turbo):\n",
        "        \"\"\"Clase Carro\n",
        "\n",
        "        Parametros:\n",
        "            marca - marca del carro\n",
        "            modelo - modelo del carro\n",
        "            year - cuando fue lanzado\n",
        "            turbo - True si tiene turbo y False en caso contrario\n",
        "        \"\"\"\n",
        "        self.__marca = marca\n",
        "        self.__modelo = modelo\n",
        "        self.__year = __year\n",
        "        self.__turbo = turbo\n",
        "        self.__encendido = False\n",
        "    \n",
        "    # Get\n",
        "    def getMarca(self):\n",
        "        return self.__marca\n",
        "    \n",
        "    # Set\n",
        "    def setMarca(self, nuevaMarca):\n",
        "        self.__marca = nuevaMarca\n",
        "    \n",
        "    # Metodos o acciones que realiza la clase\n",
        "    # Infinitivo\n",
        "    def arrancar(self):\n",
        "        self.__encendido = True\n",
        "    \n",
        "    def apagar(self):\n",
        "        self.__encendido = False\n",
        "    \n",
        "    def estaEncendido(self):\n",
        "        return self.__encendido\n",
        "    \n",
        "    def estaApagado(self):\n",
        "        return not self.__encendido"
      ],
      "execution_count": 0,
      "outputs": []
    },
    {
      "cell_type": "markdown",
      "metadata": {
        "id": "eN0o-UKWNb7N",
        "colab_type": "text"
      },
      "source": [
        "# Herencia"
      ]
    },
    {
      "cell_type": "code",
      "metadata": {
        "id": "iY-yUZE7NbBt",
        "colab_type": "code",
        "colab": {}
      },
      "source": [
        "class Persona:\n",
        "    # Constructor de la clase\n",
        "    def __init__(self, nombre, apellido, edad, cedula, lugar):\n",
        "        self.__nombre = nombre\n",
        "        self.__apellido = apellido\n",
        "        self.__edad = edad\n",
        "        self.__cedula = cedula\n",
        "        self.__lugar = lugar\n",
        "    \n",
        "    # Se llamada cuando se ejecuta un print\n",
        "    def __str__(self) -> str: # Devuelve un str 3.8 <= x\n",
        "        info = 'Mi nombre es: ' + self.__nombre + '\\n'\n",
        "        info = info + 'Mi apellido es: ' + self.__apellido + '\\n'\n",
        "        info = info + 'Mi edad es: ' + str(self.__edad) + '\\n'\n",
        "        info = info + 'Mi cedula es: ' + str(self.__cedula) + '\\n'\n",
        "        info = info + 'Mi lugar de nacimiento es: ' + self.__lugar\n",
        "        return info\n",
        "    \n",
        "    def getNombre(self):\n",
        "        return self.__nombre\n",
        "    \n",
        "    def setNombre(self, nuevoNombre):\n",
        "        self.__nombre = nuevoNombre"
      ],
      "execution_count": 0,
      "outputs": []
    },
    {
      "cell_type": "code",
      "metadata": {
        "id": "4UIMAmkZN1dB",
        "colab_type": "code",
        "colab": {}
      },
      "source": [
        "class Estudiante(Persona):\n",
        "    def __init__(self, nombre, apellido, edad, cedula, lugar, carnet, escuela):\n",
        "        super(Estudiante, self).__init__(nombre, apellido, edad, cedula, lugar)\n",
        "        self.__carnet = carnet\n",
        "        self.__escuela = escuela\n",
        "\n",
        "    def __str__(self):\n",
        "        info = super().__str__() + '\\n'\n",
        "        info = info + 'Mi carnet es: ' + str(self.__carnet) + '\\n'\n",
        "        info = info + 'Mi escuela es: ' + self.__escuela\n",
        "        return info"
      ],
      "execution_count": 0,
      "outputs": []
    },
    {
      "cell_type": "code",
      "metadata": {
        "id": "JvLSZruLOhr2",
        "colab_type": "code",
        "colab": {
          "base_uri": "https://localhost:8080/",
          "height": 119
        },
        "outputId": "fb22db5d-7a54-4b7f-c1ed-186a113d25ec"
      },
      "source": [
        "persona = Persona('Erick', 'Obregon', 22, 309470457, 'Cartago')\n",
        "print(persona)\n",
        "print(persona.getNombre())"
      ],
      "execution_count": 101,
      "outputs": [
        {
          "output_type": "stream",
          "text": [
            "Mi nombre es: Erick\n",
            "Mi apellido es: Obregon\n",
            "Mi edad es: 22\n",
            "Mi cedula es: 309470457\n",
            "Mi lugar de nacimiento es: Cartago\n",
            "Erick\n"
          ],
          "name": "stdout"
        }
      ]
    },
    {
      "cell_type": "code",
      "metadata": {
        "id": "bKnhcdD9OuQf",
        "colab_type": "code",
        "colab": {
          "base_uri": "https://localhost:8080/",
          "height": 136
        },
        "outputId": "3984db9c-e50a-40af-9a22-3552148f92b3"
      },
      "source": [
        "estudiante = Estudiante('Erick', 'Obregon', 22, 309470457, 'Cartago', 2016123157, 'TEC')\n",
        "print(estudiante)"
      ],
      "execution_count": 111,
      "outputs": [
        {
          "output_type": "stream",
          "text": [
            "Mi nombre es: Erick\n",
            "Mi apellido es: Obregon\n",
            "Mi edad es: 22\n",
            "Mi cedula es: 309470457\n",
            "Mi lugar de nacimiento es: Cartago\n",
            "Mi carnet es: 2016123157\n",
            "Mi escuela es: TEC\n"
          ],
          "name": "stdout"
        }
      ]
    },
    {
      "cell_type": "markdown",
      "metadata": {
        "id": "yJTxR5rFRFZb",
        "colab_type": "text"
      },
      "source": [
        "## Sobre carga de operadores"
      ]
    },
    {
      "cell_type": "markdown",
      "metadata": {
        "id": "WU_3GlTQkayU",
        "colab_type": "text"
      },
      "source": [
        "### **Sobrecarga de Métodos Base** \n",
        "Algunas funcionalidades genéricas que pueden ser sobre cargadas\n",
        "\n",
        "| Sr.No. | Method, Description & Sample Call |\n",
        "|--------|-----------------------------------|\n",
        "|   1    | \\_\\_init\\_\\_(self [,args...]) <br> Constructor (with any optional arguments <br> Sample Call : obj = className(args) |\n",
        "|   2    | \\_\\_del\\_\\_(self) <br> Destructor, deletes an object <br> Sample Call : del obj |\n",
        "|   3    | \\_\\_repr\\_\\_(self) <br> Evaluatable string representation <br> Sample Call : repr(obj) |\n",
        "|   4    | \\_\\_str\\_\\_(self) <br> Printable string representation <br> Sample Call : str(obj) |\n",
        "|   5    | \\_\\_cmp\\_\\_(self, x) <br> Object comparison <br> Sample Call : cmp(obj, x)\n",
        "\n",
        "### **Operadores**\n",
        "| **Operator** | **Method** |\n",
        "| ------------ | ---------- |\n",
        "|     a + b    | \\_\\_add\\_\\_(self, other) |\n",
        "|     a - b    | \\_\\_sub\\_\\_(self, other) |\n",
        "|     a * b    | \\_\\_mul\\_\\_(self, other) |\n",
        "|     a @ b    | \\_\\_matmul\\_\\_(self, other) |\n",
        "|     a \\   b  | \\_\\_truediv\\_\\_(self, other) |\n",
        "|     a \\\\ b   |   \\_\\_floordiv\\_\\_(self, other)    |\n",
        "|     a % b    |      \\_\\_mod\\_\\_(self, other)      |\n",
        "| divmod(a, b) |    \\_\\_divmod\\_\\_(self, other)     |\n",
        "|     a ** b   | \\_\\_pow\\_\\_(self, other[, modulo]) |\n",
        "|     a << b   | \\_\\_lshift\\_\\_(self, other) |\n",
        "|     a >> b   |  \\_\\_rshift\\_\\_(self, other) |\n",
        "|     a & b    |  \\_\\_and\\_\\_(self, other) |\n",
        "|     a ^ b    |  \\_\\_xor\\_\\_(self, other) |\n",
        "|     a ~ b    |  \\_\\_or\\_\\_(self, other) |"
      ]
    },
    {
      "cell_type": "code",
      "metadata": {
        "id": "8Y6sAnCeREyF",
        "colab_type": "code",
        "colab": {}
      },
      "source": [
        "class Rectangulo:\n",
        "    def __init__(self, base, altura):\n",
        "        self.__base = base\n",
        "        self.__altura = altura\n",
        "    \n",
        "    def getBase(self):\n",
        "        return self.__base\n",
        "\n",
        "    def getAltura(self):\n",
        "        return self.__altura\n",
        "    \n",
        "    def __str__(self):\n",
        "        return \"<Base: \" + str(self.__base) + \", Altura: \" + str(self.__altura) + \">\"\n",
        "    \n",
        "    # self -> primer rectangulo antes del +\n",
        "    # rectangulo -> rectangulo despues del +\n",
        "    def __add__(self, rectangulo) -> Rectangulo:\n",
        "        nuevaBase = self.__base + rectangulo.getBase()\n",
        "        nuevaAltura = self.__altura + rectangulo.getAltura()\n",
        "        return Rectangulo(nuevaBase, nuevaAltura)\n",
        "    \n",
        "    def __mult__(self):\n",
        "        pass\n",
        "\n",
        "    def __sub__(self):\n",
        "        pass"
      ],
      "execution_count": 0,
      "outputs": []
    },
    {
      "cell_type": "code",
      "metadata": {
        "id": "6o2v9yBcRUl8",
        "colab_type": "code",
        "colab": {
          "base_uri": "https://localhost:8080/",
          "height": 34
        },
        "outputId": "e96cabdc-73ff-4446-f015-ae3ba7296978"
      },
      "source": [
        "num1 = 1\n",
        "num2 = 2\n",
        "num1 + num2"
      ],
      "execution_count": 112,
      "outputs": [
        {
          "output_type": "execute_result",
          "data": {
            "text/plain": [
              "3"
            ]
          },
          "metadata": {
            "tags": []
          },
          "execution_count": 112
        }
      ]
    },
    {
      "cell_type": "code",
      "metadata": {
        "id": "aFiGb_fqRaLa",
        "colab_type": "code",
        "colab": {
          "base_uri": "https://localhost:8080/",
          "height": 34
        },
        "outputId": "1f4a04b7-a26e-4a4c-baf7-eafc43847c67"
      },
      "source": [
        "matrizA = [[1, 2], [2, 3]]\n",
        "matrizB = [[2, 3], [2, 4]]\n",
        "matrizA + matrizB"
      ],
      "execution_count": 114,
      "outputs": [
        {
          "output_type": "execute_result",
          "data": {
            "text/plain": [
              "[[1, 2], [2, 3], [2, 3], [2, 4]]"
            ]
          },
          "metadata": {
            "tags": []
          },
          "execution_count": 114
        }
      ]
    },
    {
      "cell_type": "code",
      "metadata": {
        "id": "vjl47v5LRlTq",
        "colab_type": "code",
        "colab": {
          "base_uri": "https://localhost:8080/",
          "height": 68
        },
        "outputId": "bbb99c04-67b5-4897-ed82-9157c30d00a1"
      },
      "source": [
        "rectangulo1 = Rectangulo(2, 3)\n",
        "rectangulo2 = Rectangulo(3, 5)\n",
        "print(rectangulo1)\n",
        "print(rectangulo2)\n",
        "print(rectangulo1 + rectangulo2)"
      ],
      "execution_count": 133,
      "outputs": [
        {
          "output_type": "stream",
          "text": [
            "<Base: 2, Altura: 3>\n",
            "<Base: 3, Altura: 5>\n",
            "<Base: 5, Altura: 8>\n"
          ],
          "name": "stdout"
        }
      ]
    },
    {
      "cell_type": "code",
      "metadata": {
        "id": "R6A8PcziTlkR",
        "colab_type": "code",
        "colab": {
          "base_uri": "https://localhost:8080/",
          "height": 34
        },
        "outputId": "e798a4a2-fc68-49a9-ba7e-60715158a651"
      },
      "source": [
        "num1 = 1\n",
        "num2 = 2\n",
        "num1 + num2"
      ],
      "execution_count": 134,
      "outputs": [
        {
          "output_type": "execute_result",
          "data": {
            "text/plain": [
              "3"
            ]
          },
          "metadata": {
            "tags": []
          },
          "execution_count": 134
        }
      ]
    },
    {
      "cell_type": "code",
      "metadata": {
        "id": "pMUay9z3TuaR",
        "colab_type": "code",
        "colab": {
          "base_uri": "https://localhost:8080/",
          "height": 187
        },
        "outputId": "c2d8af00-3119-406b-ac93-517e2c36610c"
      },
      "source": [
        "cajas = []\n",
        "\n",
        "cantidad = int(input('Digite la cantidad de cajas a crear: '))\n",
        "\n",
        "for i in range(cantidad):\n",
        "    base = float(input('Base de la caja ' + str(i + 1) + ': '))\n",
        "    altura = float(input('Altura de la caja ' + str(i + 1) + ': '))\n",
        "    caja = Rectangulo(base, altura)\n",
        "    cajas.append(caja)\n",
        "\n",
        "for caja in cajas:\n",
        "    print(caja)\n"
      ],
      "execution_count": 136,
      "outputs": [
        {
          "output_type": "stream",
          "text": [
            "Digite la cantidad de cajas a crear: 3\n",
            "Base de la caja 1: 2\n",
            "Altura de la caja 1: 3\n",
            "Base de la caja 2: 23\n",
            "Altura de la caja 2: 12\n",
            "Base de la caja 3: 24\n",
            "Altura de la caja 3: 25\n",
            "<Base: 2.0, Altura: 3.0>\n",
            "<Base: 23.0, Altura: 12.0>\n",
            "<Base: 24.0, Altura: 25.0>\n"
          ],
          "name": "stdout"
        }
      ]
    }
  ]
}