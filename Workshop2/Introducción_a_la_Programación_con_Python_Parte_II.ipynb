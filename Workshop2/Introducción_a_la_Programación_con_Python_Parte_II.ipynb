{
  "nbformat": 4,
  "nbformat_minor": 0,
  "metadata": {
    "colab": {
      "name": "Introducción a la Programación con Python - Parte II.ipynb",
      "provenance": [],
      "collapsed_sections": [
        "PigieHTywEX8",
        "8NF_i6ZTxqqN",
        "8iK11nK2yU-W"
      ]
    },
    "kernelspec": {
      "name": "python3",
      "display_name": "Python 3"
    }
  },
  "cells": [
    {
      "cell_type": "markdown",
      "metadata": {
        "id": "-mEJrchRmJIb",
        "colab_type": "text"
      },
      "source": [
        "# **Introducción a la Programación con Python**\n",
        "## *Parte 2*"
      ]
    },
    {
      "cell_type": "markdown",
      "metadata": {
        "id": "i432cr3HmUiM",
        "colab_type": "text"
      },
      "source": [
        "### **Ciclo While**"
      ]
    },
    {
      "cell_type": "code",
      "metadata": {
        "id": "X1vofrKjkcA2",
        "colab_type": "code",
        "colab": {}
      },
      "source": [
        "while (condicion): # Si la condicion se cumple, el ciclo se ejecuta\n",
        "    # Bloque de codigo"
      ],
      "execution_count": 0,
      "outputs": []
    },
    {
      "cell_type": "code",
      "metadata": {
        "id": "xNFxkT1rrZ1c",
        "colab_type": "code",
        "outputId": "f1a8a2b6-5b81-41a2-c35d-4eb63f59b409",
        "colab": {
          "base_uri": "https://localhost:8080/",
          "height": 202
        }
      },
      "source": [
        "contador = 0\n",
        "\n",
        "while (contador <= 10):\n",
        "    print(contador)\n",
        "    contador = contador + 1 # contador += 1"
      ],
      "execution_count": 0,
      "outputs": [
        {
          "output_type": "stream",
          "text": [
            "0\n",
            "1\n",
            "2\n",
            "3\n",
            "4\n",
            "5\n",
            "6\n",
            "7\n",
            "8\n",
            "9\n",
            "10\n"
          ],
          "name": "stdout"
        }
      ]
    },
    {
      "cell_type": "code",
      "metadata": {
        "id": "ElAAnUXmr5CL",
        "colab_type": "code",
        "outputId": "40669bf2-fe1f-492c-8d81-f016a07ab212",
        "colab": {
          "base_uri": "https://localhost:8080/",
          "height": 185
        }
      },
      "source": [
        "contador = 10\n",
        "\n",
        "while (contador > 0):\n",
        "    print(contador)\n",
        "    contador = contador - 1 # contador -= 1"
      ],
      "execution_count": 0,
      "outputs": [
        {
          "output_type": "stream",
          "text": [
            "10\n",
            "9\n",
            "8\n",
            "7\n",
            "6\n",
            "5\n",
            "4\n",
            "3\n",
            "2\n",
            "1\n"
          ],
          "name": "stdout"
        }
      ]
    },
    {
      "cell_type": "code",
      "metadata": {
        "id": "vuJ5BfJusVWu",
        "colab_type": "code",
        "outputId": "efc7fc0a-b71b-49fe-c6b3-135245e88633",
        "colab": {
          "base_uri": "https://localhost:8080/",
          "height": 118
        }
      },
      "source": [
        "contador = 0\n",
        "\n",
        "while (contador <= 10):\n",
        "    if (contador % 2 == 0):\n",
        "        print(contador)\n",
        "    contador = contador + 1"
      ],
      "execution_count": 0,
      "outputs": [
        {
          "output_type": "stream",
          "text": [
            "0\n",
            "2\n",
            "4\n",
            "6\n",
            "8\n",
            "10\n"
          ],
          "name": "stdout"
        }
      ]
    },
    {
      "cell_type": "code",
      "metadata": {
        "id": "wguXr8thss1y",
        "colab_type": "code",
        "outputId": "29f98a96-1b7b-4bd7-9507-fdfa25dc5793",
        "colab": {
          "base_uri": "https://localhost:8080/",
          "height": 50
        }
      },
      "source": [
        "num = int(input('Ingrese un numero: '))\n",
        "\n",
        "def esPrimo(num):\n",
        "    if (num < 2):\n",
        "        return False\n",
        "\n",
        "    div = 2\n",
        "\n",
        "    while (div < num):\n",
        "        if (num % div == 0):\n",
        "            return False\n",
        "        div += 1\n",
        "    return True\n",
        "\n",
        "if esPrimo(num):\n",
        "    print('El numero es primo')\n",
        "else:\n",
        "    print('El numero no es primo')\n"
      ],
      "execution_count": 0,
      "outputs": [
        {
          "output_type": "stream",
          "text": [
            "Ingrese un numero: -100\n",
            "El numero no es primo\n"
          ],
          "name": "stdout"
        }
      ]
    },
    {
      "cell_type": "markdown",
      "metadata": {
        "id": "5sR9GWIpuMLu",
        "colab_type": "text"
      },
      "source": [
        "### **Ciclo For**"
      ]
    },
    {
      "cell_type": "code",
      "metadata": {
        "id": "R6CuxcqFuLbm",
        "colab_type": "code",
        "colab": {}
      },
      "source": [
        "# Forma 1\n",
        "# i = 0\n",
        "# i < final\n",
        "# i += 1\n",
        "for i in range(final):\n",
        "    # Codigo"
      ],
      "execution_count": 0,
      "outputs": []
    },
    {
      "cell_type": "code",
      "metadata": {
        "id": "oEaS-uFhuXun",
        "colab_type": "code",
        "outputId": "8c055f23-1c53-45fa-f875-67f7a3fb3fd0",
        "colab": {
          "base_uri": "https://localhost:8080/",
          "height": 185
        }
      },
      "source": [
        "for i in range(10):\n",
        "    print(i)"
      ],
      "execution_count": 0,
      "outputs": [
        {
          "output_type": "stream",
          "text": [
            "0\n",
            "1\n",
            "2\n",
            "3\n",
            "4\n",
            "5\n",
            "6\n",
            "7\n",
            "8\n",
            "9\n"
          ],
          "name": "stdout"
        }
      ]
    },
    {
      "cell_type": "code",
      "metadata": {
        "id": "kgiks8LLuffz",
        "colab_type": "code",
        "colab": {}
      },
      "source": [
        "# Forma 2\n",
        "# i = inicial\n",
        "# i < final\n",
        "# i += 1\n",
        "for i in range(inicial, final):\n",
        "    # Bloque de codigo"
      ],
      "execution_count": 0,
      "outputs": []
    },
    {
      "cell_type": "code",
      "metadata": {
        "id": "MyEjKCsbuoXi",
        "colab_type": "code",
        "outputId": "116f6157-7119-4db6-f44f-a494d5c8477a",
        "colab": {
          "base_uri": "https://localhost:8080/",
          "height": 185
        }
      },
      "source": [
        "for i in range(20, 30):\n",
        "    print(i)"
      ],
      "execution_count": 0,
      "outputs": [
        {
          "output_type": "stream",
          "text": [
            "20\n",
            "21\n",
            "22\n",
            "23\n",
            "24\n",
            "25\n",
            "26\n",
            "27\n",
            "28\n",
            "29\n"
          ],
          "name": "stdout"
        }
      ]
    },
    {
      "cell_type": "code",
      "metadata": {
        "id": "NSSvWkiWuuyZ",
        "colab_type": "code",
        "outputId": "a21650e7-b76c-4b06-ec46-0f72daf906d9",
        "colab": {
          "base_uri": "https://localhost:8080/",
          "height": 101
        }
      },
      "source": [
        "for i in range(20, 30):\n",
        "    if (i % 2 == 0):\n",
        "        print(i)"
      ],
      "execution_count": 0,
      "outputs": [
        {
          "output_type": "stream",
          "text": [
            "20\n",
            "22\n",
            "24\n",
            "26\n",
            "28\n"
          ],
          "name": "stdout"
        }
      ]
    },
    {
      "cell_type": "code",
      "metadata": {
        "id": "d3_naIxru4Bu",
        "colab_type": "code",
        "colab": {}
      },
      "source": [
        "# Forma 3\n",
        "# i = inicial\n",
        "# i < final\n",
        "# i += paso\n",
        "for i in range(inicial, final, paso):"
      ],
      "execution_count": 0,
      "outputs": []
    },
    {
      "cell_type": "code",
      "metadata": {
        "id": "apVJfFHpvG5Z",
        "colab_type": "code",
        "outputId": "2772e06a-e73b-4b7c-951d-a7deb4c0c2b4",
        "colab": {
          "base_uri": "https://localhost:8080/",
          "height": 336
        }
      },
      "source": [
        "for i in range(5, 100, 5):\n",
        "    print(i)"
      ],
      "execution_count": 0,
      "outputs": [
        {
          "output_type": "stream",
          "text": [
            "5\n",
            "10\n",
            "15\n",
            "20\n",
            "25\n",
            "30\n",
            "35\n",
            "40\n",
            "45\n",
            "50\n",
            "55\n",
            "60\n",
            "65\n",
            "70\n",
            "75\n",
            "80\n",
            "85\n",
            "90\n",
            "95\n"
          ],
          "name": "stdout"
        }
      ]
    },
    {
      "cell_type": "code",
      "metadata": {
        "id": "OfVyUR25vNCU",
        "colab_type": "code",
        "outputId": "f598067f-8253-4240-9fe5-d8c72243e0d0",
        "colab": {
          "base_uri": "https://localhost:8080/",
          "height": 101
        }
      },
      "source": [
        "for i in range(20, 30, 2):\n",
        "    print(i)"
      ],
      "execution_count": 0,
      "outputs": [
        {
          "output_type": "stream",
          "text": [
            "20\n",
            "22\n",
            "24\n",
            "26\n",
            "28\n"
          ],
          "name": "stdout"
        }
      ]
    },
    {
      "cell_type": "code",
      "metadata": {
        "id": "JqdMGLk1vZ7Z",
        "colab_type": "code",
        "outputId": "acd1083f-2b52-4991-c422-2f10fac4cc73",
        "colab": {
          "base_uri": "https://localhost:8080/",
          "height": 118
        }
      },
      "source": [
        "for i in range(0, 30, 5):\n",
        "    print(i)"
      ],
      "execution_count": 0,
      "outputs": [
        {
          "output_type": "stream",
          "text": [
            "0\n",
            "5\n",
            "10\n",
            "15\n",
            "20\n",
            "25\n"
          ],
          "name": "stdout"
        }
      ]
    },
    {
      "cell_type": "code",
      "metadata": {
        "id": "a_tH7d_qvijT",
        "colab_type": "code",
        "outputId": "3e5bcdce-1947-44ce-e52e-a7f211334a25",
        "colab": {
          "base_uri": "https://localhost:8080/",
          "height": 521
        }
      },
      "source": [
        "i = 2\n",
        "\n",
        "for i in range(30):\n",
        "    print(i)"
      ],
      "execution_count": 0,
      "outputs": [
        {
          "output_type": "stream",
          "text": [
            "0\n",
            "1\n",
            "2\n",
            "3\n",
            "4\n",
            "5\n",
            "6\n",
            "7\n",
            "8\n",
            "9\n",
            "10\n",
            "11\n",
            "12\n",
            "13\n",
            "14\n",
            "15\n",
            "16\n",
            "17\n",
            "18\n",
            "19\n",
            "20\n",
            "21\n",
            "22\n",
            "23\n",
            "24\n",
            "25\n",
            "26\n",
            "27\n",
            "28\n",
            "29\n"
          ],
          "name": "stdout"
        }
      ]
    },
    {
      "cell_type": "code",
      "metadata": {
        "id": "zxWscpl8vsqG",
        "colab_type": "code",
        "outputId": "bbf43901-7808-4a8d-db6d-9b924981fc9f",
        "colab": {
          "base_uri": "https://localhost:8080/",
          "height": 218
        }
      },
      "source": [
        "for i in range(-30, 30, 5):\n",
        "    print(i)"
      ],
      "execution_count": 0,
      "outputs": [
        {
          "output_type": "stream",
          "text": [
            "-30\n",
            "-25\n",
            "-20\n",
            "-15\n",
            "-10\n",
            "-5\n",
            "0\n",
            "5\n",
            "10\n",
            "15\n",
            "20\n",
            "25\n"
          ],
          "name": "stdout"
        }
      ]
    },
    {
      "cell_type": "code",
      "metadata": {
        "id": "sPyxPc8IvvpI",
        "colab_type": "code",
        "outputId": "6055aeae-a570-426d-da22-c4074e98ca30",
        "colab": {
          "base_uri": "https://localhost:8080/",
          "height": 118
        }
      },
      "source": [
        "for i in range(30, 0, -5):\n",
        "    print(i)"
      ],
      "execution_count": 0,
      "outputs": [
        {
          "output_type": "stream",
          "text": [
            "30\n",
            "25\n",
            "20\n",
            "15\n",
            "10\n",
            "5\n"
          ],
          "name": "stdout"
        }
      ]
    },
    {
      "cell_type": "code",
      "metadata": {
        "id": "EsNNIXnZv2qR",
        "colab_type": "code",
        "outputId": "135e26da-3657-4c27-e5ab-1a0e99c9f1bc",
        "colab": {
          "base_uri": "https://localhost:8080/",
          "height": 118
        }
      },
      "source": [
        "inicial = 0\n",
        "final = 10\n",
        "paso = 2\n",
        "\n",
        "for i in range(inicial, final + 1, paso):\n",
        "    print(i)"
      ],
      "execution_count": 0,
      "outputs": [
        {
          "output_type": "stream",
          "text": [
            "0\n",
            "2\n",
            "4\n",
            "6\n",
            "8\n",
            "10\n"
          ],
          "name": "stdout"
        }
      ]
    },
    {
      "cell_type": "markdown",
      "metadata": {
        "id": "PigieHTywEX8",
        "colab_type": "text"
      },
      "source": [
        "### Forma 4"
      ]
    },
    {
      "cell_type": "code",
      "metadata": {
        "id": "ewh0AXrMwHb6",
        "colab_type": "code",
        "outputId": "14c49c4f-faac-4ae1-93d2-de4b7567328f",
        "colab": {
          "base_uri": "https://localhost:8080/",
          "height": 101
        }
      },
      "source": [
        "cadena = 'Erick'\n",
        "\n",
        "for c in cadena:\n",
        "    print(c)"
      ],
      "execution_count": 0,
      "outputs": [
        {
          "output_type": "stream",
          "text": [
            "E\n",
            "r\n",
            "i\n",
            "c\n",
            "k\n"
          ],
          "name": "stdout"
        }
      ]
    },
    {
      "cell_type": "code",
      "metadata": {
        "id": "60c6NgtBwR9f",
        "colab_type": "code",
        "outputId": "9d0dd4d4-b698-4687-e475-9f793119b6aa",
        "colab": {
          "base_uri": "https://localhost:8080/",
          "height": 101
        }
      },
      "source": [
        "cadena = 'Erick'\n",
        "\n",
        "# len(obj) -> contar la cantidad de elementos de una secuencia\n",
        "for i in range(len(cadena)):\n",
        "    print(cadena[i])"
      ],
      "execution_count": 0,
      "outputs": [
        {
          "output_type": "stream",
          "text": [
            "E\n",
            "r\n",
            "i\n",
            "c\n",
            "k\n"
          ],
          "name": "stdout"
        }
      ]
    },
    {
      "cell_type": "code",
      "metadata": {
        "id": "Cqe0Qn9jwmZR",
        "colab_type": "code",
        "outputId": "3178da61-63fa-4336-ec59-6ef029b907f7",
        "colab": {
          "base_uri": "https://localhost:8080/",
          "height": 118
        }
      },
      "source": [
        "lista = [1, 2, 3, 4, 5, 6]\n",
        "\n",
        "for num in lista:\n",
        "    print(num)"
      ],
      "execution_count": 0,
      "outputs": [
        {
          "output_type": "stream",
          "text": [
            "1\n",
            "2\n",
            "3\n",
            "4\n",
            "5\n",
            "6\n"
          ],
          "name": "stdout"
        }
      ]
    },
    {
      "cell_type": "code",
      "metadata": {
        "id": "Y2IMa5wawtae",
        "colab_type": "code",
        "outputId": "99afe02d-28ec-428d-c4f8-268577f765cc",
        "colab": {
          "base_uri": "https://localhost:8080/",
          "height": 118
        }
      },
      "source": [
        "tupla = (1, 2, 3, 4, 5, 6)\n",
        "\n",
        "for num in tupla:\n",
        "    print(num)"
      ],
      "execution_count": 0,
      "outputs": [
        {
          "output_type": "stream",
          "text": [
            "1\n",
            "2\n",
            "3\n",
            "4\n",
            "5\n",
            "6\n"
          ],
          "name": "stdout"
        }
      ]
    },
    {
      "cell_type": "code",
      "metadata": {
        "id": "6Vf-1oo6wx_N",
        "colab_type": "code",
        "outputId": "88731c68-158b-4808-953f-c336ed2668c0",
        "colab": {
          "base_uri": "https://localhost:8080/",
          "height": 84
        }
      },
      "source": [
        "diccionario = {'Hello': 'Hola', 'One': 'Uno', 'Bird': 'Pajaro', 'Book': 'Libro'}\n",
        "\n",
        "for valor in diccionario:\n",
        "    print(valor)"
      ],
      "execution_count": 0,
      "outputs": [
        {
          "output_type": "stream",
          "text": [
            "Hello\n",
            "One\n",
            "Bird\n",
            "Book\n"
          ],
          "name": "stdout"
        }
      ]
    },
    {
      "cell_type": "code",
      "metadata": {
        "id": "xJSqdWK2xD4N",
        "colab_type": "code",
        "outputId": "b125472d-1afb-4515-fbcf-6a755903f399",
        "colab": {
          "base_uri": "https://localhost:8080/",
          "height": 84
        }
      },
      "source": [
        "diccionario = {'Hello': 'Hola', 'One': 'Uno', 'Bird': 'Pajaro', 'Book': 'Libro'}\n",
        "\n",
        "for valor in diccionario.keys():\n",
        "    print(valor)"
      ],
      "execution_count": 0,
      "outputs": [
        {
          "output_type": "stream",
          "text": [
            "Hello\n",
            "One\n",
            "Bird\n",
            "Book\n"
          ],
          "name": "stdout"
        }
      ]
    },
    {
      "cell_type": "code",
      "metadata": {
        "id": "MsbNnX-0xM4Z",
        "colab_type": "code",
        "outputId": "82f06b0f-503d-4cec-9dbe-4bea582c31e2",
        "colab": {
          "base_uri": "https://localhost:8080/",
          "height": 84
        }
      },
      "source": [
        "diccionario = {'Hello': 'Hola', 'One': 'Uno', 'Bird': 'Pajaro', 'Book': 'Libro'}\n",
        "\n",
        "for valor in diccionario.values():\n",
        "    print(valor)"
      ],
      "execution_count": 0,
      "outputs": [
        {
          "output_type": "stream",
          "text": [
            "Hola\n",
            "Uno\n",
            "Pajaro\n",
            "Libro\n"
          ],
          "name": "stdout"
        }
      ]
    },
    {
      "cell_type": "code",
      "metadata": {
        "id": "UkpJIBLHxHDk",
        "colab_type": "code",
        "outputId": "66c44a96-a1d4-4aa2-c52f-a0af1f974ade",
        "colab": {
          "base_uri": "https://localhost:8080/",
          "height": 84
        }
      },
      "source": [
        "diccionario = {'Hello': 'Hola', 'One': 'Uno', 'Bird': 'Pajaro', 'Book': 'Libro'}\n",
        "\n",
        "for valor in diccionario:\n",
        "    print(valor, diccionario[valor])"
      ],
      "execution_count": 0,
      "outputs": [
        {
          "output_type": "stream",
          "text": [
            "Hello Hola\n",
            "One Uno\n",
            "Bird Pajaro\n",
            "Book Libro\n"
          ],
          "name": "stdout"
        }
      ]
    },
    {
      "cell_type": "code",
      "metadata": {
        "id": "oSiGpPTixUP7",
        "colab_type": "code",
        "outputId": "51c6e0bf-1405-4f41-899a-4e5498799648",
        "colab": {
          "base_uri": "https://localhost:8080/",
          "height": 84
        }
      },
      "source": [
        "diccionario = {'Hello': 'Hola', 'One': 'Uno', 'Bird': 'Pajaro', 'Book': 'Libro'}\n",
        "\n",
        "for item in diccionario.items(): # Llave, valor\n",
        "    print(item)"
      ],
      "execution_count": 0,
      "outputs": [
        {
          "output_type": "stream",
          "text": [
            "('Hello', 'Hola')\n",
            "('One', 'Uno')\n",
            "('Bird', 'Pajaro')\n",
            "('Book', 'Libro')\n"
          ],
          "name": "stdout"
        }
      ]
    },
    {
      "cell_type": "code",
      "metadata": {
        "id": "FqA-_f8ZxbxV",
        "colab_type": "code",
        "outputId": "d2d36c9e-2f14-4044-d19d-5a7ac138e06c",
        "colab": {
          "base_uri": "https://localhost:8080/",
          "height": 84
        }
      },
      "source": [
        "diccionario = {'Hello': 'Hola', 'One': 'Uno', 'Bird': 'Pajaro', 'Book': 'Libro'}\n",
        "\n",
        "for (llave, valor) in diccionario.items(): # Llave, valor\n",
        "    print(llave, valor)"
      ],
      "execution_count": 0,
      "outputs": [
        {
          "output_type": "stream",
          "text": [
            "Hello Hola\n",
            "One Uno\n",
            "Bird Pajaro\n",
            "Book Libro\n"
          ],
          "name": "stdout"
        }
      ]
    },
    {
      "cell_type": "markdown",
      "metadata": {
        "id": "8NF_i6ZTxqqN",
        "colab_type": "text"
      },
      "source": [
        "# Tablas de multiplicar"
      ]
    },
    {
      "cell_type": "code",
      "metadata": {
        "id": "UReuKT27xp_4",
        "colab_type": "code",
        "outputId": "3974db22-e561-4218-91d9-44dd480a90d1",
        "colab": {
          "base_uri": "https://localhost:8080/",
          "height": 1000
        }
      },
      "source": [
        "for num1 in range(1, 12): # \n",
        "    for num2 in range(1, 10): # Termina ejecucion primero\n",
        "        print(num1, 'x', num2, '=', num1 * num2)\n",
        "    print()"
      ],
      "execution_count": 0,
      "outputs": [
        {
          "output_type": "stream",
          "text": [
            "1 x 1 = 1\n",
            "1 x 2 = 2\n",
            "1 x 3 = 3\n",
            "1 x 4 = 4\n",
            "1 x 5 = 5\n",
            "1 x 6 = 6\n",
            "1 x 7 = 7\n",
            "1 x 8 = 8\n",
            "1 x 9 = 9\n",
            "\n",
            "2 x 1 = 2\n",
            "2 x 2 = 4\n",
            "2 x 3 = 6\n",
            "2 x 4 = 8\n",
            "2 x 5 = 10\n",
            "2 x 6 = 12\n",
            "2 x 7 = 14\n",
            "2 x 8 = 16\n",
            "2 x 9 = 18\n",
            "\n",
            "3 x 1 = 3\n",
            "3 x 2 = 6\n",
            "3 x 3 = 9\n",
            "3 x 4 = 12\n",
            "3 x 5 = 15\n",
            "3 x 6 = 18\n",
            "3 x 7 = 21\n",
            "3 x 8 = 24\n",
            "3 x 9 = 27\n",
            "\n",
            "4 x 1 = 4\n",
            "4 x 2 = 8\n",
            "4 x 3 = 12\n",
            "4 x 4 = 16\n",
            "4 x 5 = 20\n",
            "4 x 6 = 24\n",
            "4 x 7 = 28\n",
            "4 x 8 = 32\n",
            "4 x 9 = 36\n",
            "\n",
            "5 x 1 = 5\n",
            "5 x 2 = 10\n",
            "5 x 3 = 15\n",
            "5 x 4 = 20\n",
            "5 x 5 = 25\n",
            "5 x 6 = 30\n",
            "5 x 7 = 35\n",
            "5 x 8 = 40\n",
            "5 x 9 = 45\n",
            "\n",
            "6 x 1 = 6\n",
            "6 x 2 = 12\n",
            "6 x 3 = 18\n",
            "6 x 4 = 24\n",
            "6 x 5 = 30\n",
            "6 x 6 = 36\n",
            "6 x 7 = 42\n",
            "6 x 8 = 48\n",
            "6 x 9 = 54\n",
            "\n",
            "7 x 1 = 7\n",
            "7 x 2 = 14\n",
            "7 x 3 = 21\n",
            "7 x 4 = 28\n",
            "7 x 5 = 35\n",
            "7 x 6 = 42\n",
            "7 x 7 = 49\n",
            "7 x 8 = 56\n",
            "7 x 9 = 63\n",
            "\n",
            "8 x 1 = 8\n",
            "8 x 2 = 16\n",
            "8 x 3 = 24\n",
            "8 x 4 = 32\n",
            "8 x 5 = 40\n",
            "8 x 6 = 48\n",
            "8 x 7 = 56\n",
            "8 x 8 = 64\n",
            "8 x 9 = 72\n",
            "\n",
            "9 x 1 = 9\n",
            "9 x 2 = 18\n",
            "9 x 3 = 27\n",
            "9 x 4 = 36\n",
            "9 x 5 = 45\n",
            "9 x 6 = 54\n",
            "9 x 7 = 63\n",
            "9 x 8 = 72\n",
            "9 x 9 = 81\n",
            "\n",
            "10 x 1 = 10\n",
            "10 x 2 = 20\n",
            "10 x 3 = 30\n",
            "10 x 4 = 40\n",
            "10 x 5 = 50\n",
            "10 x 6 = 60\n",
            "10 x 7 = 70\n",
            "10 x 8 = 80\n",
            "10 x 9 = 90\n",
            "\n",
            "11 x 1 = 11\n",
            "11 x 2 = 22\n",
            "11 x 3 = 33\n",
            "11 x 4 = 44\n",
            "11 x 5 = 55\n",
            "11 x 6 = 66\n",
            "11 x 7 = 77\n",
            "11 x 8 = 88\n",
            "11 x 9 = 99\n",
            "\n"
          ],
          "name": "stdout"
        }
      ]
    },
    {
      "cell_type": "markdown",
      "metadata": {
        "id": "8iK11nK2yU-W",
        "colab_type": "text"
      },
      "source": [
        "# Excepciones"
      ]
    },
    {
      "cell_type": "code",
      "metadata": {
        "id": "2qfuVtcOyYft",
        "colab_type": "code",
        "outputId": "5aa0d6b5-2cc0-48da-c418-624b885d3ee1",
        "colab": {
          "base_uri": "https://localhost:8080/",
          "height": 178
        }
      },
      "source": [
        "num = int(input('Ingrese un numero entero: '))"
      ],
      "execution_count": 0,
      "outputs": [
        {
          "output_type": "stream",
          "text": [
            "Ingrese un numero entero: hola\n"
          ],
          "name": "stdout"
        },
        {
          "output_type": "error",
          "ename": "ValueError",
          "evalue": "ignored",
          "traceback": [
            "\u001b[0;31m---------------------------------------------------------------------------\u001b[0m",
            "\u001b[0;31mValueError\u001b[0m                                Traceback (most recent call last)",
            "\u001b[0;32m<ipython-input-42-b3751931692d>\u001b[0m in \u001b[0;36m<module>\u001b[0;34m()\u001b[0m\n\u001b[0;32m----> 1\u001b[0;31m \u001b[0mnum\u001b[0m \u001b[0;34m=\u001b[0m \u001b[0mint\u001b[0m\u001b[0;34m(\u001b[0m\u001b[0minput\u001b[0m\u001b[0;34m(\u001b[0m\u001b[0;34m'Ingrese un numero entero: '\u001b[0m\u001b[0;34m)\u001b[0m\u001b[0;34m)\u001b[0m\u001b[0;34m\u001b[0m\u001b[0;34m\u001b[0m\u001b[0m\n\u001b[0m",
            "\u001b[0;31mValueError\u001b[0m: invalid literal for int() with base 10: 'hola'"
          ]
        }
      ]
    },
    {
      "cell_type": "code",
      "metadata": {
        "id": "gDKLHbpiyz1e",
        "colab_type": "code",
        "colab": {}
      },
      "source": [
        "try:\n",
        "    # Codigo que funciona\n",
        "except ErrorEsperado:\n",
        "    # Que hago si ocurre dicho error"
      ],
      "execution_count": 0,
      "outputs": []
    },
    {
      "cell_type": "code",
      "metadata": {
        "id": "FUdSyaQZyjlp",
        "colab_type": "code",
        "outputId": "9fba9409-e454-4b20-cfc9-82cc4798d8b7",
        "colab": {
          "base_uri": "https://localhost:8080/",
          "height": 50
        }
      },
      "source": [
        "try:\n",
        "    num = int(input('Ingrese un numero entero: '))\n",
        "except ValueError:\n",
        "    print('Debe ingresar un numero entero')"
      ],
      "execution_count": 0,
      "outputs": [
        {
          "output_type": "stream",
          "text": [
            "Ingrese un numero entero: hola\n",
            "Debe ingresar un numero entero\n"
          ],
          "name": "stdout"
        }
      ]
    },
    {
      "cell_type": "markdown",
      "metadata": {
        "id": "NZUrETifzIHF",
        "colab_type": "text"
      },
      "source": [
        "# Continuando con la ejecución"
      ]
    },
    {
      "cell_type": "code",
      "metadata": {
        "id": "RNgq7CXOzHbK",
        "colab_type": "code",
        "outputId": "f0f6f45c-46dd-4853-a778-9912d86c193f",
        "colab": {
          "base_uri": "https://localhost:8080/",
          "height": 151
        }
      },
      "source": [
        "while True:\n",
        "    try:\n",
        "        num = int(input('Ingrese un numero entero: '))\n",
        "        print('Ingreso el numero:', num)\n",
        "        break # Termina el ciclo abruptamente\n",
        "    except ValueError:\n",
        "        print('Debe ingresar un numero entero')"
      ],
      "execution_count": 0,
      "outputs": [
        {
          "output_type": "stream",
          "text": [
            "Ingrese un numero entero: jkdsfhg\n",
            "Debe ingresar un numero entero\n",
            "Ingrese un numero entero: kksjfdh\n",
            "Debe ingresar un numero entero\n",
            "Ingrese un numero entero: skdfk\n",
            "Debe ingresar un numero entero\n",
            "Ingrese un numero entero: 56\n",
            "Ingreso el numero: 56\n"
          ],
          "name": "stdout"
        }
      ]
    },
    {
      "cell_type": "code",
      "metadata": {
        "id": "EnAho2y4zv6w",
        "colab_type": "code",
        "outputId": "aab68d49-4bef-43e7-dde0-db3df242441e",
        "colab": {
          "base_uri": "https://localhost:8080/",
          "height": 34
        }
      },
      "source": [
        "try:\n",
        "    # indices 0  1  2  3  4\n",
        "    lista =  [1, 2, 3, 4, 5]\n",
        "    print(lista[5])\n",
        "except IndexError:\n",
        "    print('El indice no existe')"
      ],
      "execution_count": 0,
      "outputs": [
        {
          "output_type": "stream",
          "text": [
            "El indice no existe\n"
          ],
          "name": "stdout"
        }
      ]
    },
    {
      "cell_type": "code",
      "metadata": {
        "id": "xWJbuke50Gq6",
        "colab_type": "code",
        "outputId": "d224625c-58f9-49f1-e619-1aa53bf3dac3",
        "colab": {
          "base_uri": "https://localhost:8080/",
          "height": 118
        }
      },
      "source": [
        "esCorrecto = False\n",
        "\n",
        "while not esCorrecto:\n",
        "    try:\n",
        "        num = int(input('Ingrese un numero entero: '))\n",
        "        print('Ingreso el numero:', num)\n",
        "        esCorrecto = True\n",
        "    except ValueError:\n",
        "        print('Debe ingresar un numero entero')"
      ],
      "execution_count": 0,
      "outputs": [
        {
          "output_type": "stream",
          "text": [
            "Ingrese un numero entero: khd\n",
            "Debe ingresar un numero entero\n",
            "Ingrese un numero entero: jsdkfj\n",
            "Debe ingresar un numero entero\n",
            "Ingrese un numero entero: 78\n",
            "Ingreso el numero: 78\n"
          ],
          "name": "stdout"
        }
      ]
    },
    {
      "cell_type": "code",
      "metadata": {
        "id": "ynnEW1E20f_B",
        "colab_type": "code",
        "colab": {}
      },
      "source": [
        "try:\n",
        "    # Codigo que funciona\n",
        "except: # Tomando en cuenta todos los error\n",
        "    # Que hacer cuando ocurre el error"
      ],
      "execution_count": 0,
      "outputs": []
    },
    {
      "cell_type": "code",
      "metadata": {
        "id": "bnXN4sF40q24",
        "colab_type": "code",
        "colab": {}
      },
      "source": [
        "try:\n",
        "    # Codigo\n",
        "except Error1:\n",
        "    # Manejo error1\n",
        "except Error2:\n",
        "    # Manejo error2"
      ],
      "execution_count": 0,
      "outputs": []
    },
    {
      "cell_type": "code",
      "metadata": {
        "id": "0t9UB6oM011M",
        "colab_type": "code",
        "outputId": "34b31e71-054a-454d-b0e7-29455f8447eb",
        "colab": {
          "base_uri": "https://localhost:8080/",
          "height": 118
        }
      },
      "source": [
        "lista = [1, 2, 3, 4, 5]\n",
        "\n",
        "esCorrecto = True\n",
        "\n",
        "while esCorrecto:\n",
        "    try:\n",
        "        indice = int(input('Ingrese el indice que desea mostrar: '))\n",
        "        print('El valor en el indice', indice, 'es', lista[indice])\n",
        "        esCorrecto = False\n",
        "    except ValueError:\n",
        "        print('Debe ingresar un numero')\n",
        "    except IndexError:\n",
        "        print('El indice no existe')"
      ],
      "execution_count": 0,
      "outputs": [
        {
          "output_type": "stream",
          "text": [
            "Ingrese el indice que desea mostrar: hola\n",
            "Debe ingresar un numero\n",
            "Ingrese el indice que desea mostrar: 7\n",
            "El indice no existe\n",
            "Ingrese el indice que desea mostrar: 2\n",
            "El valor en el indice 2 es 3\n"
          ],
          "name": "stdout"
        }
      ]
    },
    {
      "cell_type": "code",
      "metadata": {
        "id": "NFoMb7ix2hnd",
        "colab_type": "code",
        "colab": {}
      },
      "source": [
        "esCorrecto = True\n",
        "\n",
        "# Redundante\n",
        "if esCorrecto == False: # not esCorrecto\n",
        "    print('Verdad')\n",
        "else:\n",
        "    print('False')"
      ],
      "execution_count": 0,
      "outputs": []
    },
    {
      "cell_type": "markdown",
      "metadata": {
        "id": "2K39acaf26x3",
        "colab_type": "text"
      },
      "source": [
        "# Secuencias"
      ]
    },
    {
      "cell_type": "markdown",
      "metadata": {
        "id": "geiT-9-F2-l7",
        "colab_type": "text"
      },
      "source": [
        "## Listas\n",
        "\n",
        "[Todos los métodos de la lista](https://docs.python.org/3/tutorial/datastructures.html#more-on-lists)"
      ]
    },
    {
      "cell_type": "code",
      "metadata": {
        "id": "oX2HH5sr29uZ",
        "colab_type": "code",
        "outputId": "3df24881-ed2f-463f-d864-e137ca01996e",
        "colab": {
          "base_uri": "https://localhost:8080/",
          "height": 34
        }
      },
      "source": [
        "lista = [] # Vacia\n",
        "lista = [1, 2, 3, 4] # Cuatro elementos\n",
        "lista[0]"
      ],
      "execution_count": 0,
      "outputs": [
        {
          "output_type": "execute_result",
          "data": {
            "text/plain": [
              "1"
            ]
          },
          "metadata": {
            "tags": []
          },
          "execution_count": 1
        }
      ]
    },
    {
      "cell_type": "code",
      "metadata": {
        "id": "wHDAShw2hgHu",
        "colab_type": "code",
        "outputId": "8249c888-77cf-4a8d-e641-cc5886830747",
        "colab": {
          "base_uri": "https://localhost:8080/",
          "height": 34
        }
      },
      "source": [
        "lista[-1]"
      ],
      "execution_count": 0,
      "outputs": [
        {
          "output_type": "execute_result",
          "data": {
            "text/plain": [
              "4"
            ]
          },
          "metadata": {
            "tags": []
          },
          "execution_count": 2
        }
      ]
    },
    {
      "cell_type": "code",
      "metadata": {
        "id": "T0iABXbuhkIV",
        "colab_type": "code",
        "outputId": "5e5cd7b3-0d99-4800-d4f4-968b978d7fdc",
        "colab": {
          "base_uri": "https://localhost:8080/",
          "height": 165
        }
      },
      "source": [
        "lista[6]"
      ],
      "execution_count": 0,
      "outputs": [
        {
          "output_type": "error",
          "ename": "IndexError",
          "evalue": "ignored",
          "traceback": [
            "\u001b[0;31m---------------------------------------------------------------------------\u001b[0m",
            "\u001b[0;31mIndexError\u001b[0m                                Traceback (most recent call last)",
            "\u001b[0;32m<ipython-input-3-f715f6e228b7>\u001b[0m in \u001b[0;36m<module>\u001b[0;34m()\u001b[0m\n\u001b[0;32m----> 1\u001b[0;31m \u001b[0mlista\u001b[0m\u001b[0;34m[\u001b[0m\u001b[0;36m6\u001b[0m\u001b[0;34m]\u001b[0m\u001b[0;34m\u001b[0m\u001b[0;34m\u001b[0m\u001b[0m\n\u001b[0m",
            "\u001b[0;31mIndexError\u001b[0m: list index out of range"
          ]
        }
      ]
    },
    {
      "cell_type": "code",
      "metadata": {
        "id": "FoIJlAGhhmxp",
        "colab_type": "code",
        "outputId": "246a99ea-2cce-459a-f312-12c801ad7393",
        "colab": {
          "base_uri": "https://localhost:8080/",
          "height": 165
        }
      },
      "source": [
        "lista[-10]"
      ],
      "execution_count": 0,
      "outputs": [
        {
          "output_type": "error",
          "ename": "IndexError",
          "evalue": "ignored",
          "traceback": [
            "\u001b[0;31m---------------------------------------------------------------------------\u001b[0m",
            "\u001b[0;31mIndexError\u001b[0m                                Traceback (most recent call last)",
            "\u001b[0;32m<ipython-input-4-5e040fafa97c>\u001b[0m in \u001b[0;36m<module>\u001b[0;34m()\u001b[0m\n\u001b[0;32m----> 1\u001b[0;31m \u001b[0mlista\u001b[0m\u001b[0;34m[\u001b[0m\u001b[0;34m-\u001b[0m\u001b[0;36m10\u001b[0m\u001b[0;34m]\u001b[0m\u001b[0;34m\u001b[0m\u001b[0;34m\u001b[0m\u001b[0m\n\u001b[0m",
            "\u001b[0;31mIndexError\u001b[0m: list index out of range"
          ]
        }
      ]
    },
    {
      "cell_type": "code",
      "metadata": {
        "id": "ymbVq2tJhsWx",
        "colab_type": "code",
        "outputId": "f4864174-5255-4df6-9df9-92eb786909e3",
        "colab": {
          "base_uri": "https://localhost:8080/",
          "height": 34
        }
      },
      "source": [
        "# Agrega un objeto a la lista, al final\n",
        "lista.append(15)\n",
        "lista"
      ],
      "execution_count": 0,
      "outputs": [
        {
          "output_type": "execute_result",
          "data": {
            "text/plain": [
              "[1, 2, 3, 4, 10, 10, 15]"
            ]
          },
          "metadata": {
            "tags": []
          },
          "execution_count": 7
        }
      ]
    },
    {
      "cell_type": "code",
      "metadata": {
        "id": "SfQtf4K2h39Y",
        "colab_type": "code",
        "outputId": "f0833ea1-c896-4564-e73e-0e0604f2c1b0",
        "colab": {
          "base_uri": "https://localhost:8080/",
          "height": 34
        }
      },
      "source": [
        "# Se agrega un objeto a la lista (pos, elemento)\n",
        "lista.insert(0, 100)\n",
        "lista"
      ],
      "execution_count": 0,
      "outputs": [
        {
          "output_type": "execute_result",
          "data": {
            "text/plain": [
              "[100, 1, 2, 3, 4, 10, 10, 15]"
            ]
          },
          "metadata": {
            "tags": []
          },
          "execution_count": 8
        }
      ]
    },
    {
      "cell_type": "code",
      "metadata": {
        "id": "UnAhMUCBiCmj",
        "colab_type": "code",
        "outputId": "c0a3912e-6208-4ed9-de0f-e393bee8d751",
        "colab": {
          "base_uri": "https://localhost:8080/",
          "height": 34
        }
      },
      "source": [
        "lista.insert(-1, 500)\n",
        "lista"
      ],
      "execution_count": 0,
      "outputs": [
        {
          "output_type": "execute_result",
          "data": {
            "text/plain": [
              "[100, 1, 2, 3, 4, 10, 10, 100, 500, 15]"
            ]
          },
          "metadata": {
            "tags": []
          },
          "execution_count": 10
        }
      ]
    },
    {
      "cell_type": "code",
      "metadata": {
        "id": "mDYMKHuViKcF",
        "colab_type": "code",
        "outputId": "0e29a7d9-d422-43dd-a91b-5e0d35e8fbe0",
        "colab": {
          "base_uri": "https://localhost:8080/",
          "height": 34
        }
      },
      "source": [
        "# len -> me da el tamaño de la lista\n",
        "lista.insert(len(lista), 10000)\n",
        "lista"
      ],
      "execution_count": 0,
      "outputs": [
        {
          "output_type": "execute_result",
          "data": {
            "text/plain": [
              "[100, 1, 2, 3, 4, 10, 10, 100, 500, 15, 500, 10000]"
            ]
          },
          "metadata": {
            "tags": []
          },
          "execution_count": 16
        }
      ]
    },
    {
      "cell_type": "code",
      "metadata": {
        "id": "aNaXT_rKiUw9",
        "colab_type": "code",
        "outputId": "16c34d0f-931a-4e96-98e0-8b5765492f8a",
        "colab": {
          "base_uri": "https://localhost:8080/",
          "height": 34
        }
      },
      "source": [
        "# pop -> Elimina el elemento el posicion j: me devuelve el objeto\n",
        "# lista.pop(j)\n",
        "eliminado = lista.pop() # El ultimo\n",
        "print(eliminado, lista)"
      ],
      "execution_count": 0,
      "outputs": [
        {
          "output_type": "stream",
          "text": [
            "10000 [100, 1, 2, 3, 4, 10, 10, 100, 500, 15, 500]\n"
          ],
          "name": "stdout"
        }
      ]
    },
    {
      "cell_type": "code",
      "metadata": {
        "id": "7lVh2bJzitRW",
        "colab_type": "code",
        "outputId": "2cc462c6-8d80-4b7b-de60-da2d00afce0c",
        "colab": {
          "base_uri": "https://localhost:8080/",
          "height": 34
        }
      },
      "source": [
        "eliminado = lista.pop(0) # El primero\n",
        "print(eliminado, lista)"
      ],
      "execution_count": 0,
      "outputs": [
        {
          "output_type": "stream",
          "text": [
            "100 [1, 2, 3, 4, 10, 10, 100, 500, 15, 500]\n"
          ],
          "name": "stdout"
        }
      ]
    },
    {
      "cell_type": "code",
      "metadata": {
        "id": "NUVWjI_5i_B1",
        "colab_type": "code",
        "outputId": "7e45abb6-f2b9-4c66-beed-4b9c687960f3",
        "colab": {
          "base_uri": "https://localhost:8080/",
          "height": 34
        }
      },
      "source": [
        "# lista.remove(obj) -> Elimina el obj\n",
        "lista.remove(1)\n",
        "lista"
      ],
      "execution_count": 0,
      "outputs": [
        {
          "output_type": "execute_result",
          "data": {
            "text/plain": [
              "[2, 3, 4, 10, 10, 100, 500, 15, 500]"
            ]
          },
          "metadata": {
            "tags": []
          },
          "execution_count": 19
        }
      ]
    },
    {
      "cell_type": "code",
      "metadata": {
        "id": "9wZ88M6QjLT8",
        "colab_type": "code",
        "outputId": "8d28e0a8-6743-4a95-b6bc-c668d87b64ce",
        "colab": {
          "base_uri": "https://localhost:8080/",
          "height": 34
        }
      },
      "source": [
        "# lista.remove(obj) -> Elimina el obj\n",
        "# Cuando hay repetido, elimina la primer aparicion\n",
        "lista.remove(10) # No devuelve nada\n",
        "lista"
      ],
      "execution_count": 0,
      "outputs": [
        {
          "output_type": "execute_result",
          "data": {
            "text/plain": [
              "[2, 3, 4, 10, 100, 500, 15, 500]"
            ]
          },
          "metadata": {
            "tags": []
          },
          "execution_count": 20
        }
      ]
    },
    {
      "cell_type": "code",
      "metadata": {
        "id": "QTTiaPE3jYsE",
        "colab_type": "code",
        "outputId": "0f3e6510-ce75-46b8-de75-dcd29e365f78",
        "colab": {
          "base_uri": "https://localhost:8080/",
          "height": 34
        }
      },
      "source": [
        "lista = [1, 2, 3, 4]\n",
        "lista = []\n",
        "lista"
      ],
      "execution_count": 0,
      "outputs": [
        {
          "output_type": "execute_result",
          "data": {
            "text/plain": [
              "[]"
            ]
          },
          "metadata": {
            "tags": []
          },
          "execution_count": 22
        }
      ]
    },
    {
      "cell_type": "code",
      "metadata": {
        "id": "bWiEwXzdjesI",
        "colab_type": "code",
        "outputId": "4ede9867-d825-4c21-d4cd-dcd0639b8721",
        "colab": {
          "base_uri": "https://localhost:8080/",
          "height": 34
        }
      },
      "source": [
        "lista = [1, 2, 3, 4]\n",
        "lista.clear() # Elimina todos los elementos de la lista\n",
        "lista"
      ],
      "execution_count": 0,
      "outputs": [
        {
          "output_type": "execute_result",
          "data": {
            "text/plain": [
              "[]"
            ]
          },
          "metadata": {
            "tags": []
          },
          "execution_count": 23
        }
      ]
    },
    {
      "cell_type": "code",
      "metadata": {
        "id": "RbEpv5dujtQ9",
        "colab_type": "code",
        "outputId": "427daa20-8dcd-4857-9014-441465ecf0a0",
        "colab": {
          "base_uri": "https://localhost:8080/",
          "height": 34
        }
      },
      "source": [
        "# lista.count(obj) -> La cantidad de veces que aparece obj en la lista\n",
        "lista = [1, 2, 3, 1, 1, 5, 7]\n",
        "lista.count(1)"
      ],
      "execution_count": 0,
      "outputs": [
        {
          "output_type": "execute_result",
          "data": {
            "text/plain": [
              "3"
            ]
          },
          "metadata": {
            "tags": []
          },
          "execution_count": 24
        }
      ]
    },
    {
      "cell_type": "code",
      "metadata": {
        "id": "dgeFjrdEj9ZP",
        "colab_type": "code",
        "outputId": "1fe665d9-acbe-48ae-b2d4-68f7d4961607",
        "colab": {
          "base_uri": "https://localhost:8080/",
          "height": 34
        }
      },
      "source": [
        "lista.count(7)"
      ],
      "execution_count": 0,
      "outputs": [
        {
          "output_type": "execute_result",
          "data": {
            "text/plain": [
              "1"
            ]
          },
          "metadata": {
            "tags": []
          },
          "execution_count": 25
        }
      ]
    },
    {
      "cell_type": "code",
      "metadata": {
        "id": "NnN7nxATj_fX",
        "colab_type": "code",
        "outputId": "897ae737-00f7-49b0-e5bd-01cc3e11328b",
        "colab": {
          "base_uri": "https://localhost:8080/",
          "height": 34
        }
      },
      "source": [
        "lista.count(1000)"
      ],
      "execution_count": 0,
      "outputs": [
        {
          "output_type": "execute_result",
          "data": {
            "text/plain": [
              "0"
            ]
          },
          "metadata": {
            "tags": []
          },
          "execution_count": 26
        }
      ]
    },
    {
      "cell_type": "code",
      "metadata": {
        "id": "efEG5do_k4TT",
        "colab_type": "code",
        "outputId": "160f267e-f771-49c2-c7c2-39e1fe6c70bd",
        "colab": {
          "base_uri": "https://localhost:8080/",
          "height": 34
        }
      },
      "source": [
        "# contar pares\n",
        "lista = [1, 3, 6, 7, 7, 2, 5, 6]\n",
        "cantidad = 0\n",
        "\n",
        "for num in lista:\n",
        "    if num % 2 == 0:\n",
        "        cantidad += 1\n",
        "cantidad"
      ],
      "execution_count": 0,
      "outputs": [
        {
          "output_type": "execute_result",
          "data": {
            "text/plain": [
              "3"
            ]
          },
          "metadata": {
            "tags": []
          },
          "execution_count": 33
        }
      ]
    },
    {
      "cell_type": "code",
      "metadata": {
        "id": "QozUEyDikDxr",
        "colab_type": "code",
        "outputId": "aa6c0e57-db8d-485a-e3f2-93978a778b9c",
        "colab": {
          "base_uri": "https://localhost:8080/",
          "height": 34
        }
      },
      "source": [
        "# lista.index(obj) -> Devuelve la posicion de primera aparicion de obj en la lista\n",
        "lista = [1, 2, 3, 1, 1, 5, 7]\n",
        "lista.index(1)"
      ],
      "execution_count": 0,
      "outputs": [
        {
          "output_type": "execute_result",
          "data": {
            "text/plain": [
              "0"
            ]
          },
          "metadata": {
            "tags": []
          },
          "execution_count": 27
        }
      ]
    },
    {
      "cell_type": "code",
      "metadata": {
        "id": "DTN8bWYskO0z",
        "colab_type": "code",
        "outputId": "2b7e64fb-e2cf-4b98-f70e-339d9e313744",
        "colab": {
          "base_uri": "https://localhost:8080/",
          "height": 34
        }
      },
      "source": [
        "lista.index(7)"
      ],
      "execution_count": 0,
      "outputs": [
        {
          "output_type": "execute_result",
          "data": {
            "text/plain": [
              "6"
            ]
          },
          "metadata": {
            "tags": []
          },
          "execution_count": 28
        }
      ]
    },
    {
      "cell_type": "code",
      "metadata": {
        "id": "VTYpGj7zkSqF",
        "colab_type": "code",
        "outputId": "a720e027-1596-49ba-9203-4f169d8d5185",
        "colab": {
          "base_uri": "https://localhost:8080/",
          "height": 165
        }
      },
      "source": [
        "lista.index(10)"
      ],
      "execution_count": 0,
      "outputs": [
        {
          "output_type": "error",
          "ename": "ValueError",
          "evalue": "ignored",
          "traceback": [
            "\u001b[0;31m---------------------------------------------------------------------------\u001b[0m",
            "\u001b[0;31mValueError\u001b[0m                                Traceback (most recent call last)",
            "\u001b[0;32m<ipython-input-29-cecb1ed8af13>\u001b[0m in \u001b[0;36m<module>\u001b[0;34m()\u001b[0m\n\u001b[0;32m----> 1\u001b[0;31m \u001b[0mlista\u001b[0m\u001b[0;34m.\u001b[0m\u001b[0mindex\u001b[0m\u001b[0;34m(\u001b[0m\u001b[0;36m10\u001b[0m\u001b[0;34m)\u001b[0m\u001b[0;34m\u001b[0m\u001b[0;34m\u001b[0m\u001b[0m\n\u001b[0m",
            "\u001b[0;31mValueError\u001b[0m: 10 is not in list"
          ]
        }
      ]
    },
    {
      "cell_type": "code",
      "metadata": {
        "id": "feyxJ5Y2kZFh",
        "colab_type": "code",
        "outputId": "3351993e-e975-420a-f651-f3d90924293b",
        "colab": {
          "base_uri": "https://localhost:8080/",
          "height": 34
        }
      },
      "source": [
        "# lista.sort() -> Ordena la lista en forma asc\n",
        "lista = [8, 2, 5, 1, 7, 4, 8]\n",
        "lista.sort()\n",
        "lista"
      ],
      "execution_count": 0,
      "outputs": [
        {
          "output_type": "execute_result",
          "data": {
            "text/plain": [
              "[1, 2, 4, 5, 7, 8, 8]"
            ]
          },
          "metadata": {
            "tags": []
          },
          "execution_count": 31
        }
      ]
    },
    {
      "cell_type": "code",
      "metadata": {
        "id": "gak_YndIkmkx",
        "colab_type": "code",
        "outputId": "b4363eaa-9df0-4e15-f21f-02d2b2930edc",
        "colab": {
          "base_uri": "https://localhost:8080/",
          "height": 34
        }
      },
      "source": [
        "# lista.sort(reverse=True) -> Ordena la lista en forma desc\n",
        "lista = [8, 2, 5, 1, 7, 4, 8]\n",
        "lista.sort(reverse=True)\n",
        "lista"
      ],
      "execution_count": 0,
      "outputs": [
        {
          "output_type": "execute_result",
          "data": {
            "text/plain": [
              "[8, 8, 7, 5, 4, 2, 1]"
            ]
          },
          "metadata": {
            "tags": []
          },
          "execution_count": 32
        }
      ]
    },
    {
      "cell_type": "code",
      "metadata": {
        "id": "7jeHrwmWlQbD",
        "colab_type": "code",
        "outputId": "dc5d7efb-d0e6-49ce-807d-d8bfdbe09929",
        "colab": {
          "base_uri": "https://localhost:8080/",
          "height": 34
        }
      },
      "source": [
        "# sorted(seq) -> ordenada\n",
        "lista = [8, 2, 5, 1, 7, 4, 8]\n",
        "sorted(lista)"
      ],
      "execution_count": 0,
      "outputs": [
        {
          "output_type": "execute_result",
          "data": {
            "text/plain": [
              "[1, 2, 4, 5, 7, 8, 8]"
            ]
          },
          "metadata": {
            "tags": []
          },
          "execution_count": 34
        }
      ]
    },
    {
      "cell_type": "code",
      "metadata": {
        "id": "tzKD3E78lZ4n",
        "colab_type": "code",
        "outputId": "9b510ced-b771-437c-c8a8-b6b7f4dc8abb",
        "colab": {
          "base_uri": "https://localhost:8080/",
          "height": 34
        }
      },
      "source": [
        "lista = sorted(lista)\n",
        "lista"
      ],
      "execution_count": 0,
      "outputs": [
        {
          "output_type": "execute_result",
          "data": {
            "text/plain": [
              "[1, 2, 4, 5, 7, 8, 8]"
            ]
          },
          "metadata": {
            "tags": []
          },
          "execution_count": 36
        }
      ]
    },
    {
      "cell_type": "code",
      "metadata": {
        "id": "mqGUWrS4llE6",
        "colab_type": "code",
        "outputId": "bb55ccc2-47db-4172-aa45-21da506adbfa",
        "colab": {
          "base_uri": "https://localhost:8080/",
          "height": 34
        }
      },
      "source": [
        "lista = [1, 2, 3, 4]\n",
        "lista2 = lista\n",
        "lista[0] = 1000\n",
        "lista2"
      ],
      "execution_count": 0,
      "outputs": [
        {
          "output_type": "execute_result",
          "data": {
            "text/plain": [
              "[1000, 2, 3, 4]"
            ]
          },
          "metadata": {
            "tags": []
          },
          "execution_count": 37
        }
      ]
    },
    {
      "cell_type": "code",
      "metadata": {
        "id": "XPQrqHqlls0z",
        "colab_type": "code",
        "outputId": "74050974-1012-4a5f-c411-7912705c982f",
        "colab": {
          "base_uri": "https://localhost:8080/",
          "height": 34
        }
      },
      "source": [
        "# lista.copy() -> Devuelve una copia de la lista\n",
        "lista = [1, 2, 3, 4]\n",
        "lista2 = lista.copy()\n",
        "lista[0] = 1000\n",
        "lista2"
      ],
      "execution_count": 0,
      "outputs": [
        {
          "output_type": "execute_result",
          "data": {
            "text/plain": [
              "[1, 2, 3, 4]"
            ]
          },
          "metadata": {
            "tags": []
          },
          "execution_count": 38
        }
      ]
    },
    {
      "cell_type": "code",
      "metadata": {
        "id": "NlhSTLeAl3Xf",
        "colab_type": "code",
        "outputId": "aa6cbec2-9324-4cd7-f183-3c325b758243",
        "colab": {
          "base_uri": "https://localhost:8080/",
          "height": 34
        }
      },
      "source": [
        "lista = [1, 2, 3, 4]\n",
        "lista2 = lista[:] # lista[inicio:fin], lista[:fin], lista[inicio:], lista[:]\n",
        "lista[0] = 1000\n",
        "lista2"
      ],
      "execution_count": 0,
      "outputs": [
        {
          "output_type": "execute_result",
          "data": {
            "text/plain": [
              "[1, 2, 3, 4]"
            ]
          },
          "metadata": {
            "tags": []
          },
          "execution_count": 39
        }
      ]
    },
    {
      "cell_type": "markdown",
      "metadata": {
        "id": "46duP670vm4p",
        "colab_type": "text"
      },
      "source": [
        "Más información sobre la librería [random](https://docs.python.org/3/library/random.html)"
      ]
    },
    {
      "cell_type": "code",
      "metadata": {
        "id": "z_3c07K2ms28",
        "colab_type": "code",
        "outputId": "78608fce-52d2-4a1c-b812-57460b4d68e9",
        "colab": {
          "base_uri": "https://localhost:8080/",
          "height": 34
        }
      },
      "source": [
        "import random\n",
        "\n",
        "lista = []\n",
        "\n",
        "for i in range(10):\n",
        "    # Numeros aleatorios entre 0 y 100\n",
        "    lista.append(random.randint(0, 100))\n",
        "\n",
        "lista"
      ],
      "execution_count": 0,
      "outputs": [
        {
          "output_type": "execute_result",
          "data": {
            "text/plain": [
              "[100, 28, 74, 80, 41, 99, 62, 41, 95, 42]"
            ]
          },
          "metadata": {
            "tags": []
          },
          "execution_count": 44
        }
      ]
    },
    {
      "cell_type": "code",
      "metadata": {
        "id": "rCQnIcrtnIDU",
        "colab_type": "code",
        "outputId": "0aa7b6ca-05d4-45ad-bbf9-4a7d9deef1ea",
        "colab": {
          "base_uri": "https://localhost:8080/",
          "height": 34
        }
      },
      "source": [
        "# lista[inicio:fin] -> desde inicio hasta un elemento antes de fin\n",
        "lista[2:5]"
      ],
      "execution_count": 0,
      "outputs": [
        {
          "output_type": "execute_result",
          "data": {
            "text/plain": [
              "[74, 80, 41]"
            ]
          },
          "metadata": {
            "tags": []
          },
          "execution_count": 45
        }
      ]
    },
    {
      "cell_type": "code",
      "metadata": {
        "id": "P-NWvUCDnOu3",
        "colab_type": "code",
        "outputId": "beff364d-ea73-4b04-fe26-4b3730ee6202",
        "colab": {
          "base_uri": "https://localhost:8080/",
          "height": 34
        }
      },
      "source": [
        "# lista[:fin] -> desde la posicion 0 hasta un elemento antes de fin\n",
        "lista[:6]"
      ],
      "execution_count": 0,
      "outputs": [
        {
          "output_type": "execute_result",
          "data": {
            "text/plain": [
              "[100, 28, 74, 80, 41, 99]"
            ]
          },
          "metadata": {
            "tags": []
          },
          "execution_count": 46
        }
      ]
    },
    {
      "cell_type": "code",
      "metadata": {
        "id": "niZb2qo6nWsT",
        "colab_type": "code",
        "outputId": "f51c982f-0f38-4eab-f709-c188644df420",
        "colab": {
          "base_uri": "https://localhost:8080/",
          "height": 34
        }
      },
      "source": [
        "# lista[inicio:] -> desde inicio hasta un elemento antes el ultimo elemento\n",
        "lista[4:]"
      ],
      "execution_count": 0,
      "outputs": [
        {
          "output_type": "execute_result",
          "data": {
            "text/plain": [
              "[41, 99, 62, 41, 95, 42]"
            ]
          },
          "metadata": {
            "tags": []
          },
          "execution_count": 47
        }
      ]
    },
    {
      "cell_type": "code",
      "metadata": {
        "id": "V6ZSWRXpnaFe",
        "colab_type": "code",
        "outputId": "d9f41f87-435d-4354-e0a7-d093762d04f1",
        "colab": {
          "base_uri": "https://localhost:8080/",
          "height": 34
        }
      },
      "source": [
        "# lista[:] -> todos los elementos\n",
        "lista[:]"
      ],
      "execution_count": 0,
      "outputs": [
        {
          "output_type": "execute_result",
          "data": {
            "text/plain": [
              "[100, 28, 74, 80, 41, 99, 62, 41, 95, 42]"
            ]
          },
          "metadata": {
            "tags": []
          },
          "execution_count": 48
        }
      ]
    },
    {
      "cell_type": "markdown",
      "metadata": {
        "id": "XGI8HfBqnyvz",
        "colab_type": "text"
      },
      "source": [
        "# Compresión de Listas\n",
        "\n",
        "[más información](https://docs.python.org/3/tutorial/datastructures.html#list-comprehensions)"
      ]
    },
    {
      "cell_type": "code",
      "metadata": {
        "id": "gRTO3SJln3c1",
        "colab_type": "code",
        "outputId": "71bb6b40-f812-47b5-97e6-8d673c767602",
        "colab": {
          "base_uri": "https://localhost:8080/",
          "height": 34
        }
      },
      "source": [
        "lista = [valor for valor in range(10)]\n",
        "lista"
      ],
      "execution_count": 0,
      "outputs": [
        {
          "output_type": "execute_result",
          "data": {
            "text/plain": [
              "[0, 1, 2, 3, 4, 5, 6, 7, 8, 9]"
            ]
          },
          "metadata": {
            "tags": []
          },
          "execution_count": 49
        }
      ]
    },
    {
      "cell_type": "code",
      "metadata": {
        "id": "3EbQpxHuoJBa",
        "colab_type": "code",
        "outputId": "31fc2add-3b2f-4da2-d530-0fc20ed92dbe",
        "colab": {
          "base_uri": "https://localhost:8080/",
          "height": 34
        }
      },
      "source": [
        "lista = [valor for valor in range(10) if valor % 2 == 0]\n",
        "lista"
      ],
      "execution_count": 0,
      "outputs": [
        {
          "output_type": "execute_result",
          "data": {
            "text/plain": [
              "[0, 2, 4, 6, 8]"
            ]
          },
          "metadata": {
            "tags": []
          },
          "execution_count": 52
        }
      ]
    },
    {
      "cell_type": "code",
      "metadata": {
        "id": "zJQm5o8gogfT",
        "colab_type": "code",
        "outputId": "e2665e15-8a6a-4436-9293-bd3cb7f9dee6",
        "colab": {
          "base_uri": "https://localhost:8080/",
          "height": 34
        }
      },
      "source": [
        "import random\n",
        "\n",
        "lista = [random.randint(-10, 10) for _ in range(20)]\n",
        "lista"
      ],
      "execution_count": 0,
      "outputs": [
        {
          "output_type": "execute_result",
          "data": {
            "text/plain": [
              "[7, 7, 9, 8, -6, 0, 6, -8, 2, -3, -7, -3, 0, -3, 7, 7, 7, -8, 3, -2]"
            ]
          },
          "metadata": {
            "tags": []
          },
          "execution_count": 53
        }
      ]
    },
    {
      "cell_type": "code",
      "metadata": {
        "id": "O59Yj9AIovoL",
        "colab_type": "code",
        "outputId": "50be599f-a72d-449c-d8e4-dbb8bb3697f5",
        "colab": {
          "base_uri": "https://localhost:8080/",
          "height": 34
        }
      },
      "source": [
        "# Valor absoluto de un numero\n",
        "num = -10\n",
        "abs(num)"
      ],
      "execution_count": 0,
      "outputs": [
        {
          "output_type": "execute_result",
          "data": {
            "text/plain": [
              "10"
            ]
          },
          "metadata": {
            "tags": []
          },
          "execution_count": 54
        }
      ]
    },
    {
      "cell_type": "code",
      "metadata": {
        "id": "BaplpXU8o5Xb",
        "colab_type": "code",
        "outputId": "6a440832-ba90-4e06-da4a-00e45cc4e787",
        "colab": {
          "base_uri": "https://localhost:8080/",
          "height": 34
        }
      },
      "source": [
        "num = -10\n",
        "if num < 0:\n",
        "    num = abs(num)\n",
        "\n",
        "num"
      ],
      "execution_count": 0,
      "outputs": [
        {
          "output_type": "execute_result",
          "data": {
            "text/plain": [
              "10"
            ]
          },
          "metadata": {
            "tags": []
          },
          "execution_count": 55
        }
      ]
    },
    {
      "cell_type": "code",
      "metadata": {
        "id": "mJcLblieo_S8",
        "colab_type": "code",
        "outputId": "458218c5-fa65-414e-f2fa-db93651a00a1",
        "colab": {
          "base_uri": "https://localhost:8080/",
          "height": 34
        }
      },
      "source": [
        "num = -10\n",
        "num = num if num >= 0 else abs(num)\n",
        "num"
      ],
      "execution_count": 0,
      "outputs": [
        {
          "output_type": "execute_result",
          "data": {
            "text/plain": [
              "10"
            ]
          },
          "metadata": {
            "tags": []
          },
          "execution_count": 57
        }
      ]
    },
    {
      "cell_type": "markdown",
      "metadata": {
        "id": "5xk0NS6QpweG",
        "colab_type": "text"
      },
      "source": [
        "# Compresion de Listas anidadas"
      ]
    },
    {
      "cell_type": "code",
      "metadata": {
        "id": "zB2DPlAIpv2a",
        "colab_type": "code",
        "outputId": "87f36541-73b2-4526-d19e-201c35fecfdd",
        "colab": {
          "base_uri": "https://localhost:8080/",
          "height": 357
        }
      },
      "source": [
        "# Listas de listas o matrices\n",
        "matriz = [[i * j  for i in range(10)] for j in range(20)]\n",
        "matriz"
      ],
      "execution_count": 0,
      "outputs": [
        {
          "output_type": "execute_result",
          "data": {
            "text/plain": [
              "[[0, 0, 0, 0, 0, 0, 0, 0, 0, 0],\n",
              " [0, 1, 2, 3, 4, 5, 6, 7, 8, 9],\n",
              " [0, 2, 4, 6, 8, 10, 12, 14, 16, 18],\n",
              " [0, 3, 6, 9, 12, 15, 18, 21, 24, 27],\n",
              " [0, 4, 8, 12, 16, 20, 24, 28, 32, 36],\n",
              " [0, 5, 10, 15, 20, 25, 30, 35, 40, 45],\n",
              " [0, 6, 12, 18, 24, 30, 36, 42, 48, 54],\n",
              " [0, 7, 14, 21, 28, 35, 42, 49, 56, 63],\n",
              " [0, 8, 16, 24, 32, 40, 48, 56, 64, 72],\n",
              " [0, 9, 18, 27, 36, 45, 54, 63, 72, 81],\n",
              " [0, 10, 20, 30, 40, 50, 60, 70, 80, 90],\n",
              " [0, 11, 22, 33, 44, 55, 66, 77, 88, 99],\n",
              " [0, 12, 24, 36, 48, 60, 72, 84, 96, 108],\n",
              " [0, 13, 26, 39, 52, 65, 78, 91, 104, 117],\n",
              " [0, 14, 28, 42, 56, 70, 84, 98, 112, 126],\n",
              " [0, 15, 30, 45, 60, 75, 90, 105, 120, 135],\n",
              " [0, 16, 32, 48, 64, 80, 96, 112, 128, 144],\n",
              " [0, 17, 34, 51, 68, 85, 102, 119, 136, 153],\n",
              " [0, 18, 36, 54, 72, 90, 108, 126, 144, 162],\n",
              " [0, 19, 38, 57, 76, 95, 114, 133, 152, 171]]"
            ]
          },
          "metadata": {
            "tags": []
          },
          "execution_count": 58
        }
      ]
    },
    {
      "cell_type": "code",
      "metadata": {
        "id": "SW60-ia8qSSD",
        "colab_type": "code",
        "colab": {}
      },
      "source": [
        "matriz[i][j]"
      ],
      "execution_count": 0,
      "outputs": []
    },
    {
      "cell_type": "code",
      "metadata": {
        "id": "aWzdla6AqVH5",
        "colab_type": "code",
        "outputId": "8eb63d11-c3d9-45fe-98d1-99ae78a387fe",
        "colab": {
          "base_uri": "https://localhost:8080/",
          "height": 34
        }
      },
      "source": [
        "matriz[5][5]"
      ],
      "execution_count": 0,
      "outputs": [
        {
          "output_type": "execute_result",
          "data": {
            "text/plain": [
              "25"
            ]
          },
          "metadata": {
            "tags": []
          },
          "execution_count": 59
        }
      ]
    },
    {
      "cell_type": "code",
      "metadata": {
        "id": "Z55k4BQUqdO0",
        "colab_type": "code",
        "outputId": "1e1d2944-9db3-4ddd-a9e5-c176e523611f",
        "colab": {
          "base_uri": "https://localhost:8080/",
          "height": 34
        }
      },
      "source": [
        "matriz[2][3]"
      ],
      "execution_count": 0,
      "outputs": [
        {
          "output_type": "execute_result",
          "data": {
            "text/plain": [
              "6"
            ]
          },
          "metadata": {
            "tags": []
          },
          "execution_count": 60
        }
      ]
    },
    {
      "cell_type": "code",
      "metadata": {
        "id": "ZNbGyHodqiIg",
        "colab_type": "code",
        "outputId": "ac555793-5049-40a3-ce97-3c45c8d63ecd",
        "colab": {
          "base_uri": "https://localhost:8080/",
          "height": 34
        }
      },
      "source": [
        "matriz[4]"
      ],
      "execution_count": 0,
      "outputs": [
        {
          "output_type": "execute_result",
          "data": {
            "text/plain": [
              "[0, 4, 8, 12, 16, 20, 24, 28, 32, 36]"
            ]
          },
          "metadata": {
            "tags": []
          },
          "execution_count": 61
        }
      ]
    },
    {
      "cell_type": "code",
      "metadata": {
        "id": "kz1qUgX7qpNS",
        "colab_type": "code",
        "outputId": "a8797292-bbe6-4d60-bc58-8106363618df",
        "colab": {
          "base_uri": "https://localhost:8080/",
          "height": 165
        }
      },
      "source": [
        "matriz[2][3][0]"
      ],
      "execution_count": 0,
      "outputs": [
        {
          "output_type": "error",
          "ename": "TypeError",
          "evalue": "ignored",
          "traceback": [
            "\u001b[0;31m---------------------------------------------------------------------------\u001b[0m",
            "\u001b[0;31mTypeError\u001b[0m                                 Traceback (most recent call last)",
            "\u001b[0;32m<ipython-input-62-c90d751722ce>\u001b[0m in \u001b[0;36m<module>\u001b[0;34m()\u001b[0m\n\u001b[0;32m----> 1\u001b[0;31m \u001b[0mmatriz\u001b[0m\u001b[0;34m[\u001b[0m\u001b[0;36m2\u001b[0m\u001b[0;34m]\u001b[0m\u001b[0;34m[\u001b[0m\u001b[0;36m3\u001b[0m\u001b[0;34m]\u001b[0m\u001b[0;34m[\u001b[0m\u001b[0;36m0\u001b[0m\u001b[0;34m]\u001b[0m\u001b[0;34m\u001b[0m\u001b[0;34m\u001b[0m\u001b[0m\n\u001b[0m",
            "\u001b[0;31mTypeError\u001b[0m: 'int' object is not subscriptable"
          ]
        }
      ]
    },
    {
      "cell_type": "code",
      "metadata": {
        "id": "XD94evEPrFIv",
        "colab_type": "code",
        "outputId": "6bd81844-176d-4382-83b0-20d19d4cafc0",
        "colab": {
          "base_uri": "https://localhost:8080/",
          "height": 357
        }
      },
      "source": [
        "matriz[0].insert(0, 100)\n",
        "matriz"
      ],
      "execution_count": 0,
      "outputs": [
        {
          "output_type": "execute_result",
          "data": {
            "text/plain": [
              "[[100, 0, 0, 0, 0, 0, 0, 0, 0, 0, 0],\n",
              " [0, 1, 2, 3, 4, 5, 6, 7, 8, 9],\n",
              " [0, 2, 4, 6, 8, 10, 12, 14, 16, 18],\n",
              " [0, 3, 6, 9, 12, 15, 18, 21, 24, 27],\n",
              " [0, 4, 8, 12, 16, 20, 24, 28, 32, 36],\n",
              " [0, 5, 10, 15, 20, 25, 30, 35, 40, 45],\n",
              " [0, 6, 12, 18, 24, 30, 36, 42, 48, 54],\n",
              " [0, 7, 14, 21, 28, 35, 42, 49, 56, 63],\n",
              " [0, 8, 16, 24, 32, 40, 48, 56, 64, 72],\n",
              " [0, 9, 18, 27, 36, 45, 54, 63, 72, 81],\n",
              " [0, 10, 20, 30, 40, 50, 60, 70, 80, 90],\n",
              " [0, 11, 22, 33, 44, 55, 66, 77, 88, 99],\n",
              " [0, 12, 24, 36, 48, 60, 72, 84, 96, 108],\n",
              " [0, 13, 26, 39, 52, 65, 78, 91, 104, 117],\n",
              " [0, 14, 28, 42, 56, 70, 84, 98, 112, 126],\n",
              " [0, 15, 30, 45, 60, 75, 90, 105, 120, 135],\n",
              " [0, 16, 32, 48, 64, 80, 96, 112, 128, 144],\n",
              " [0, 17, 34, 51, 68, 85, 102, 119, 136, 153],\n",
              " [0, 18, 36, 54, 72, 90, 108, 126, 144, 162],\n",
              " [0, 19, 38, 57, 76, 95, 114, 133, 152, 171]]"
            ]
          },
          "metadata": {
            "tags": []
          },
          "execution_count": 63
        }
      ]
    },
    {
      "cell_type": "code",
      "metadata": {
        "id": "hWGlMpdyrWHa",
        "colab_type": "code",
        "outputId": "b4a8503b-c042-4a07-de57-b584e7a5ca36",
        "colab": {
          "base_uri": "https://localhost:8080/",
          "height": 357
        }
      },
      "source": [
        "matriz2 = matriz\n",
        "matriz[0][0] = -1\n",
        "matriz2"
      ],
      "execution_count": 0,
      "outputs": [
        {
          "output_type": "execute_result",
          "data": {
            "text/plain": [
              "[[-1, 0, 0, 0, 0, 0, 0, 0, 0, 0, 0],\n",
              " [0, 1, 2, 3, 4, 5, 6, 7, 8, 9],\n",
              " [0, 2, 4, 6, 8, 10, 12, 14, 16, 18],\n",
              " [0, 3, 6, 9, 12, 15, 18, 21, 24, 27],\n",
              " [0, 4, 8, 12, 16, 20, 24, 28, 32, 36],\n",
              " [0, 5, 10, 15, 20, 25, 30, 35, 40, 45],\n",
              " [0, 6, 12, 18, 24, 30, 36, 42, 48, 54],\n",
              " [0, 7, 14, 21, 28, 35, 42, 49, 56, 63],\n",
              " [0, 8, 16, 24, 32, 40, 48, 56, 64, 72],\n",
              " [0, 9, 18, 27, 36, 45, 54, 63, 72, 81],\n",
              " [0, 10, 20, 30, 40, 50, 60, 70, 80, 90],\n",
              " [0, 11, 22, 33, 44, 55, 66, 77, 88, 99],\n",
              " [0, 12, 24, 36, 48, 60, 72, 84, 96, 108],\n",
              " [0, 13, 26, 39, 52, 65, 78, 91, 104, 117],\n",
              " [0, 14, 28, 42, 56, 70, 84, 98, 112, 126],\n",
              " [0, 15, 30, 45, 60, 75, 90, 105, 120, 135],\n",
              " [0, 16, 32, 48, 64, 80, 96, 112, 128, 144],\n",
              " [0, 17, 34, 51, 68, 85, 102, 119, 136, 153],\n",
              " [0, 18, 36, 54, 72, 90, 108, 126, 144, 162],\n",
              " [0, 19, 38, 57, 76, 95, 114, 133, 152, 171]]"
            ]
          },
          "metadata": {
            "tags": []
          },
          "execution_count": 64
        }
      ]
    },
    {
      "cell_type": "code",
      "metadata": {
        "id": "FyclEKXfrfKa",
        "colab_type": "code",
        "outputId": "750f4062-46c5-4b3b-bc6c-244d91ea9a77",
        "colab": {
          "base_uri": "https://localhost:8080/",
          "height": 357
        }
      },
      "source": [
        "matriz3 = matriz[:]\n",
        "matriz[0][0] = -10\n",
        "matriz3"
      ],
      "execution_count": 0,
      "outputs": [
        {
          "output_type": "execute_result",
          "data": {
            "text/plain": [
              "[[-10, 0, 0, 0, 0, 0, 0, 0, 0, 0, 0],\n",
              " [0, 1, 2, 3, 4, 5, 6, 7, 8, 9],\n",
              " [0, 2, 4, 6, 8, 10, 12, 14, 16, 18],\n",
              " [0, 3, 6, 9, 12, 15, 18, 21, 24, 27],\n",
              " [0, 4, 8, 12, 16, 20, 24, 28, 32, 36],\n",
              " [0, 5, 10, 15, 20, 25, 30, 35, 40, 45],\n",
              " [0, 6, 12, 18, 24, 30, 36, 42, 48, 54],\n",
              " [0, 7, 14, 21, 28, 35, 42, 49, 56, 63],\n",
              " [0, 8, 16, 24, 32, 40, 48, 56, 64, 72],\n",
              " [0, 9, 18, 27, 36, 45, 54, 63, 72, 81],\n",
              " [0, 10, 20, 30, 40, 50, 60, 70, 80, 90],\n",
              " [0, 11, 22, 33, 44, 55, 66, 77, 88, 99],\n",
              " [0, 12, 24, 36, 48, 60, 72, 84, 96, 108],\n",
              " [0, 13, 26, 39, 52, 65, 78, 91, 104, 117],\n",
              " [0, 14, 28, 42, 56, 70, 84, 98, 112, 126],\n",
              " [0, 15, 30, 45, 60, 75, 90, 105, 120, 135],\n",
              " [0, 16, 32, 48, 64, 80, 96, 112, 128, 144],\n",
              " [0, 17, 34, 51, 68, 85, 102, 119, 136, 153],\n",
              " [0, 18, 36, 54, 72, 90, 108, 126, 144, 162],\n",
              " [0, 19, 38, 57, 76, 95, 114, 133, 152, 171]]"
            ]
          },
          "metadata": {
            "tags": []
          },
          "execution_count": 66
        }
      ]
    },
    {
      "cell_type": "code",
      "metadata": {
        "id": "BS_j1_zsrtyZ",
        "colab_type": "code",
        "outputId": "84f3f492-3433-4d01-bd5e-8bec553c10a1",
        "colab": {
          "base_uri": "https://localhost:8080/",
          "height": 357
        }
      },
      "source": [
        "matriz4 = matriz.copy()\n",
        "matriz[0][0] = 100\n",
        "matriz4"
      ],
      "execution_count": 0,
      "outputs": [
        {
          "output_type": "execute_result",
          "data": {
            "text/plain": [
              "[[100, 0, 0, 0, 0, 0, 0, 0, 0, 0, 0],\n",
              " [0, 1, 2, 3, 4, 5, 6, 7, 8, 9],\n",
              " [0, 2, 4, 6, 8, 10, 12, 14, 16, 18],\n",
              " [0, 3, 6, 9, 12, 15, 18, 21, 24, 27],\n",
              " [0, 4, 8, 12, 16, 20, 24, 28, 32, 36],\n",
              " [0, 5, 10, 15, 20, 25, 30, 35, 40, 45],\n",
              " [0, 6, 12, 18, 24, 30, 36, 42, 48, 54],\n",
              " [0, 7, 14, 21, 28, 35, 42, 49, 56, 63],\n",
              " [0, 8, 16, 24, 32, 40, 48, 56, 64, 72],\n",
              " [0, 9, 18, 27, 36, 45, 54, 63, 72, 81],\n",
              " [0, 10, 20, 30, 40, 50, 60, 70, 80, 90],\n",
              " [0, 11, 22, 33, 44, 55, 66, 77, 88, 99],\n",
              " [0, 12, 24, 36, 48, 60, 72, 84, 96, 108],\n",
              " [0, 13, 26, 39, 52, 65, 78, 91, 104, 117],\n",
              " [0, 14, 28, 42, 56, 70, 84, 98, 112, 126],\n",
              " [0, 15, 30, 45, 60, 75, 90, 105, 120, 135],\n",
              " [0, 16, 32, 48, 64, 80, 96, 112, 128, 144],\n",
              " [0, 17, 34, 51, 68, 85, 102, 119, 136, 153],\n",
              " [0, 18, 36, 54, 72, 90, 108, 126, 144, 162],\n",
              " [0, 19, 38, 57, 76, 95, 114, 133, 152, 171]]"
            ]
          },
          "metadata": {
            "tags": []
          },
          "execution_count": 67
        }
      ]
    },
    {
      "cell_type": "code",
      "metadata": {
        "id": "e0QPWtAfr2kv",
        "colab_type": "code",
        "outputId": "40abf873-8f76-401a-d3fa-4aa49bf7364d",
        "colab": {
          "base_uri": "https://localhost:8080/",
          "height": 357
        }
      },
      "source": [
        "matriz5 = matriz[:][:]\n",
        "matriz[0][0] = -300\n",
        "matriz5"
      ],
      "execution_count": 0,
      "outputs": [
        {
          "output_type": "execute_result",
          "data": {
            "text/plain": [
              "[[-300, 0, 0, 0, 0, 0, 0, 0, 0, 0, 0],\n",
              " [0, 1, 2, 3, 4, 5, 6, 7, 8, 9],\n",
              " [0, 2, 4, 6, 8, 10, 12, 14, 16, 18],\n",
              " [0, 3, 6, 9, 12, 15, 18, 21, 24, 27],\n",
              " [0, 4, 8, 12, 16, 20, 24, 28, 32, 36],\n",
              " [0, 5, 10, 15, 20, 25, 30, 35, 40, 45],\n",
              " [0, 6, 12, 18, 24, 30, 36, 42, 48, 54],\n",
              " [0, 7, 14, 21, 28, 35, 42, 49, 56, 63],\n",
              " [0, 8, 16, 24, 32, 40, 48, 56, 64, 72],\n",
              " [0, 9, 18, 27, 36, 45, 54, 63, 72, 81],\n",
              " [0, 10, 20, 30, 40, 50, 60, 70, 80, 90],\n",
              " [0, 11, 22, 33, 44, 55, 66, 77, 88, 99],\n",
              " [0, 12, 24, 36, 48, 60, 72, 84, 96, 108],\n",
              " [0, 13, 26, 39, 52, 65, 78, 91, 104, 117],\n",
              " [0, 14, 28, 42, 56, 70, 84, 98, 112, 126],\n",
              " [0, 15, 30, 45, 60, 75, 90, 105, 120, 135],\n",
              " [0, 16, 32, 48, 64, 80, 96, 112, 128, 144],\n",
              " [0, 17, 34, 51, 68, 85, 102, 119, 136, 153],\n",
              " [0, 18, 36, 54, 72, 90, 108, 126, 144, 162],\n",
              " [0, 19, 38, 57, 76, 95, 114, 133, 152, 171]]"
            ]
          },
          "metadata": {
            "tags": []
          },
          "execution_count": 69
        }
      ]
    },
    {
      "cell_type": "code",
      "metadata": {
        "id": "5CHVsrHdsCc_",
        "colab_type": "code",
        "outputId": "89bf4e46-7e0b-4ab7-c2d0-bf6e652f9fe9",
        "colab": {
          "base_uri": "https://localhost:8080/",
          "height": 357
        }
      },
      "source": [
        "matriz6 = [fila[:] for fila in matriz]\n",
        "matriz[0][0] = 15\n",
        "matriz6"
      ],
      "execution_count": 0,
      "outputs": [
        {
          "output_type": "execute_result",
          "data": {
            "text/plain": [
              "[[-300, 0, 0, 0, 0, 0, 0, 0, 0, 0, 0],\n",
              " [0, 1, 2, 3, 4, 5, 6, 7, 8, 9],\n",
              " [0, 2, 4, 6, 8, 10, 12, 14, 16, 18],\n",
              " [0, 3, 6, 9, 12, 15, 18, 21, 24, 27],\n",
              " [0, 4, 8, 12, 16, 20, 24, 28, 32, 36],\n",
              " [0, 5, 10, 15, 20, 25, 30, 35, 40, 45],\n",
              " [0, 6, 12, 18, 24, 30, 36, 42, 48, 54],\n",
              " [0, 7, 14, 21, 28, 35, 42, 49, 56, 63],\n",
              " [0, 8, 16, 24, 32, 40, 48, 56, 64, 72],\n",
              " [0, 9, 18, 27, 36, 45, 54, 63, 72, 81],\n",
              " [0, 10, 20, 30, 40, 50, 60, 70, 80, 90],\n",
              " [0, 11, 22, 33, 44, 55, 66, 77, 88, 99],\n",
              " [0, 12, 24, 36, 48, 60, 72, 84, 96, 108],\n",
              " [0, 13, 26, 39, 52, 65, 78, 91, 104, 117],\n",
              " [0, 14, 28, 42, 56, 70, 84, 98, 112, 126],\n",
              " [0, 15, 30, 45, 60, 75, 90, 105, 120, 135],\n",
              " [0, 16, 32, 48, 64, 80, 96, 112, 128, 144],\n",
              " [0, 17, 34, 51, 68, 85, 102, 119, 136, 153],\n",
              " [0, 18, 36, 54, 72, 90, 108, 126, 144, 162],\n",
              " [0, 19, 38, 57, 76, 95, 114, 133, 152, 171]]"
            ]
          },
          "metadata": {
            "tags": []
          },
          "execution_count": 70
        }
      ]
    },
    {
      "cell_type": "markdown",
      "metadata": {
        "id": "nVtG8DvYsbWb",
        "colab_type": "text"
      },
      "source": [
        "# Tuplas"
      ]
    },
    {
      "cell_type": "code",
      "metadata": {
        "id": "D20g_H_KsapT",
        "colab_type": "code",
        "colab": {}
      },
      "source": [
        "tupla = (1, 2, 4)"
      ],
      "execution_count": 0,
      "outputs": []
    },
    {
      "cell_type": "code",
      "metadata": {
        "id": "wE_Rw3k3skF8",
        "colab_type": "code",
        "outputId": "907eaf14-c71b-4299-95e6-7a0371360a16",
        "colab": {
          "base_uri": "https://localhost:8080/",
          "height": 34
        }
      },
      "source": [
        "len(tupla)"
      ],
      "execution_count": 0,
      "outputs": [
        {
          "output_type": "execute_result",
          "data": {
            "text/plain": [
              "3"
            ]
          },
          "metadata": {
            "tags": []
          },
          "execution_count": 72
        }
      ]
    },
    {
      "cell_type": "code",
      "metadata": {
        "id": "Ykw5xhfBsnPL",
        "colab_type": "code",
        "outputId": "5c1f63a2-2584-4dc8-aba8-49dbd80796b4",
        "colab": {
          "base_uri": "https://localhost:8080/",
          "height": 165
        }
      },
      "source": [
        "tupla[0] = 10"
      ],
      "execution_count": 0,
      "outputs": [
        {
          "output_type": "error",
          "ename": "TypeError",
          "evalue": "ignored",
          "traceback": [
            "\u001b[0;31m---------------------------------------------------------------------------\u001b[0m",
            "\u001b[0;31mTypeError\u001b[0m                                 Traceback (most recent call last)",
            "\u001b[0;32m<ipython-input-73-e9815587379a>\u001b[0m in \u001b[0;36m<module>\u001b[0;34m()\u001b[0m\n\u001b[0;32m----> 1\u001b[0;31m \u001b[0mtupla\u001b[0m\u001b[0;34m[\u001b[0m\u001b[0;36m0\u001b[0m\u001b[0;34m]\u001b[0m \u001b[0;34m=\u001b[0m \u001b[0;36m10\u001b[0m\u001b[0;34m\u001b[0m\u001b[0;34m\u001b[0m\u001b[0m\n\u001b[0m",
            "\u001b[0;31mTypeError\u001b[0m: 'tuple' object does not support item assignment"
          ]
        }
      ]
    },
    {
      "cell_type": "code",
      "metadata": {
        "id": "C4GAGxPLsrVi",
        "colab_type": "code",
        "colab": {}
      },
      "source": [
        "tupla = tupla + (1,)"
      ],
      "execution_count": 0,
      "outputs": []
    },
    {
      "cell_type": "code",
      "metadata": {
        "id": "LP9I3HhOswEM",
        "colab_type": "code",
        "outputId": "2713dfc0-1527-4982-9f0b-bb5b2f5cc532",
        "colab": {
          "base_uri": "https://localhost:8080/",
          "height": 34
        }
      },
      "source": [
        "tupla"
      ],
      "execution_count": 0,
      "outputs": [
        {
          "output_type": "execute_result",
          "data": {
            "text/plain": [
              "(1, 2, 4, 1)"
            ]
          },
          "metadata": {
            "tags": []
          },
          "execution_count": 75
        }
      ]
    },
    {
      "cell_type": "code",
      "metadata": {
        "id": "Y22vIR0wsyj5",
        "colab_type": "code",
        "outputId": "8be327f3-017c-4b2c-c10f-65c54c3c24ca",
        "colab": {
          "base_uri": "https://localhost:8080/",
          "height": 34
        }
      },
      "source": [
        "tupla = (-1,) + tupla\n",
        "tupla"
      ],
      "execution_count": 0,
      "outputs": [
        {
          "output_type": "execute_result",
          "data": {
            "text/plain": [
              "(-1, 1, 2, 4, 1)"
            ]
          },
          "metadata": {
            "tags": []
          },
          "execution_count": 76
        }
      ]
    },
    {
      "cell_type": "code",
      "metadata": {
        "id": "phwMK1Nks4pl",
        "colab_type": "code",
        "colab": {}
      },
      "source": [
        "tupla = tupla[:2] + (15,) + tupla[2:]"
      ],
      "execution_count": 0,
      "outputs": []
    },
    {
      "cell_type": "code",
      "metadata": {
        "id": "Q1hqZxB-tBHY",
        "colab_type": "code",
        "outputId": "fcb0949c-d00a-471a-ec14-d305d95ff40e",
        "colab": {
          "base_uri": "https://localhost:8080/",
          "height": 34
        }
      },
      "source": [
        "tupla"
      ],
      "execution_count": 0,
      "outputs": [
        {
          "output_type": "execute_result",
          "data": {
            "text/plain": [
              "(-1, 1, 15, 2, 4, 1)"
            ]
          },
          "metadata": {
            "tags": []
          },
          "execution_count": 79
        }
      ]
    },
    {
      "cell_type": "code",
      "metadata": {
        "id": "moen1jYttD6a",
        "colab_type": "code",
        "outputId": "05782fc5-77b7-4824-d970-ab2d4e206262",
        "colab": {
          "base_uri": "https://localhost:8080/",
          "height": 34
        }
      },
      "source": [
        "list(tupla)"
      ],
      "execution_count": 0,
      "outputs": [
        {
          "output_type": "execute_result",
          "data": {
            "text/plain": [
              "[-1, 1, 15, 2, 4, 1]"
            ]
          },
          "metadata": {
            "tags": []
          },
          "execution_count": 80
        }
      ]
    },
    {
      "cell_type": "code",
      "metadata": {
        "id": "FeSNS1UKtKJH",
        "colab_type": "code",
        "colab": {}
      },
      "source": [
        "a, b, c, d, e, f = tupla"
      ],
      "execution_count": 0,
      "outputs": []
    },
    {
      "cell_type": "code",
      "metadata": {
        "id": "0C14Uf1TtPEy",
        "colab_type": "code",
        "outputId": "79603b7b-1137-48f1-a7f3-88252b2730f4",
        "colab": {
          "base_uri": "https://localhost:8080/",
          "height": 34
        }
      },
      "source": [
        "print(a, b, c, d, e, f)"
      ],
      "execution_count": 0,
      "outputs": [
        {
          "output_type": "stream",
          "text": [
            "-1 1 15 2 4 1\n"
          ],
          "name": "stdout"
        }
      ]
    },
    {
      "cell_type": "markdown",
      "metadata": {
        "id": "Wn32mOkStipi",
        "colab_type": "text"
      },
      "source": [
        "# Diccionarios\n",
        "\n",
        "[más información](https://docs.python.org/3/tutorial/datastructures.html#dictionaries)\n"
      ]
    },
    {
      "cell_type": "code",
      "metadata": {
        "id": "W3DzsSObtkOu",
        "colab_type": "code",
        "colab": {}
      },
      "source": [
        "diccionario = {}"
      ],
      "execution_count": 0,
      "outputs": []
    },
    {
      "cell_type": "code",
      "metadata": {
        "id": "f6aHgDCstnqS",
        "colab_type": "code",
        "colab": {}
      },
      "source": [
        "diccionario[key] = value"
      ],
      "execution_count": 0,
      "outputs": []
    },
    {
      "cell_type": "code",
      "metadata": {
        "id": "hMD0RmOYtqNJ",
        "colab_type": "code",
        "colab": {}
      },
      "source": [
        "diccionario = {llave1: valor1, llave2: valor2, ..., llaven: valorn}"
      ],
      "execution_count": 0,
      "outputs": []
    },
    {
      "cell_type": "code",
      "metadata": {
        "id": "ZU2RkRzetyWS",
        "colab_type": "code",
        "outputId": "55db2771-c66e-45af-d7f7-0d1954d6a089",
        "colab": {
          "base_uri": "https://localhost:8080/",
          "height": 34
        }
      },
      "source": [
        "diccionario = {'hola': 0, 'adios': 5, 'gato': 20, 'perro': 10}\n",
        "diccionario"
      ],
      "execution_count": 0,
      "outputs": [
        {
          "output_type": "execute_result",
          "data": {
            "text/plain": [
              "{'adios': 5, 'gato': 20, 'hola': 0, 'perro': 10}"
            ]
          },
          "metadata": {
            "tags": []
          },
          "execution_count": 84
        }
      ]
    },
    {
      "cell_type": "code",
      "metadata": {
        "id": "icgwn-e5t9TE",
        "colab_type": "code",
        "outputId": "40e183e3-98cc-45cd-c5ba-0d98d8187b99",
        "colab": {
          "base_uri": "https://localhost:8080/",
          "height": 34
        }
      },
      "source": [
        "diccionario.keys()"
      ],
      "execution_count": 0,
      "outputs": [
        {
          "output_type": "execute_result",
          "data": {
            "text/plain": [
              "dict_keys(['hola', 'adios', 'gato', 'perro'])"
            ]
          },
          "metadata": {
            "tags": []
          },
          "execution_count": 85
        }
      ]
    },
    {
      "cell_type": "code",
      "metadata": {
        "id": "znR5VTOGuAr5",
        "colab_type": "code",
        "outputId": "3a7953f5-6bc9-4efd-df12-4665063fb6c4",
        "colab": {
          "base_uri": "https://localhost:8080/",
          "height": 34
        }
      },
      "source": [
        "diccionario.values()"
      ],
      "execution_count": 0,
      "outputs": [
        {
          "output_type": "execute_result",
          "data": {
            "text/plain": [
              "dict_values([0, 5, 20, 10])"
            ]
          },
          "metadata": {
            "tags": []
          },
          "execution_count": 86
        }
      ]
    },
    {
      "cell_type": "code",
      "metadata": {
        "id": "8zvHpTIMuC6x",
        "colab_type": "code",
        "outputId": "fcbf0760-1a20-4add-aaa4-1fe65c7a01c3",
        "colab": {
          "base_uri": "https://localhost:8080/",
          "height": 34
        }
      },
      "source": [
        "diccionario.items()"
      ],
      "execution_count": 0,
      "outputs": [
        {
          "output_type": "execute_result",
          "data": {
            "text/plain": [
              "dict_items([('hola', 0), ('adios', 5), ('gato', 20), ('perro', 10)])"
            ]
          },
          "metadata": {
            "tags": []
          },
          "execution_count": 87
        }
      ]
    },
    {
      "cell_type": "code",
      "metadata": {
        "id": "6X-_JYZIuHrz",
        "colab_type": "code",
        "outputId": "1ffdd974-077a-4cc1-dda1-65369bafd798",
        "colab": {
          "base_uri": "https://localhost:8080/",
          "height": 34
        }
      },
      "source": [
        "del diccionario['hola']\n",
        "diccionario"
      ],
      "execution_count": 0,
      "outputs": [
        {
          "output_type": "execute_result",
          "data": {
            "text/plain": [
              "{'adios': 5, 'gato': 20, 'perro': 10}"
            ]
          },
          "metadata": {
            "tags": []
          },
          "execution_count": 88
        }
      ]
    },
    {
      "cell_type": "code",
      "metadata": {
        "id": "7DOH_YGquNCZ",
        "colab_type": "code",
        "outputId": "2fd41915-7c0b-49b5-c421-daaa76dabbec",
        "colab": {
          "base_uri": "https://localhost:8080/",
          "height": 34
        }
      },
      "source": [
        "diccionario['hola'] = 300\n",
        "diccionario"
      ],
      "execution_count": 0,
      "outputs": [
        {
          "output_type": "execute_result",
          "data": {
            "text/plain": [
              "{'adios': 5, 'gato': 20, 'hola': 300, 'perro': 10}"
            ]
          },
          "metadata": {
            "tags": []
          },
          "execution_count": 90
        }
      ]
    },
    {
      "cell_type": "code",
      "metadata": {
        "id": "81d7PrA-uTDp",
        "colab_type": "code",
        "outputId": "477c011e-9585-45fa-899f-90bfd6b64a6e",
        "colab": {
          "base_uri": "https://localhost:8080/",
          "height": 34
        }
      },
      "source": [
        "diccionario['hola'] = 1000\n",
        "diccionario"
      ],
      "execution_count": 0,
      "outputs": [
        {
          "output_type": "execute_result",
          "data": {
            "text/plain": [
              "{'adios': 5, 'gato': 20, 'hola': 1000, 'perro': 10}"
            ]
          },
          "metadata": {
            "tags": []
          },
          "execution_count": 92
        }
      ]
    },
    {
      "cell_type": "code",
      "metadata": {
        "id": "sS0ULdULuXy7",
        "colab_type": "code",
        "outputId": "00d8ecd5-d781-4405-960c-f429de80c63c",
        "colab": {
          "base_uri": "https://localhost:8080/",
          "height": 34
        }
      },
      "source": [
        "diccionario['adios']"
      ],
      "execution_count": 0,
      "outputs": [
        {
          "output_type": "execute_result",
          "data": {
            "text/plain": [
              "5"
            ]
          },
          "metadata": {
            "tags": []
          },
          "execution_count": 93
        }
      ]
    },
    {
      "cell_type": "code",
      "metadata": {
        "id": "VJY-ZHW0ub9X",
        "colab_type": "code",
        "outputId": "1168865e-699f-4fd1-c14a-97087e89ca1b",
        "colab": {
          "base_uri": "https://localhost:8080/",
          "height": 165
        }
      },
      "source": [
        "diccionario['kinder']"
      ],
      "execution_count": 0,
      "outputs": [
        {
          "output_type": "error",
          "ename": "KeyError",
          "evalue": "ignored",
          "traceback": [
            "\u001b[0;31m---------------------------------------------------------------------------\u001b[0m",
            "\u001b[0;31mKeyError\u001b[0m                                  Traceback (most recent call last)",
            "\u001b[0;32m<ipython-input-94-9b711fff73eb>\u001b[0m in \u001b[0;36m<module>\u001b[0;34m()\u001b[0m\n\u001b[0;32m----> 1\u001b[0;31m \u001b[0mdiccionario\u001b[0m\u001b[0;34m[\u001b[0m\u001b[0;34m'kinder'\u001b[0m\u001b[0;34m]\u001b[0m\u001b[0;34m\u001b[0m\u001b[0;34m\u001b[0m\u001b[0m\n\u001b[0m",
            "\u001b[0;31mKeyError\u001b[0m: 'kinder'"
          ]
        }
      ]
    },
    {
      "cell_type": "markdown",
      "metadata": {
        "id": "WfY6qg6YuieJ",
        "colab_type": "text"
      },
      "source": [
        "# Compresion de diccionarios"
      ]
    },
    {
      "cell_type": "code",
      "metadata": {
        "id": "IEFXrXBJuktX",
        "colab_type": "code",
        "outputId": "13b3d364-3476-4e9e-dcfd-fb827a6a5fe2",
        "colab": {
          "base_uri": "https://localhost:8080/",
          "height": 34
        }
      },
      "source": [
        "diccionario = {i: i**2 for i in range(10)}\n",
        "diccionario"
      ],
      "execution_count": 0,
      "outputs": [
        {
          "output_type": "execute_result",
          "data": {
            "text/plain": [
              "{0: 0, 1: 1, 2: 4, 3: 9, 4: 16, 5: 25, 6: 36, 7: 49, 8: 64, 9: 81}"
            ]
          },
          "metadata": {
            "tags": []
          },
          "execution_count": 95
        }
      ]
    },
    {
      "cell_type": "code",
      "metadata": {
        "id": "JTDFZ78lu0n4",
        "colab_type": "code",
        "outputId": "de9f4970-33a7-4e67-9fe6-75c9080094ac",
        "colab": {
          "base_uri": "https://localhost:8080/",
          "height": 34
        }
      },
      "source": [
        "llaves = [0, 1, 2, 3, 4]\n",
        "valores = [0, 1, 4, 9, 16]\n",
        "\n",
        "# zip -> [(itemLista, itemLista2)]\n",
        "diccionario = {llave: valor for llave, valor in zip(llaves, valores)}\n",
        "diccionario"
      ],
      "execution_count": 0,
      "outputs": [
        {
          "output_type": "execute_result",
          "data": {
            "text/plain": [
              "{0: 0, 1: 1, 2: 4, 3: 9, 4: 16}"
            ]
          },
          "metadata": {
            "tags": []
          },
          "execution_count": 97
        }
      ]
    },
    {
      "cell_type": "code",
      "metadata": {
        "id": "gKiq5AQvvui-",
        "colab_type": "code",
        "outputId": "2d1d3b9c-af56-400e-a797-457c68a6877c",
        "colab": {
          "base_uri": "https://localhost:8080/",
          "height": 34
        }
      },
      "source": [
        "diccionario['hola'] = [1, 2, 3]\n",
        "diccionario"
      ],
      "execution_count": 0,
      "outputs": [
        {
          "output_type": "execute_result",
          "data": {
            "text/plain": [
              "{0: 0, 1: 1, 2: 4, 3: 9, 4: 16, 'hola': [1, 2, 3]}"
            ]
          },
          "metadata": {
            "tags": []
          },
          "execution_count": 98
        }
      ]
    },
    {
      "cell_type": "code",
      "metadata": {
        "id": "xJiSWaQ7vzlV",
        "colab_type": "code",
        "colab": {}
      },
      "source": [
        "diccionario['hola'].append(10)"
      ],
      "execution_count": 0,
      "outputs": []
    },
    {
      "cell_type": "code",
      "metadata": {
        "id": "woYiIPa1v4CA",
        "colab_type": "code",
        "outputId": "bd5511f8-2014-41c0-fc8c-2fa942ee0b89",
        "colab": {
          "base_uri": "https://localhost:8080/",
          "height": 34
        }
      },
      "source": [
        "diccionario"
      ],
      "execution_count": 0,
      "outputs": [
        {
          "output_type": "execute_result",
          "data": {
            "text/plain": [
              "{0: 0, 1: 1, 2: 4, 3: 9, 4: 16, 'hola': [1, 2, 3, 10]}"
            ]
          },
          "metadata": {
            "tags": []
          },
          "execution_count": 100
        }
      ]
    },
    {
      "cell_type": "markdown",
      "metadata": {
        "id": "1P5PUkudwKIJ",
        "colab_type": "text"
      },
      "source": [
        "# Cadenas\n",
        "\n",
        "[Todos los métodos](https://docs.python.org/3/library/stdtypes.html#string-methods)"
      ]
    },
    {
      "cell_type": "code",
      "metadata": {
        "id": "eUkdgV2WwMMx",
        "colab_type": "code",
        "colab": {}
      },
      "source": [
        "cadena = '' # = \"\"\n",
        "# cadena = ' '"
      ],
      "execution_count": 0,
      "outputs": []
    },
    {
      "cell_type": "code",
      "metadata": {
        "id": "BNT7nOirwdFb",
        "colab_type": "code",
        "outputId": "408a89b5-924c-41ec-aa76-9fcd5cf52621",
        "colab": {
          "base_uri": "https://localhost:8080/",
          "height": 34
        }
      },
      "source": [
        "cadena = '123'\n",
        "cadena"
      ],
      "execution_count": 0,
      "outputs": [
        {
          "output_type": "execute_result",
          "data": {
            "text/plain": [
              "'123'"
            ]
          },
          "metadata": {
            "tags": []
          },
          "execution_count": 102
        }
      ]
    },
    {
      "cell_type": "code",
      "metadata": {
        "id": "VKXKA7gKwh0-",
        "colab_type": "code",
        "outputId": "d60b77bb-c82d-4992-ec4e-e38dd6581e23",
        "colab": {
          "base_uri": "https://localhost:8080/",
          "height": 34
        }
      },
      "source": [
        "int(cadena)"
      ],
      "execution_count": 0,
      "outputs": [
        {
          "output_type": "execute_result",
          "data": {
            "text/plain": [
              "123"
            ]
          },
          "metadata": {
            "tags": []
          },
          "execution_count": 103
        }
      ]
    },
    {
      "cell_type": "code",
      "metadata": {
        "id": "-JWfJQpEwkQn",
        "colab_type": "code",
        "outputId": "8823ab9b-dfc0-41c3-937c-28be4d05a3db",
        "colab": {
          "base_uri": "https://localhost:8080/",
          "height": 182
        }
      },
      "source": [
        "cadena = '1h12b'\n",
        "int(cadena)"
      ],
      "execution_count": 0,
      "outputs": [
        {
          "output_type": "error",
          "ename": "ValueError",
          "evalue": "ignored",
          "traceback": [
            "\u001b[0;31m---------------------------------------------------------------------------\u001b[0m",
            "\u001b[0;31mValueError\u001b[0m                                Traceback (most recent call last)",
            "\u001b[0;32m<ipython-input-104-9c73f2ffca77>\u001b[0m in \u001b[0;36m<module>\u001b[0;34m()\u001b[0m\n\u001b[1;32m      1\u001b[0m \u001b[0mcadena\u001b[0m \u001b[0;34m=\u001b[0m \u001b[0;34m'1h12b'\u001b[0m\u001b[0;34m\u001b[0m\u001b[0;34m\u001b[0m\u001b[0m\n\u001b[0;32m----> 2\u001b[0;31m \u001b[0mint\u001b[0m\u001b[0;34m(\u001b[0m\u001b[0mcadena\u001b[0m\u001b[0;34m)\u001b[0m\u001b[0;34m\u001b[0m\u001b[0;34m\u001b[0m\u001b[0m\n\u001b[0m",
            "\u001b[0;31mValueError\u001b[0m: invalid literal for int() with base 10: '1h12b'"
          ]
        }
      ]
    },
    {
      "cell_type": "code",
      "metadata": {
        "id": "5T_jbF8ZwrGh",
        "colab_type": "code",
        "outputId": "f265ce5d-5c1e-4fd4-e6ef-da9ff902b51d",
        "colab": {
          "base_uri": "https://localhost:8080/",
          "height": 34
        }
      },
      "source": [
        "cadena = '1h12b'\n",
        "cadena.isnumeric()"
      ],
      "execution_count": 0,
      "outputs": [
        {
          "output_type": "execute_result",
          "data": {
            "text/plain": [
              "False"
            ]
          },
          "metadata": {
            "tags": []
          },
          "execution_count": 105
        }
      ]
    },
    {
      "cell_type": "code",
      "metadata": {
        "id": "vMO7tiQnwzTK",
        "colab_type": "code",
        "outputId": "b143e82b-bb44-4982-a986-fcc37bbe1751",
        "colab": {
          "base_uri": "https://localhost:8080/",
          "height": 34
        }
      },
      "source": [
        "cadena = '112'\n",
        "cadena.isnumeric()"
      ],
      "execution_count": 0,
      "outputs": [
        {
          "output_type": "execute_result",
          "data": {
            "text/plain": [
              "True"
            ]
          },
          "metadata": {
            "tags": []
          },
          "execution_count": 106
        }
      ]
    },
    {
      "cell_type": "code",
      "metadata": {
        "id": "FrwCqn9fw3s9",
        "colab_type": "code",
        "outputId": "76de3894-90f8-44e3-ca64-281af0dd250a",
        "colab": {
          "base_uri": "https://localhost:8080/",
          "height": 34
        }
      },
      "source": [
        "'ajhfhfkd'.upper()"
      ],
      "execution_count": 0,
      "outputs": [
        {
          "output_type": "execute_result",
          "data": {
            "text/plain": [
              "'AJHFHFKD'"
            ]
          },
          "metadata": {
            "tags": []
          },
          "execution_count": 107
        }
      ]
    },
    {
      "cell_type": "code",
      "metadata": {
        "id": "ALTP9Hh-w7hZ",
        "colab_type": "code",
        "outputId": "566237c6-5d9c-4d0a-9b78-cf42da55e7ce",
        "colab": {
          "base_uri": "https://localhost:8080/",
          "height": 34
        }
      },
      "source": [
        "'KSFKSFJKS'.lower()"
      ],
      "execution_count": 0,
      "outputs": [
        {
          "output_type": "execute_result",
          "data": {
            "text/plain": [
              "'ksfksfjks'"
            ]
          },
          "metadata": {
            "tags": []
          },
          "execution_count": 108
        }
      ]
    },
    {
      "cell_type": "code",
      "metadata": {
        "id": "q1wJ5Moww_Km",
        "colab_type": "code",
        "outputId": "56602bc6-745c-44ac-a015-63425147920e",
        "colab": {
          "base_uri": "https://localhost:8080/",
          "height": 34
        }
      },
      "source": [
        "'dkjkfsk'.capitalize()"
      ],
      "execution_count": 0,
      "outputs": [
        {
          "output_type": "execute_result",
          "data": {
            "text/plain": [
              "'Dkjkfsk'"
            ]
          },
          "metadata": {
            "tags": []
          },
          "execution_count": 109
        }
      ]
    },
    {
      "cell_type": "code",
      "metadata": {
        "id": "o7EW8m47xGJR",
        "colab_type": "code",
        "outputId": "430d6944-d317-49f5-c142-6e87ef94f45e",
        "colab": {
          "base_uri": "https://localhost:8080/",
          "height": 34
        }
      },
      "source": [
        "'ajsfhsa'.isupper()"
      ],
      "execution_count": 0,
      "outputs": [
        {
          "output_type": "execute_result",
          "data": {
            "text/plain": [
              "False"
            ]
          },
          "metadata": {
            "tags": []
          },
          "execution_count": 110
        }
      ]
    },
    {
      "cell_type": "code",
      "metadata": {
        "id": "9WFvlCQOxNMT",
        "colab_type": "code",
        "outputId": "4f5eeb40-120f-48dc-da0b-97cbd1e504a5",
        "colab": {
          "base_uri": "https://localhost:8080/",
          "height": 34
        }
      },
      "source": [
        "'HsjISJF'.isupper()"
      ],
      "execution_count": 0,
      "outputs": [
        {
          "output_type": "execute_result",
          "data": {
            "text/plain": [
              "False"
            ]
          },
          "metadata": {
            "tags": []
          },
          "execution_count": 111
        }
      ]
    },
    {
      "cell_type": "code",
      "metadata": {
        "id": "2BUCOPXixQPn",
        "colab_type": "code",
        "outputId": "b28f07b7-242a-45fa-96de-f6d82cb68486",
        "colab": {
          "base_uri": "https://localhost:8080/",
          "height": 34
        }
      },
      "source": [
        "'ASIFHFF'.isupper()"
      ],
      "execution_count": 0,
      "outputs": [
        {
          "output_type": "execute_result",
          "data": {
            "text/plain": [
              "True"
            ]
          },
          "metadata": {
            "tags": []
          },
          "execution_count": 112
        }
      ]
    },
    {
      "cell_type": "code",
      "metadata": {
        "id": "xzNyDvKTxTmP",
        "colab_type": "code",
        "outputId": "cd26d43f-2d35-4a5b-d7d7-a4ac30c68982",
        "colab": {
          "base_uri": "https://localhost:8080/",
          "height": 34
        }
      },
      "source": [
        "'ajsfhsa'.islower()"
      ],
      "execution_count": 0,
      "outputs": [
        {
          "output_type": "execute_result",
          "data": {
            "text/plain": [
              "True"
            ]
          },
          "metadata": {
            "tags": []
          },
          "execution_count": 113
        }
      ]
    },
    {
      "cell_type": "code",
      "metadata": {
        "id": "FLYOX6b9xZLn",
        "colab_type": "code",
        "outputId": "f04ddf63-333c-47f4-a32e-9019d50d92c6",
        "colab": {
          "base_uri": "https://localhost:8080/",
          "height": 34
        }
      },
      "source": [
        "num1 = 6\n",
        "num2 = 5\n",
        "suma = num1 + num2\n",
        "formato = '{} + {} = {}'.format(num1, num2, suma)\n",
        "print(formato)"
      ],
      "execution_count": 0,
      "outputs": [
        {
          "output_type": "stream",
          "text": [
            "6 + 5 = 11\n"
          ],
          "name": "stdout"
        }
      ]
    },
    {
      "cell_type": "code",
      "metadata": {
        "id": "qPKLWtoFx5x1",
        "colab_type": "code",
        "outputId": "4f626ecd-aae1-4564-a6ff-ad982ddc7f0b",
        "colab": {
          "base_uri": "https://localhost:8080/",
          "height": 34
        }
      },
      "source": [
        "sorted('hola') # Ordena por codigo ASCII"
      ],
      "execution_count": 0,
      "outputs": [
        {
          "output_type": "execute_result",
          "data": {
            "text/plain": [
              "['a', 'h', 'l', 'o']"
            ]
          },
          "metadata": {
            "tags": []
          },
          "execution_count": 115
        }
      ]
    },
    {
      "cell_type": "code",
      "metadata": {
        "id": "QJVe8n1ax-qw",
        "colab_type": "code",
        "outputId": "8e347d3a-16d5-4e81-aafa-c00cf80a0e19",
        "colab": {
          "base_uri": "https://localhost:8080/",
          "height": 34
        }
      },
      "source": [
        "sorted('Hola')"
      ],
      "execution_count": 0,
      "outputs": [
        {
          "output_type": "execute_result",
          "data": {
            "text/plain": [
              "['H', 'a', 'l', 'o']"
            ]
          },
          "metadata": {
            "tags": []
          },
          "execution_count": 116
        }
      ]
    },
    {
      "cell_type": "code",
      "metadata": {
        "id": "VD4cKHlEyOjQ",
        "colab_type": "code",
        "outputId": "c8b5784b-75d4-4aff-8803-16932fde8f68",
        "colab": {
          "base_uri": "https://localhost:8080/",
          "height": 34
        }
      },
      "source": [
        "''.join(sorted('hola'))"
      ],
      "execution_count": 0,
      "outputs": [
        {
          "output_type": "execute_result",
          "data": {
            "text/plain": [
              "'ahlo'"
            ]
          },
          "metadata": {
            "tags": []
          },
          "execution_count": 117
        }
      ]
    },
    {
      "cell_type": "code",
      "metadata": {
        "id": "MEcZWKJxyWUX",
        "colab_type": "code",
        "outputId": "7620eec5-beef-4549-b6a2-1c9c5daaa1fd",
        "colab": {
          "base_uri": "https://localhost:8080/",
          "height": 34
        }
      },
      "source": [
        "'--'.join(sorted('hola'))"
      ],
      "execution_count": 0,
      "outputs": [
        {
          "output_type": "execute_result",
          "data": {
            "text/plain": [
              "'a--h--l--o'"
            ]
          },
          "metadata": {
            "tags": []
          },
          "execution_count": 118
        }
      ]
    },
    {
      "cell_type": "code",
      "metadata": {
        "id": "SEwMkKGwybVD",
        "colab_type": "code",
        "outputId": "dcc83435-fcef-4576-f2f7-ae1c0cdf2c4a",
        "colab": {
          "base_uri": "https://localhost:8080/",
          "height": 34
        }
      },
      "source": [
        "'adios'.join(sorted('hola'))"
      ],
      "execution_count": 0,
      "outputs": [
        {
          "output_type": "execute_result",
          "data": {
            "text/plain": [
              "'aadioshadiosladioso'"
            ]
          },
          "metadata": {
            "tags": []
          },
          "execution_count": 119
        }
      ]
    },
    {
      "cell_type": "code",
      "metadata": {
        "id": "iwICCglBy0db",
        "colab_type": "code",
        "outputId": "9e4a17f9-e634-467f-f7fe-9e248f2a5a32",
        "colab": {
          "base_uri": "https://localhost:8080/",
          "height": 34
        }
      },
      "source": [
        "sorted(['erick', 'ana', 'andres', 'danny', 'samuel'])"
      ],
      "execution_count": 0,
      "outputs": [
        {
          "output_type": "execute_result",
          "data": {
            "text/plain": [
              "['ana', 'andres', 'danny', 'erick', 'samuel']"
            ]
          },
          "metadata": {
            "tags": []
          },
          "execution_count": 120
        }
      ]
    },
    {
      "cell_type": "markdown",
      "metadata": {
        "id": "4XDZYXjnzgJ_",
        "colab_type": "text"
      },
      "source": [
        "# Recursividad o Recursion"
      ]
    },
    {
      "cell_type": "markdown",
      "metadata": {
        "id": "0uIUftX6zpxb",
        "colab_type": "text"
      },
      "source": [
        "$\\sum_{i=0}^{n}{i} = 0 + 1 + 2 + 3 + ... + n$"
      ]
    },
    {
      "cell_type": "code",
      "metadata": {
        "id": "LYjqJHuwzfKj",
        "colab_type": "code",
        "colab": {}
      },
      "source": [
        "\"\"\"\n",
        "sumatoria(5)\n",
        "5 + sumatoria(4)\n",
        "5 + 4 + sumatoria(3)\n",
        "5 + 4 + 3 + sumatoria(2)\n",
        "5 + 4 + 3 + 2 + sumatoria(1)\n",
        "5 + 4 + 3 + 2 + 1 + sumatoria(0)\n",
        "5 + 4 + 3 + 2 + 1 + 0\n",
        "5 + 4 + 3 + 2 + 1\n",
        "5 + 4 + 3 + 3\n",
        "5 + 4 + 6\n",
        "5 + 10\n",
        "15\n",
        "\n",
        ">>> 15\n",
        "\"\"\"\n",
        "def sumatoria(num):\n",
        "    print(num)\n",
        "    if num == 0:\n",
        "        return 0\n",
        "    return num + sumatoria(num - 1)"
      ],
      "execution_count": 0,
      "outputs": []
    },
    {
      "cell_type": "code",
      "metadata": {
        "id": "ESUAbla8zD50",
        "colab_type": "code",
        "outputId": "c47b45da-41fa-47cf-8f7a-5b18417139d5",
        "colab": {
          "base_uri": "https://localhost:8080/",
          "height": 136
        }
      },
      "source": [
        "sumatoria(5)"
      ],
      "execution_count": 0,
      "outputs": [
        {
          "output_type": "stream",
          "text": [
            "5\n",
            "4\n",
            "3\n",
            "2\n",
            "1\n",
            "0\n"
          ],
          "name": "stdout"
        },
        {
          "output_type": "execute_result",
          "data": {
            "text/plain": [
              "15"
            ]
          },
          "metadata": {
            "tags": []
          },
          "execution_count": 125
        }
      ]
    },
    {
      "cell_type": "code",
      "metadata": {
        "id": "N1ALiGi41qGq",
        "colab_type": "code",
        "colab": {}
      },
      "source": [
        "\"\"\"\n",
        "crearSequencia(3)\n",
        "[3] + crearSequencia(2)\n",
        "[3] + [2] + crearSequencia(1)\n",
        "[3] + [2] + [1] + crearSequencia(0)\n",
        "[3] + [2] + [1] + [0]\n",
        "[3] + [2] + [1, 0]\n",
        "[3] + [2, 1, 0]\n",
        "[3, 2, 1, 0]\n",
        "\"\"\"\n",
        "def crearSequencia(num):\n",
        "    if (num == 0):\n",
        "        return [0]\n",
        "    return [num] + crearSequencia(num - 1)"
      ],
      "execution_count": 0,
      "outputs": []
    },
    {
      "cell_type": "code",
      "metadata": {
        "id": "ZrS8XBKR17TA",
        "colab_type": "code",
        "outputId": "cab95a07-c993-43a4-dbbd-214d065bddea",
        "colab": {
          "base_uri": "https://localhost:8080/",
          "height": 34
        }
      },
      "source": [
        "crearSequencia(3)"
      ],
      "execution_count": 0,
      "outputs": [
        {
          "output_type": "execute_result",
          "data": {
            "text/plain": [
              "[3, 2, 1, 0]"
            ]
          },
          "metadata": {
            "tags": []
          },
          "execution_count": 127
        }
      ]
    },
    {
      "cell_type": "code",
      "metadata": {
        "id": "jFtxBxBA2blS",
        "colab_type": "code",
        "colab": {}
      },
      "source": [
        "def crearSequencia(num):\n",
        "    if (num == 0):\n",
        "        return [0]\n",
        "    return crearSequencia(num - 1) + [num]"
      ],
      "execution_count": 0,
      "outputs": []
    },
    {
      "cell_type": "code",
      "metadata": {
        "id": "xQw8MCwN2hft",
        "colab_type": "code",
        "outputId": "df08eacc-d73f-4298-ca2f-ed8f51e8c399",
        "colab": {
          "base_uri": "https://localhost:8080/",
          "height": 34
        }
      },
      "source": [
        "crearSequencia(3)"
      ],
      "execution_count": 0,
      "outputs": [
        {
          "output_type": "execute_result",
          "data": {
            "text/plain": [
              "[0, 1, 2, 3]"
            ]
          },
          "metadata": {
            "tags": []
          },
          "execution_count": 129
        }
      ]
    },
    {
      "cell_type": "code",
      "metadata": {
        "id": "HIXGJki220d-",
        "colab_type": "code",
        "colab": {}
      },
      "source": [
        "import random\n",
        "\n",
        "def crearFila(cols):\n",
        "    if (cols == 0):\n",
        "        return []\n",
        "    return crearFila(cols - 1) + [random.randint(0, 9)]\n",
        "\n",
        "def crearMatriz(filas, cols):\n",
        "    if filas == 0:\n",
        "        return []\n",
        "    else:\n",
        "        return [crearFila(cols)] + crearMatriz(filas - 1, cols)"
      ],
      "execution_count": 0,
      "outputs": []
    },
    {
      "cell_type": "code",
      "metadata": {
        "id": "6vASFvmF3oAy",
        "colab_type": "code",
        "outputId": "670013e1-7945-4b16-cbcf-32f3802e6ed4",
        "colab": {
          "base_uri": "https://localhost:8080/",
          "height": 34
        }
      },
      "source": [
        "\"\"\"\n",
        "crearMatriz(2, 3)\n",
        "[crearFila(3)] + crearMatriz(1, 3)\n",
        "[crearFila(2) + [3]] + crearMatriz(1, 3)\n",
        "[crearFila(1) + [4] + [3]] + crearMatriz(1, 3)\n",
        "[crearFila(0) + [4] + [4] + [3]] + crearMatriz(1, 3)\n",
        "[[] + [4] + [4] + [3]] + crearMatriz(1, 3)\n",
        "[[4, 4, 3]] + crearMatriz(1, 3)\n",
        "[[4, 4, 3]] + [crearFila(3)] + crearMatriz(0, 3)\n",
        "[[4, 4, 3]] + [[5, 2, 1]] + crearMatriz(0, 3)\n",
        "[[4, 4, 3]] + [[5, 2, 1]] + []\n",
        "[[4, 4, 3]] + [[5, 2, 1]]\n",
        "[[4, 4, 3], [5, 2, 1]]\n",
        ">>> [[4, 4, 3], [5, 2, 1]]\n",
        "\"\"\"\n",
        "crearMatriz(2, 3)"
      ],
      "execution_count": 0,
      "outputs": [
        {
          "output_type": "execute_result",
          "data": {
            "text/plain": [
              "[[4, 4, 3], [5, 2, 1]]"
            ]
          },
          "metadata": {
            "tags": []
          },
          "execution_count": 137
        }
      ]
    },
    {
      "cell_type": "markdown",
      "metadata": {
        "id": "CmslC2w76vAS",
        "colab_type": "text"
      },
      "source": [
        "# Recursividad de Cola"
      ]
    },
    {
      "cell_type": "code",
      "metadata": {
        "id": "1h_uI3b361jB",
        "colab_type": "code",
        "colab": {}
      },
      "source": [
        ""
      ],
      "execution_count": 0,
      "outputs": []
    }
  ]
}