{
  "nbformat": 4,
  "nbformat_minor": 0,
  "metadata": {
    "colab": {
      "name": "03-Entrada y Salida de datos/Condicionales/Funciones.ipynb",
      "provenance": []
    },
    "kernelspec": {
      "name": "python3",
      "display_name": "Python 3"
    }
  },
  "cells": [
    {
      "cell_type": "markdown",
      "metadata": {
        "id": "CdGqnTGJwtaD",
        "colab_type": "text"
      },
      "source": [
        "# Entradas y Salidas\n",
        "* input('Mensaje')"
      ]
    },
    {
      "cell_type": "code",
      "metadata": {
        "id": "JqrN1-4AwpGX",
        "colab_type": "code",
        "outputId": "128e25d9-9c9a-4181-c1ed-36ee36b5caa2",
        "colab": {
          "base_uri": "https://localhost:8080/",
          "height": 34
        }
      },
      "source": [
        "lado = input('Valor del lado: ')"
      ],
      "execution_count": 0,
      "outputs": [
        {
          "output_type": "stream",
          "text": [
            "Valor del lado: 100\n"
          ],
          "name": "stdout"
        }
      ]
    },
    {
      "cell_type": "code",
      "metadata": {
        "id": "oSOvZJNgw9WD",
        "colab_type": "code",
        "outputId": "822fc2ac-97c8-4c8f-cea6-f237b3af9310",
        "colab": {
          "base_uri": "https://localhost:8080/",
          "height": 34
        }
      },
      "source": [
        "lado"
      ],
      "execution_count": 0,
      "outputs": [
        {
          "output_type": "execute_result",
          "data": {
            "text/plain": [
              "'100'"
            ]
          },
          "metadata": {
            "tags": []
          },
          "execution_count": 2
        }
      ]
    },
    {
      "cell_type": "code",
      "metadata": {
        "id": "TWFAGxkFw_uf",
        "colab_type": "code",
        "outputId": "834462dd-cd95-4ce8-8c98-a287d7d3f1fa",
        "colab": {
          "base_uri": "https://localhost:8080/",
          "height": 162
        }
      },
      "source": [
        "lado * lado"
      ],
      "execution_count": 0,
      "outputs": [
        {
          "output_type": "error",
          "ename": "TypeError",
          "evalue": "ignored",
          "traceback": [
            "\u001b[0;31m---------------------------------------------------------------------------\u001b[0m",
            "\u001b[0;31mTypeError\u001b[0m                                 Traceback (most recent call last)",
            "\u001b[0;32m<ipython-input-3-b6354b94a5e8>\u001b[0m in \u001b[0;36m<module>\u001b[0;34m()\u001b[0m\n\u001b[0;32m----> 1\u001b[0;31m \u001b[0mlado\u001b[0m \u001b[0;34m*\u001b[0m \u001b[0mlado\u001b[0m\u001b[0;34m\u001b[0m\u001b[0;34m\u001b[0m\u001b[0m\n\u001b[0m",
            "\u001b[0;31mTypeError\u001b[0m: can't multiply sequence by non-int of type 'str'"
          ]
        }
      ]
    },
    {
      "cell_type": "code",
      "metadata": {
        "id": "pTvsWv0PxFEu",
        "colab_type": "code",
        "outputId": "32407fee-00f4-4680-af8a-2bd08cd0fa9c",
        "colab": {
          "base_uri": "https://localhost:8080/",
          "height": 34
        }
      },
      "source": [
        "lado = int(input('Valor del lado: '))"
      ],
      "execution_count": 0,
      "outputs": [
        {
          "output_type": "stream",
          "text": [
            "Valor del lado: 100\n"
          ],
          "name": "stdout"
        }
      ]
    },
    {
      "cell_type": "code",
      "metadata": {
        "id": "mvC9za8DxLTO",
        "colab_type": "code",
        "outputId": "d038aae7-345f-4c91-91ef-850d6b601f2e",
        "colab": {
          "base_uri": "https://localhost:8080/",
          "height": 34
        }
      },
      "source": [
        "lado"
      ],
      "execution_count": 0,
      "outputs": [
        {
          "output_type": "execute_result",
          "data": {
            "text/plain": [
              "100"
            ]
          },
          "metadata": {
            "tags": []
          },
          "execution_count": 5
        }
      ]
    },
    {
      "cell_type": "code",
      "metadata": {
        "id": "qxc7aDBhxN88",
        "colab_type": "code",
        "outputId": "01363cb8-1d4f-4fd6-ed33-f1157fad681a",
        "colab": {
          "base_uri": "https://localhost:8080/",
          "height": 34
        }
      },
      "source": [
        "lado * lado"
      ],
      "execution_count": 0,
      "outputs": [
        {
          "output_type": "execute_result",
          "data": {
            "text/plain": [
              "10000"
            ]
          },
          "metadata": {
            "tags": []
          },
          "execution_count": 6
        }
      ]
    },
    {
      "cell_type": "code",
      "metadata": {
        "id": "of4keCYdxQvP",
        "colab_type": "code",
        "outputId": "150700c5-0d2a-4c20-b74c-3d602933d204",
        "colab": {
          "base_uri": "https://localhost:8080/",
          "height": 34
        }
      },
      "source": [
        "lado = float(input('Lado: '))"
      ],
      "execution_count": 0,
      "outputs": [
        {
          "output_type": "stream",
          "text": [
            "Lado: 123\n"
          ],
          "name": "stdout"
        }
      ]
    },
    {
      "cell_type": "code",
      "metadata": {
        "id": "KnJLR0B4xVTX",
        "colab_type": "code",
        "outputId": "617f3480-57c5-40e0-da6b-4e1c45becedf",
        "colab": {
          "base_uri": "https://localhost:8080/",
          "height": 34
        }
      },
      "source": [
        "lado"
      ],
      "execution_count": 0,
      "outputs": [
        {
          "output_type": "execute_result",
          "data": {
            "text/plain": [
              "123.0"
            ]
          },
          "metadata": {
            "tags": []
          },
          "execution_count": 8
        }
      ]
    },
    {
      "cell_type": "code",
      "metadata": {
        "id": "jSOEVxenxXVT",
        "colab_type": "code",
        "outputId": "520b2813-fac4-457d-b640-e5968508dcbd",
        "colab": {
          "base_uri": "https://localhost:8080/",
          "height": 34
        }
      },
      "source": [
        "lado * lado"
      ],
      "execution_count": 0,
      "outputs": [
        {
          "output_type": "execute_result",
          "data": {
            "text/plain": [
              "15129.0"
            ]
          },
          "metadata": {
            "tags": []
          },
          "execution_count": 9
        }
      ]
    },
    {
      "cell_type": "markdown",
      "metadata": {
        "id": "CBvh7Atnxare",
        "colab_type": "text"
      },
      "source": [
        "## Calcular area de un cuadrado"
      ]
    },
    {
      "cell_type": "code",
      "metadata": {
        "id": "XpP7WbuxxdMi",
        "colab_type": "code",
        "outputId": "55f450f7-914b-4e4c-a519-d4a8cbdca3b5",
        "colab": {
          "base_uri": "https://localhost:8080/",
          "height": 50
        }
      },
      "source": [
        "lado = float(input('Valor del lado: '))\n",
        "area = lado * lado # lado ** 2\n",
        "print('El area del cuadrado es', area)"
      ],
      "execution_count": 0,
      "outputs": [
        {
          "output_type": "stream",
          "text": [
            "Valor del lado: 10\n",
            "El area del cuadrado es 100.0\n"
          ],
          "name": "stdout"
        }
      ]
    },
    {
      "cell_type": "code",
      "metadata": {
        "id": "H5I-YTIdyBcH",
        "colab_type": "code",
        "colab": {}
      },
      "source": [
        "num = 10"
      ],
      "execution_count": 0,
      "outputs": []
    },
    {
      "cell_type": "code",
      "metadata": {
        "id": "i5TM1eeIyjsq",
        "colab_type": "code",
        "outputId": "c00da29f-8502-4214-a77e-21e063258165",
        "colab": {
          "base_uri": "https://localhost:8080/",
          "height": 34
        }
      },
      "source": [
        "num = num + 5\n",
        "num"
      ],
      "execution_count": 0,
      "outputs": [
        {
          "output_type": "execute_result",
          "data": {
            "text/plain": [
              "15"
            ]
          },
          "metadata": {
            "tags": []
          },
          "execution_count": 12
        }
      ]
    },
    {
      "cell_type": "code",
      "metadata": {
        "id": "M5id9ynKypCg",
        "colab_type": "code",
        "outputId": "752ad32c-9fd1-405c-ded5-0628147fa764",
        "colab": {
          "base_uri": "https://localhost:8080/",
          "height": 34
        }
      },
      "source": [
        "num += 5\n",
        "num"
      ],
      "execution_count": 0,
      "outputs": [
        {
          "output_type": "execute_result",
          "data": {
            "text/plain": [
              "25"
            ]
          },
          "metadata": {
            "tags": []
          },
          "execution_count": 14
        }
      ]
    },
    {
      "cell_type": "code",
      "metadata": {
        "id": "1DhKZku-yxfk",
        "colab_type": "code",
        "outputId": "e3eb7a48-299a-4f8a-b8f3-53e7e86d6dee",
        "colab": {
          "base_uri": "https://localhost:8080/",
          "height": 34
        }
      },
      "source": [
        "num -= 10\n",
        "num"
      ],
      "execution_count": 0,
      "outputs": [
        {
          "output_type": "execute_result",
          "data": {
            "text/plain": [
              "15"
            ]
          },
          "metadata": {
            "tags": []
          },
          "execution_count": 15
        }
      ]
    },
    {
      "cell_type": "code",
      "metadata": {
        "id": "wQvsy8C6y0hK",
        "colab_type": "code",
        "outputId": "2b77b456-8294-4f9e-ff58-2808f19ac67c",
        "colab": {
          "base_uri": "https://localhost:8080/",
          "height": 34
        }
      },
      "source": [
        "num *= 2\n",
        "num"
      ],
      "execution_count": 0,
      "outputs": [
        {
          "output_type": "execute_result",
          "data": {
            "text/plain": [
              "30"
            ]
          },
          "metadata": {
            "tags": []
          },
          "execution_count": 16
        }
      ]
    },
    {
      "cell_type": "code",
      "metadata": {
        "id": "EwKLoNXqzt0g",
        "colab_type": "code",
        "outputId": "c42b5667-38ac-41b7-d83e-a12b8c2022b8",
        "colab": {
          "base_uri": "https://localhost:8080/",
          "height": 34
        }
      },
      "source": [
        "bin(100)"
      ],
      "execution_count": 0,
      "outputs": [
        {
          "output_type": "execute_result",
          "data": {
            "text/plain": [
              "'0b1100100'"
            ]
          },
          "metadata": {
            "tags": []
          },
          "execution_count": 17
        }
      ]
    },
    {
      "cell_type": "code",
      "metadata": {
        "id": "Ut_pxvDUzxLM",
        "colab_type": "code",
        "outputId": "52284f2f-91b2-4b44-f0b7-b930e2030266",
        "colab": {
          "base_uri": "https://localhost:8080/",
          "height": 34
        }
      },
      "source": [
        "oct(10)"
      ],
      "execution_count": 0,
      "outputs": [
        {
          "output_type": "execute_result",
          "data": {
            "text/plain": [
              "'0o12'"
            ]
          },
          "metadata": {
            "tags": []
          },
          "execution_count": 18
        }
      ]
    },
    {
      "cell_type": "code",
      "metadata": {
        "id": "SPcv47-wzzd6",
        "colab_type": "code",
        "outputId": "e07ecc28-d598-4b0d-f173-f4be10d4e6af",
        "colab": {
          "base_uri": "https://localhost:8080/",
          "height": 34
        }
      },
      "source": [
        "hex(10)"
      ],
      "execution_count": 0,
      "outputs": [
        {
          "output_type": "execute_result",
          "data": {
            "text/plain": [
              "'0xa'"
            ]
          },
          "metadata": {
            "tags": []
          },
          "execution_count": 19
        }
      ]
    },
    {
      "cell_type": "code",
      "metadata": {
        "id": "lJIrOh8n0KmZ",
        "colab_type": "code",
        "outputId": "f4aa2f60-73b6-4f01-b0d9-4b7c85729968",
        "colab": {
          "base_uri": "https://localhost:8080/",
          "height": 34
        }
      },
      "source": [
        "bin(100)"
      ],
      "execution_count": 0,
      "outputs": [
        {
          "output_type": "execute_result",
          "data": {
            "text/plain": [
              "'0b1100100'"
            ]
          },
          "metadata": {
            "tags": []
          },
          "execution_count": 20
        }
      ]
    },
    {
      "cell_type": "code",
      "metadata": {
        "id": "8pM1VRbM0NzA",
        "colab_type": "code",
        "outputId": "e1bc2308-0e24-4192-c0a2-2848233ab4bd",
        "colab": {
          "base_uri": "https://localhost:8080/",
          "height": 34
        }
      },
      "source": [
        "bin(100 << 2)"
      ],
      "execution_count": 0,
      "outputs": [
        {
          "output_type": "execute_result",
          "data": {
            "text/plain": [
              "'0b110010000'"
            ]
          },
          "metadata": {
            "tags": []
          },
          "execution_count": 21
        }
      ]
    },
    {
      "cell_type": "code",
      "metadata": {
        "id": "R2Q-6_jY0bIZ",
        "colab_type": "code",
        "outputId": "75dc2fef-f8be-4f71-a2d3-378714e78bd5",
        "colab": {
          "base_uri": "https://localhost:8080/",
          "height": 34
        }
      },
      "source": [
        "\"h\" in \"hola\""
      ],
      "execution_count": 0,
      "outputs": [
        {
          "output_type": "execute_result",
          "data": {
            "text/plain": [
              "True"
            ]
          },
          "metadata": {
            "tags": []
          },
          "execution_count": 22
        }
      ]
    },
    {
      "cell_type": "code",
      "metadata": {
        "id": "fFuqtKvU0eI2",
        "colab_type": "code",
        "outputId": "b36b31ec-7b06-4353-d7cb-549881a20483",
        "colab": {
          "base_uri": "https://localhost:8080/",
          "height": 34
        }
      },
      "source": [
        "\"b\" in \"hola\""
      ],
      "execution_count": 0,
      "outputs": [
        {
          "output_type": "execute_result",
          "data": {
            "text/plain": [
              "False"
            ]
          },
          "metadata": {
            "tags": []
          },
          "execution_count": 23
        }
      ]
    },
    {
      "cell_type": "code",
      "metadata": {
        "id": "AMRtj1XL0iks",
        "colab_type": "code",
        "outputId": "22722ffe-f377-4c39-bc27-1efd57358bf8",
        "colab": {
          "base_uri": "https://localhost:8080/",
          "height": 34
        }
      },
      "source": [
        "\"H\" in \"hola\""
      ],
      "execution_count": 0,
      "outputs": [
        {
          "output_type": "execute_result",
          "data": {
            "text/plain": [
              "False"
            ]
          },
          "metadata": {
            "tags": []
          },
          "execution_count": 24
        }
      ]
    },
    {
      "cell_type": "code",
      "metadata": {
        "id": "M-1PGnCr0nHk",
        "colab_type": "code",
        "outputId": "42ea0a23-9e95-4365-db85-aeb4a4618ae9",
        "colab": {
          "base_uri": "https://localhost:8080/",
          "height": 34
        }
      },
      "source": [
        "\"H\" not in \"hola\""
      ],
      "execution_count": 0,
      "outputs": [
        {
          "output_type": "execute_result",
          "data": {
            "text/plain": [
              "True"
            ]
          },
          "metadata": {
            "tags": []
          },
          "execution_count": 25
        }
      ]
    },
    {
      "cell_type": "code",
      "metadata": {
        "id": "OtfRbOjL0usz",
        "colab_type": "code",
        "colab": {}
      },
      "source": [
        "a = 2\n",
        "b = 3"
      ],
      "execution_count": 0,
      "outputs": []
    },
    {
      "cell_type": "code",
      "metadata": {
        "id": "EAwwf_W70w97",
        "colab_type": "code",
        "outputId": "0f410449-fa18-4860-95d6-fa7f2232bab0",
        "colab": {
          "base_uri": "https://localhost:8080/",
          "height": 34
        }
      },
      "source": [
        "a is b"
      ],
      "execution_count": 0,
      "outputs": [
        {
          "output_type": "execute_result",
          "data": {
            "text/plain": [
              "False"
            ]
          },
          "metadata": {
            "tags": []
          },
          "execution_count": 29
        }
      ]
    },
    {
      "cell_type": "code",
      "metadata": {
        "id": "a0oqq_MK1cK7",
        "colab_type": "code",
        "colab": {}
      },
      "source": [
        "var = 150\n",
        "\n",
        "if var < 100:\n",
        "    print('El valor es menor que 100')"
      ],
      "execution_count": 0,
      "outputs": []
    },
    {
      "cell_type": "code",
      "metadata": {
        "id": "yvMwnzUf1v4I",
        "colab_type": "code",
        "outputId": "225b29f4-150d-4388-fddc-fba9c1ddd08a",
        "colab": {
          "base_uri": "https://localhost:8080/",
          "height": 34
        }
      },
      "source": [
        "var = 100\n",
        "\n",
        "if var <= 100:\n",
        "    print('El valor es menor o igual que 100')\n",
        "else:\n",
        "    print('El valor es mayor 100')"
      ],
      "execution_count": 0,
      "outputs": [
        {
          "output_type": "stream",
          "text": [
            "El valor es menor o igual que 100\n"
          ],
          "name": "stdout"
        }
      ]
    },
    {
      "cell_type": "code",
      "metadata": {
        "id": "pw5Am4-b2J8_",
        "colab_type": "code",
        "outputId": "7acb45b3-56bf-4681-b079-c0354cf3521d",
        "colab": {
          "base_uri": "https://localhost:8080/",
          "height": 34
        }
      },
      "source": [
        "var = 150\n",
        "\n",
        "if var < 100:\n",
        "    print('El valor < 100')\n",
        "elif var == 100:\n",
        "    print('El valor es = 100')\n",
        "else:\n",
        "    print('El valor es > 100')"
      ],
      "execution_count": 0,
      "outputs": [
        {
          "output_type": "stream",
          "text": [
            "El valor es > 100\n"
          ],
          "name": "stdout"
        }
      ]
    },
    {
      "cell_type": "markdown",
      "metadata": {
        "id": "2GFsMZbhxawl",
        "colab_type": "text"
      },
      "source": [
        "## Saber si un número es primo o no 1 <= x <= 10"
      ]
    },
    {
      "cell_type": "markdown",
      "metadata": {
        "id": "9QzUD-Jg3irS",
        "colab_type": "text"
      },
      "source": [
        "* and\n",
        "* or\n",
        "* not"
      ]
    },
    {
      "cell_type": "code",
      "metadata": {
        "id": "eMfrEDYn2vJK",
        "colab_type": "code",
        "outputId": "bd9208b4-5814-4be4-9fb2-cd6d434798fd",
        "colab": {
          "base_uri": "https://localhost:8080/",
          "height": 84
        }
      },
      "source": [
        "num = int(input('Ingrese un numero entero: '))\n",
        "\n",
        "if 1 <= num <= 10:\n",
        "    if num == 2 or num == 3 or num == 5 or num == 7:\n",
        "        print('Es primo')\n",
        "    else:\n",
        "        print('No es primo')\n",
        "else:\n",
        "    print('El numero debe estar entre 1 y 10, incluyendolos')\n",
        "\n",
        "num = int(input('Ingrese un numero entero: '))\n",
        "\n",
        "if 1 <= num <= 10:\n",
        "    if num == 2 or num == 3 or num == 5 or num == 7:\n",
        "        print('Es primo')\n",
        "    else:\n",
        "        print('No es primo')\n",
        "else:\n",
        "    print('El numero debe estar entre 1 y 10, incluyendolos')"
      ],
      "execution_count": 0,
      "outputs": [
        {
          "output_type": "stream",
          "text": [
            "Ingrese un numero entero: 2\n",
            "Es primo\n",
            "Ingrese un numero entero: 5\n",
            "Es primo\n"
          ],
          "name": "stdout"
        }
      ]
    },
    {
      "cell_type": "markdown",
      "metadata": {
        "id": "1foxUVj-41B_",
        "colab_type": "text"
      },
      "source": [
        "$f(x) = x**2 + x + 1$"
      ]
    },
    {
      "cell_type": "code",
      "metadata": {
        "id": "c611pKDC4z2l",
        "colab_type": "code",
        "colab": {}
      },
      "source": [
        "def f(x):\n",
        "    print(x**2 + x + 1)"
      ],
      "execution_count": 0,
      "outputs": []
    },
    {
      "cell_type": "code",
      "metadata": {
        "id": "3fuQ4g6J4-Af",
        "colab_type": "code",
        "outputId": "6d51530f-8a62-4681-adb1-bfa3e20ca6e9",
        "colab": {
          "base_uri": "https://localhost:8080/",
          "height": 84
        }
      },
      "source": [
        "f(1)\n",
        "f(2)\n",
        "f(3)\n",
        "f(4)"
      ],
      "execution_count": 0,
      "outputs": [
        {
          "output_type": "stream",
          "text": [
            "3\n",
            "7\n",
            "13\n",
            "21\n"
          ],
          "name": "stdout"
        }
      ]
    },
    {
      "cell_type": "code",
      "metadata": {
        "id": "Hi43Srdb5Ohl",
        "colab_type": "code",
        "colab": {}
      },
      "source": [
        "def esPrimo(num):\n",
        "    if 1 <= num <= 10:\n",
        "        if num == 2 or num == 3 or num == 5 or num == 7:\n",
        "            print('Es primo')\n",
        "        else:\n",
        "            print('No es primo')\n",
        "    else:\n",
        "        print('El numero debe estar entre 1 y 10, incluyendolos')"
      ],
      "execution_count": 0,
      "outputs": []
    },
    {
      "cell_type": "code",
      "metadata": {
        "id": "ba7bMqb65YsK",
        "colab_type": "code",
        "outputId": "50cd8b0b-bca7-4308-f314-9eebac04d3e1",
        "colab": {
          "base_uri": "https://localhost:8080/",
          "height": 185
        }
      },
      "source": [
        "num1 = int(input('Ingrese un numero entero: '))\n",
        "num2 = int(input('Ingrese un numero entero: '))\n",
        "num3 = int(input('Ingrese un numero entero: '))\n",
        "num4 = int(input('Ingrese un numero entero: '))\n",
        "num5 = int(input('Ingrese un numero entero: '))\n",
        "\n",
        "esPrimo(num1)\n",
        "esPrimo(num2)\n",
        "esPrimo(num3)\n",
        "esPrimo(num4)\n",
        "esPrimo(num5)"
      ],
      "execution_count": 0,
      "outputs": [
        {
          "output_type": "stream",
          "text": [
            "Ingrese un numero entero: 2\n",
            "Ingrese un numero entero: 3\n",
            "Ingrese un numero entero: 4\n",
            "Ingrese un numero entero: 5\n",
            "Ingrese un numero entero: 6\n",
            "Es primo\n",
            "Es primo\n",
            "No es primo\n",
            "Es primo\n",
            "No es primo\n"
          ],
          "name": "stdout"
        }
      ]
    },
    {
      "cell_type": "code",
      "metadata": {
        "id": "tuFfRT2k55ZB",
        "colab_type": "code",
        "colab": {}
      },
      "source": [
        "def sumar(num1, num2):\n",
        "    return num1 + num2"
      ],
      "execution_count": 0,
      "outputs": []
    },
    {
      "cell_type": "code",
      "metadata": {
        "id": "x4T29gep5-bX",
        "colab_type": "code",
        "outputId": "11d3b954-af17-4831-f899-155d8bf56f19",
        "colab": {
          "base_uri": "https://localhost:8080/",
          "height": 50
        }
      },
      "source": [
        "print(sumar(2, 3))\n",
        "print(sumar(7, 9))"
      ],
      "execution_count": 0,
      "outputs": [
        {
          "output_type": "stream",
          "text": [
            "5\n",
            "16\n"
          ],
          "name": "stdout"
        }
      ]
    },
    {
      "cell_type": "code",
      "metadata": {
        "id": "4X4NoItd6kh9",
        "colab_type": "code",
        "outputId": "d11c2aae-884d-422c-a695-3a28ddcd6c98",
        "colab": {
          "base_uri": "https://localhost:8080/",
          "height": 84
        }
      },
      "source": [
        "def cambiarNumero(num):\n",
        "    print('numero antes de cambiar en la funcion', num)\n",
        "    num = 5\n",
        "    print('numero despues de cambiar en la funcion', num)\n",
        "\n",
        "num = 10\n",
        "print(num)\n",
        "cambiarNumero(num)\n",
        "print(num)"
      ],
      "execution_count": 0,
      "outputs": [
        {
          "output_type": "stream",
          "text": [
            "10\n",
            "numero antes de cambiar en la funcion 10\n",
            "numero despues de cambiar en la funcion 5\n",
            "10\n"
          ],
          "name": "stdout"
        }
      ]
    },
    {
      "cell_type": "code",
      "metadata": {
        "id": "AcZiENEu6POg",
        "colab_type": "code",
        "outputId": "870023c2-2faa-4107-e0ad-45facf42c926",
        "colab": {
          "base_uri": "https://localhost:8080/",
          "height": 67
        }
      },
      "source": [
        "def cambiarLista(lista):\n",
        "    print(\"Valor en la funcion antes del cambio:\", lista)\n",
        "    lista[2] = 50\n",
        "    print(\"Valor en la funcion despues del cambio:\", lista)\n",
        "\n",
        "lista = [10,20,30]\n",
        "cambiarLista(lista)\n",
        "print(\"Valor fuera de la funcion:\", lista)"
      ],
      "execution_count": 0,
      "outputs": [
        {
          "output_type": "stream",
          "text": [
            "Valor en la funcion antes del cambio: [10, 20, 30]\n",
            "Valor en la funcion despues del cambio: [10, 20, 50]\n",
            "Valor fuera de la funcion: [10, 20, 50]\n"
          ],
          "name": "stdout"
        }
      ]
    },
    {
      "cell_type": "code",
      "metadata": {
        "id": "k3QQwyi571Em",
        "colab_type": "code",
        "outputId": "5e2bf5d0-a3eb-4c54-8cc3-1ba18023d9b0",
        "colab": {
          "base_uri": "https://localhost:8080/",
          "height": 67
        }
      },
      "source": [
        "def cambiarLista(lista):\n",
        "    print(\"Valor en la funcion antes del cambio:\", lista)\n",
        "    lista = [10, 50]\n",
        "    lista[1] = 100\n",
        "    print(\"Valor en la funcion despues del cambio:\", lista)\n",
        "    return lista\n",
        "\n",
        "lista = [10,20,30]\n",
        "lista = cambiarLista(lista)\n",
        "print(\"Valor fuera de la funcion:\", lista)"
      ],
      "execution_count": 0,
      "outputs": [
        {
          "output_type": "stream",
          "text": [
            "Valor en la funcion antes del cambio: [10, 20, 30]\n",
            "Valor en la funcion despues del cambio: [10, 100]\n",
            "Valor fuera de la funcion: [10, 100]\n"
          ],
          "name": "stdout"
        }
      ]
    },
    {
      "cell_type": "markdown",
      "metadata": {
        "id": "-nnPLo2D9MdG",
        "colab_type": "text"
      },
      "source": [
        "# Parametros de la función\n",
        "\n",
        "* Keyargs"
      ]
    },
    {
      "cell_type": "code",
      "metadata": {
        "id": "We6oXrZV9K4R",
        "colab_type": "code",
        "colab": {}
      },
      "source": [
        "def funcion(**kargs):\n",
        "    \"\"\"Funcion\n",
        "    args:\n",
        "        - num1 - entero\n",
        "        - num2 - entero\n",
        "    \"\"\"\n",
        "    num1 = kargs['num1']\n",
        "    num2 = kargs['num2']\n",
        "    print(num1 + num2)"
      ],
      "execution_count": 0,
      "outputs": []
    },
    {
      "cell_type": "code",
      "metadata": {
        "id": "af5NIyXE9jp0",
        "colab_type": "code",
        "outputId": "d48de463-51a8-4b11-b58a-0f03ff0c3522",
        "colab": {
          "base_uri": "https://localhost:8080/",
          "height": 34
        }
      },
      "source": [
        "funcion(num1=2, num2=3)"
      ],
      "execution_count": 0,
      "outputs": [
        {
          "output_type": "stream",
          "text": [
            "5\n"
          ],
          "name": "stdout"
        }
      ]
    },
    {
      "cell_type": "markdown",
      "metadata": {
        "id": "gRV1nbi2-jXr",
        "colab_type": "text"
      },
      "source": [
        "* args"
      ]
    },
    {
      "cell_type": "code",
      "metadata": {
        "id": "3Zci4T2U-hmo",
        "colab_type": "code",
        "colab": {}
      },
      "source": [
        "def sumarTodo(*args):\n",
        "    print(sum(args))"
      ],
      "execution_count": 0,
      "outputs": []
    },
    {
      "cell_type": "code",
      "metadata": {
        "id": "UrysuJP8-puo",
        "colab_type": "code",
        "outputId": "90f4436b-f039-49b9-e032-44f62ed5fcd6",
        "colab": {
          "base_uri": "https://localhost:8080/",
          "height": 34
        }
      },
      "source": [
        "sumarTodo(1, 2, 3, 4, 5, 6, 7, 8, 9, 10)"
      ],
      "execution_count": 0,
      "outputs": [
        {
          "output_type": "stream",
          "text": [
            "55\n"
          ],
          "name": "stdout"
        }
      ]
    },
    {
      "cell_type": "code",
      "metadata": {
        "id": "M_4fq_dv_EJz",
        "colab_type": "code",
        "outputId": "d0c2e8c0-454c-4ced-f04c-e186b61d69fc",
        "colab": {
          "base_uri": "https://localhost:8080/",
          "height": 162
        }
      },
      "source": [
        ""
      ],
      "execution_count": 0,
      "outputs": [
        {
          "output_type": "error",
          "ename": "TypeError",
          "evalue": "ignored",
          "traceback": [
            "\u001b[0;31m---------------------------------------------------------------------------\u001b[0m",
            "\u001b[0;31mTypeError\u001b[0m                                 Traceback (most recent call last)",
            "\u001b[0;32m<ipython-input-93-41c9ed05cc39>\u001b[0m in \u001b[0;36m<module>\u001b[0;34m()\u001b[0m\n\u001b[0;32m----> 1\u001b[0;31m \u001b[0msum\u001b[0m\u001b[0;34m(\u001b[0m\u001b[0;34m{\u001b[0m\u001b[0;34m'hola'\u001b[0m\u001b[0;34m:\u001b[0m \u001b[0;36m3\u001b[0m\u001b[0;34m,\u001b[0m \u001b[0;36m4\u001b[0m\u001b[0;34m:\u001b[0m \u001b[0;36m5\u001b[0m\u001b[0;34m}\u001b[0m\u001b[0;34m)\u001b[0m\u001b[0;34m\u001b[0m\u001b[0;34m\u001b[0m\u001b[0m\n\u001b[0m",
            "\u001b[0;31mTypeError\u001b[0m: unsupported operand type(s) for +: 'int' and 'str'"
          ]
        }
      ]
    },
    {
      "cell_type": "code",
      "metadata": {
        "id": "XAJELe-P_TmL",
        "colab_type": "code",
        "colab": {}
      },
      "source": [
        "def sumar(a, b=5, *args, **kargs):\n",
        "    print(a * b, sum(args), kargs)"
      ],
      "execution_count": 0,
      "outputs": []
    },
    {
      "cell_type": "code",
      "metadata": {
        "id": "hvet8oAS_b8p",
        "colab_type": "code",
        "outputId": "7b689876-2ccc-458e-aaf1-76464a6eb1db",
        "colab": {
          "base_uri": "https://localhost:8080/",
          "height": 34
        }
      },
      "source": [
        "sumar(5, 3, 8, 5, 3, 6, 9, num=1, num2=5)"
      ],
      "execution_count": 0,
      "outputs": [
        {
          "output_type": "stream",
          "text": [
            "15 31 {'num': 1, 'num2': 5}\n"
          ],
          "name": "stdout"
        }
      ]
    },
    {
      "cell_type": "code",
      "metadata": {
        "id": "1eXQJxB0Av1n",
        "colab_type": "code",
        "outputId": "0cb2faa2-dc77-4b39-83bc-edfbeaf8bd44",
        "colab": {
          "base_uri": "https://localhost:8080/",
          "height": 34
        }
      },
      "source": [
        "sumar(2, 3)"
      ],
      "execution_count": 0,
      "outputs": [
        {
          "output_type": "stream",
          "text": [
            "6 0 {}\n"
          ],
          "name": "stdout"
        }
      ]
    },
    {
      "cell_type": "code",
      "metadata": {
        "id": "-Mj78u3xAyLy",
        "colab_type": "code",
        "outputId": "cbb00628-f800-43c8-fa13-975a1511e1cd",
        "colab": {
          "base_uri": "https://localhost:8080/",
          "height": 34
        }
      },
      "source": [
        "sumar(2)"
      ],
      "execution_count": 0,
      "outputs": [
        {
          "output_type": "stream",
          "text": [
            "10 0 {}\n"
          ],
          "name": "stdout"
        }
      ]
    },
    {
      "cell_type": "markdown",
      "metadata": {
        "id": "S8RKXiqKAElY",
        "colab_type": "text"
      },
      "source": [
        "# Validar si un numero es par o impar"
      ]
    },
    {
      "cell_type": "code",
      "metadata": {
        "id": "elq4INS_AI85",
        "colab_type": "code",
        "colab": {}
      },
      "source": [
        "def esPar(num):\n",
        "    if num % 2 == 0:\n",
        "        print('Es par')\n",
        "    else:\n",
        "        print('Es impar')"
      ],
      "execution_count": 0,
      "outputs": []
    },
    {
      "cell_type": "code",
      "metadata": {
        "id": "Q5eNEpLkAWIH",
        "colab_type": "code",
        "outputId": "1568712b-852c-4117-80a9-7c6c2fe346b4",
        "colab": {
          "base_uri": "https://localhost:8080/",
          "height": 34
        }
      },
      "source": [
        "esPar(2)"
      ],
      "execution_count": 0,
      "outputs": [
        {
          "output_type": "stream",
          "text": [
            "Es par\n"
          ],
          "name": "stdout"
        }
      ]
    },
    {
      "cell_type": "code",
      "metadata": {
        "id": "Vg1ipuP3AYPB",
        "colab_type": "code",
        "outputId": "07031bae-585e-494d-f1f4-7b16de5b2a28",
        "colab": {
          "base_uri": "https://localhost:8080/",
          "height": 67
        }
      },
      "source": [
        "esPar(3)\n",
        "esPar(29478984395)\n",
        "esPar(473984098248732492)"
      ],
      "execution_count": 0,
      "outputs": [
        {
          "output_type": "stream",
          "text": [
            "Es impar\n",
            "Es impar\n",
            "Es par\n"
          ],
          "name": "stdout"
        }
      ]
    },
    {
      "cell_type": "markdown",
      "metadata": {
        "id": "A-IkRl0mBCd-",
        "colab_type": "text"
      },
      "source": [
        "# Usar los valores de retorno de las funciones"
      ]
    },
    {
      "cell_type": "code",
      "metadata": {
        "id": "dqgzxVeLBBRq",
        "colab_type": "code",
        "colab": {}
      },
      "source": [
        "def f(a, b):\n",
        "    return a + b + b**2"
      ],
      "execution_count": 0,
      "outputs": []
    },
    {
      "cell_type": "code",
      "metadata": {
        "id": "ijCEEUF1BKo3",
        "colab_type": "code",
        "colab": {}
      },
      "source": [
        "def realizarOperacion(num1, num2):\n",
        "    resultado = f(num1, num2)\n",
        "    return [1] * resultado"
      ],
      "execution_count": 0,
      "outputs": []
    },
    {
      "cell_type": "code",
      "metadata": {
        "id": "4CaTTagRBaMK",
        "colab_type": "code",
        "outputId": "e1627c08-34db-440c-c45f-4670f342839c",
        "colab": {
          "base_uri": "https://localhost:8080/",
          "height": 34
        }
      },
      "source": [
        "realizarOperacion(2, 1)"
      ],
      "execution_count": 0,
      "outputs": [
        {
          "output_type": "execute_result",
          "data": {
            "text/plain": [
              "[1, 1, 1, 1]"
            ]
          },
          "metadata": {
            "tags": []
          },
          "execution_count": 116
        }
      ]
    },
    {
      "cell_type": "code",
      "metadata": {
        "id": "IA_ZZt2mBsd9",
        "colab_type": "code",
        "colab": {}
      },
      "source": [
        "def esPrimo(num):\n",
        "    if num == 2 or num == 3 or num == 5 or num == 7:\n",
        "        return True\n",
        "    else:\n",
        "        return False\n",
        "\n",
        "def esPar(num):\n",
        "    if num % 2 == 0:\n",
        "        return True\n",
        "    else:\n",
        "        return False"
      ],
      "execution_count": 0,
      "outputs": []
    },
    {
      "cell_type": "code",
      "metadata": {
        "id": "KBjf1HnuB9-J",
        "colab_type": "code",
        "colab": {}
      },
      "source": [
        "def esParYPrimo(num):\n",
        "    if esPar(num) and esPrimo(num):\n",
        "        print('El numero es par y primo')\n",
        "    elif esPar(num):\n",
        "        print('El numero es par pero no primo')\n",
        "    elif esPrimo(num):\n",
        "        print('El numero es primo pero no par')\n",
        "    else:\n",
        "        print('El numero no es par ni primo al mismo tiempo')"
      ],
      "execution_count": 0,
      "outputs": []
    },
    {
      "cell_type": "code",
      "metadata": {
        "id": "ImSMirx_CWIb",
        "colab_type": "code",
        "outputId": "a7753a33-7b9b-4e4b-87b8-9602e8477616",
        "colab": {
          "base_uri": "https://localhost:8080/",
          "height": 34
        }
      },
      "source": [
        "esParYPrimo(2)"
      ],
      "execution_count": 0,
      "outputs": [
        {
          "output_type": "stream",
          "text": [
            "El numero es par y primo\n"
          ],
          "name": "stdout"
        }
      ]
    }
  ]
}