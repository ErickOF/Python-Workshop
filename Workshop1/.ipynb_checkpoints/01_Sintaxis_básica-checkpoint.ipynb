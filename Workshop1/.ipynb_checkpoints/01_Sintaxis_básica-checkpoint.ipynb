{
 "cells": [
  {
   "cell_type": "markdown",
   "metadata": {
    "colab_type": "text",
    "id": "emkMA4eoQiwc"
   },
   "source": [
    "# **Identificadores**\n",
    "\n",
    "* Nombre usado para identificar variables, funciones, clases, módulos u otros objetos\n",
    "* Comienzan con una letra de la \"A\" a la \"Z\" (minúscula o mayúscula) o un guión bajo (_) seguido de cero o más letras, guiones bajos y dígitos (del 0 al 9)\n",
    "* No permite caracteres especiales dentro de los identificadores\n",
    "* Es sensible a mayúsculas y minúsculas. *Variable* y *variable* son dos identificadores diferentes\n"
   ]
  },
  {
   "cell_type": "markdown",
   "metadata": {
    "colab_type": "text",
    "id": "KIMW-qE4Q8Tj"
   },
   "source": [
    "### **Uso incorrecto**"
   ]
  },
  {
   "cell_type": "code",
   "execution_count": 0,
   "metadata": {
    "colab": {
     "base_uri": "https://localhost:8080/",
     "height": 34
    },
    "colab_type": "code",
    "id": "P2QFzezfQ63g",
    "outputId": "55dc020b-edc6-4511-bbff-8ab4a4e79a7f"
   },
   "outputs": [
    {
     "name": "stderr",
     "output_type": "stream",
     "text": [
      "UsageError: Line magic function `%numero` not found.\n"
     ]
    }
   ],
   "source": [
    "%numero"
   ]
  },
  {
   "cell_type": "code",
   "execution_count": 0,
   "metadata": {
    "colab": {
     "base_uri": "https://localhost:8080/",
     "height": 131
    },
    "colab_type": "code",
    "id": "FaenQsCCQL3p",
    "outputId": "2f8fd66c-fe1c-4519-ce30-22e13af4c0cc"
   },
   "outputs": [
    {
     "ename": "SyntaxError",
     "evalue": "ignored",
     "output_type": "error",
     "traceback": [
      "\u001b[0;36m  File \u001b[0;32m\"<ipython-input-2-87349090566c>\"\u001b[0;36m, line \u001b[0;32m1\u001b[0m\n\u001b[0;31m    @letra\u001b[0m\n\u001b[0m          ^\u001b[0m\n\u001b[0;31mSyntaxError\u001b[0m\u001b[0;31m:\u001b[0m unexpected EOF while parsing\n"
     ]
    }
   ],
   "source": [
    "@letra"
   ]
  },
  {
   "cell_type": "code",
   "execution_count": 0,
   "metadata": {
    "colab": {
     "base_uri": "https://localhost:8080/",
     "height": 131
    },
    "colab_type": "code",
    "id": "uKhP0m9GQiQN",
    "outputId": "1a25f350-d150-4f16-b046-c7fc076c128e"
   },
   "outputs": [
    {
     "ename": "SyntaxError",
     "evalue": "ignored",
     "output_type": "error",
     "traceback": [
      "\u001b[0;36m  File \u001b[0;32m\"<ipython-input-2-45ba6712564f>\"\u001b[0;36m, line \u001b[0;32m1\u001b[0m\n\u001b[0;31m    $variable\u001b[0m\n\u001b[0m    ^\u001b[0m\n\u001b[0;31mSyntaxError\u001b[0m\u001b[0;31m:\u001b[0m invalid syntax\n"
     ]
    }
   ],
   "source": [
    "$variable"
   ]
  },
  {
   "cell_type": "code",
   "execution_count": 0,
   "metadata": {
    "colab": {
     "base_uri": "https://localhost:8080/",
     "height": 131
    },
    "colab_type": "code",
    "id": "ymN-gg5gRMDC",
    "outputId": "f136a430-2bca-44f4-8059-02e95dae66c6"
   },
   "outputs": [
    {
     "ename": "SyntaxError",
     "evalue": "ignored",
     "output_type": "error",
     "traceback": [
      "\u001b[0;36m  File \u001b[0;32m\"<ipython-input-2-b33bbf24f892>\"\u001b[0;36m, line \u001b[0;32m1\u001b[0m\n\u001b[0;31m    2_variable\u001b[0m\n\u001b[0m     ^\u001b[0m\n\u001b[0;31mSyntaxError\u001b[0m\u001b[0;31m:\u001b[0m invalid token\n"
     ]
    }
   ],
   "source": [
    "2_variable"
   ]
  },
  {
   "cell_type": "markdown",
   "metadata": {
    "colab_type": "text",
    "id": "rl32Oc--RZXt"
   },
   "source": [
    "### **Uso correcto**"
   ]
  },
  {
   "cell_type": "code",
   "execution_count": 0,
   "metadata": {
    "colab": {},
    "colab_type": "code",
    "id": "rZBhmGrHRYKQ"
   },
   "outputs": [],
   "source": [
    "numero: int"
   ]
  },
  {
   "cell_type": "code",
   "execution_count": 0,
   "metadata": {
    "colab": {},
    "colab_type": "code",
    "id": "zjispgR2RjKO"
   },
   "outputs": [],
   "source": [
    "numero2: float"
   ]
  },
  {
   "cell_type": "code",
   "execution_count": 0,
   "metadata": {
    "colab": {},
    "colab_type": "code",
    "id": "KrAyHj6ERnu_"
   },
   "outputs": [],
   "source": [
    "_letra: str"
   ]
  },
  {
   "cell_type": "code",
   "execution_count": 0,
   "metadata": {
    "colab": {},
    "colab_type": "code",
    "id": "UIM5apHZRq7v"
   },
   "outputs": [],
   "source": [
    "numeroDeHijos: int"
   ]
  },
  {
   "cell_type": "code",
   "execution_count": 0,
   "metadata": {
    "colab": {},
    "colab_type": "code",
    "id": "grrrrRsHRuxb"
   },
   "outputs": [],
   "source": [
    "numero_de_primos: int"
   ]
  },
  {
   "cell_type": "markdown",
   "metadata": {
    "colab_type": "text",
    "id": "Wh8izNIPR8Cx"
   },
   "source": [
    "# **Convenciones de nombres para identificadores**\n",
    "\n",
    "* Los nombres de clases comienzan con una letra mayúscula\n",
    "* Todos los demás identificadores comienzan con una letra minúscula\n",
    "* Iniciar un identificador con un solo guión bajo indica que el identificador es privado\n",
    "* Iniciar un identificador con dos guiones bajos indica un fuerte identificador privado\n"
   ]
  },
  {
   "cell_type": "markdown",
   "metadata": {
    "colab_type": "text",
    "id": "iG5B6zHnSOsU"
   },
   "source": [
    "# **Palabras reservadas**\n",
    "* Palabras reservadas y no pueden usarse como constantes o variables ni como nombre de identificador. Solo contienen letras minúsculas\n",
    "\n",
    "![texto alternativo](http://www.computingnerds.com/pictures/reserved.jpg)"
   ]
  },
  {
   "cell_type": "markdown",
   "metadata": {
    "colab_type": "text",
    "id": "I_X4QasaTzbp"
   },
   "source": [
    "# **Líneas e indentación**\n",
    "* Python no usa llaves ({}) para indicar bloques de código, para definiciones de clases y funciones o control de flujo\n",
    "* Bloques de código se denotan por indentación de línea, que se aplica estrictamente\n",
    "* El número de espacios en la indentación es variable, pero todas las declaraciones dentro del bloque deben indentarse en la misma cantidad"
   ]
  },
  {
   "cell_type": "code",
   "execution_count": 0,
   "metadata": {
    "colab": {
     "base_uri": "https://localhost:8080/",
     "height": 34
    },
    "colab_type": "code",
    "id": "QBYV-nL_UBD6",
    "outputId": "77cd49f5-1fe2-4f7e-9c08-b9d69eac7116"
   },
   "outputs": [
    {
     "name": "stdout",
     "output_type": "stream",
     "text": [
      "Menor que 100\n"
     ]
    }
   ],
   "source": [
    "var = 50\n",
    "\n",
    "if var < 100:\n",
    "    print('Menor que 100')\n",
    "else:\n",
    "    print('Mayor que 100')"
   ]
  },
  {
   "cell_type": "markdown",
   "metadata": {
    "colab_type": "text",
    "id": "xmGSCf5yUSTP"
   },
   "source": [
    "# **Declaraciones en múltiples líneas**\n",
    "* Las declaraciones terminan con una nueva línea\n",
    "* Python, permite el uso del carácter de continuación de línea (\\) para indicar que la línea debe continuar"
   ]
  },
  {
   "cell_type": "code",
   "execution_count": 0,
   "metadata": {
    "colab": {},
    "colab_type": "code",
    "id": "gDLww-TgUY-b"
   },
   "outputs": [],
   "source": [
    "total = item1 + \\\n",
    "        item2 + \\\n",
    "        item3"
   ]
  },
  {
   "cell_type": "code",
   "execution_count": 0,
   "metadata": {
    "colab": {
     "base_uri": "https://localhost:8080/",
     "height": 34
    },
    "colab_type": "code",
    "id": "pFuWdxqNUinS",
    "outputId": "f70e7261-3328-463c-8fc9-2d1bf6a0357a"
   },
   "outputs": [
    {
     "data": {
      "text/plain": [
       "6"
      ]
     },
     "execution_count": 10,
     "metadata": {
      "tags": []
     },
     "output_type": "execute_result"
    }
   ],
   "source": [
    "total = 1 + \\\n",
    "        2 + \\\n",
    "        3\n",
    "total"
   ]
  },
  {
   "cell_type": "markdown",
   "metadata": {
    "colab_type": "text",
    "id": "70Rc1PV1U39s"
   },
   "source": [
    "* Las instrucciones contenidas dentro de los corchetes [], {} o () no necesitan usar el carácter de continuación de línea\n",
    "* Si contienen muchos elementos podría separarse para una mejor lectura"
   ]
  },
  {
   "cell_type": "code",
   "execution_count": 0,
   "metadata": {
    "colab": {},
    "colab_type": "code",
    "id": "b8Oq8S42U5Aw"
   },
   "outputs": [],
   "source": [
    "dias = ['Lunes', 'Martes', 'Miercoles', 'Jueves', 'Viernes', 'Sabado', 'Domingo']"
   ]
  },
  {
   "cell_type": "code",
   "execution_count": 0,
   "metadata": {
    "colab": {},
    "colab_type": "code",
    "id": "JyRGmmGEW4N0"
   },
   "outputs": [],
   "source": [
    "numeros = [[1, 2, 3],\n",
    "           [4, 5, 6],\n",
    "           [7, 8, 9]]"
   ]
  },
  {
   "cell_type": "markdown",
   "metadata": {
    "colab_type": "text",
    "id": "2WoNFeZ-XDWu"
   },
   "source": [
    "# **Uso de las comillas**\n",
    "* Se aceptan comillas simples ('), dobles (\") y triples (''' o \"\"\") para denotar cadenas de texto\n",
    "* Siempre el mismo tipo de comillas comienza y finaliza la cadena\n",
    "* Las comillas triples se utilizan para abarcar la cadena en múltiples líneas"
   ]
  },
  {
   "cell_type": "code",
   "execution_count": 0,
   "metadata": {
    "colab": {},
    "colab_type": "code",
    "id": "gyFWhWbTXKpP"
   },
   "outputs": [],
   "source": [
    "palabra = 'palabra'"
   ]
  },
  {
   "cell_type": "code",
   "execution_count": 0,
   "metadata": {
    "colab": {},
    "colab_type": "code",
    "id": "93UcKTvfXOZm"
   },
   "outputs": [],
   "source": [
    "oracion = \"Esto es una oracion\""
   ]
  },
  {
   "cell_type": "code",
   "execution_count": 0,
   "metadata": {
    "colab": {},
    "colab_type": "code",
    "id": "7BWof9_kXVCb"
   },
   "outputs": [],
   "source": [
    "parrafo = \"\"\"Esto es un parrafo.\n",
    "Esta hecho con mutiples oraciones.\"\"\""
   ]
  },
  {
   "cell_type": "markdown",
   "metadata": {
    "colab_type": "text",
    "id": "c3DvGH_NXlRq"
   },
   "source": [
    "# **Comentarios**\n",
    "* Un signo de hash (#), que no esté dentro de comillas, es el comienzo de un comentario\n",
    "* Todos los caracteres después del #, hasta el final de la línea física, son parte del comentario y el intérprete de Python los ignora"
   ]
  },
  {
   "cell_type": "code",
   "execution_count": 0,
   "metadata": {
    "colab": {
     "base_uri": "https://localhost:8080/",
     "height": 34
    },
    "colab_type": "code",
    "id": "_hoVCQGJXryE",
    "outputId": "f082dcb9-e740-449e-9b16-d439fcc6df9f"
   },
   "outputs": [
    {
     "data": {
      "text/plain": [
       "'\\nEsto es un comentario multilinea\\nPuede escribir en distintas lineas\\nSin que marque error\\n'"
      ]
     },
     "execution_count": 16,
     "metadata": {
      "tags": []
     },
     "output_type": "execute_result"
    }
   ],
   "source": [
    "# Esto es un comentario\n",
    "variable = 20 # Esto tambien es un comentario\n",
    "\"\"\"\n",
    "Esto es un comentario multilinea\n",
    "Puede escribir en distintas lineas\n",
    "Sin que marque error\n",
    "\"\"\""
   ]
  }
 ],
 "metadata": {
  "colab": {
   "name": "01 - Sintaxis básica.ipynb",
   "provenance": []
  },
  "kernelspec": {
   "display_name": "Python 3",
   "language": "python",
   "name": "python3"
  },
  "language_info": {
   "codemirror_mode": {
    "name": "ipython",
    "version": 3
   },
   "file_extension": ".py",
   "mimetype": "text/x-python",
   "name": "python",
   "nbconvert_exporter": "python",
   "pygments_lexer": "ipython3",
   "version": "3.6.9"
  }
 },
 "nbformat": 4,
 "nbformat_minor": 1
}
